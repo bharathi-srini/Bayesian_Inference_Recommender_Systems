{
  "nbformat": 4,
  "nbformat_minor": 0,
  "metadata": {
    "colab": {
      "name": "basket_context_embeddings.ipynb",
      "version": "0.3.2",
      "provenance": [],
      "collapsed_sections": [],
      "include_colab_link": true
    },
    "kernelspec": {
      "name": "python3",
      "display_name": "Python 3"
    },
    "accelerator": "GPU"
  },
  "cells": [
    {
      "cell_type": "markdown",
      "metadata": {
        "id": "view-in-github",
        "colab_type": "text"
      },
      "source": [
        "<a href=\"https://colab.research.google.com/github/bharathi-srini/Bayesian_Inference_Recommender_Systems/blob/master/basket_context_embeddings.ipynb\" target=\"_parent\"><img src=\"https://colab.research.google.com/assets/colab-badge.svg\" alt=\"Open In Colab\"/></a>"
      ]
    },
    {
      "metadata": {
        "id": "POu0Lq5ztypS",
        "colab_type": "code",
        "outputId": "e97cb19b-1b7b-4977-d83d-0fae524a7ab7",
        "colab": {
          "base_uri": "https://localhost:8080/",
          "height": 34
        }
      },
      "cell_type": "code",
      "source": [
        "from keras.models import Model\n",
        "from keras.layers.core import Dense, Reshape, Lambda\n",
        "from keras.layers import Input, Embedding, concatenate, Multiply\n",
        "from keras import backend as K\n",
        "from keras import optimizers\n",
        "import pandas as pd\n",
        "import numpy as np\n",
        "from sklearn.model_selection import train_test_split\n",
        "from keras import preprocessing\n",
        "from keras.regularizers import l2\n",
        "import random\n",
        "from keras.layers.advanced_activations import LeakyReLU\n",
        "import keras\n",
        "import time"
      ],
      "execution_count": 1,
      "outputs": [
        {
          "output_type": "stream",
          "text": [
            "Using TensorFlow backend.\n"
          ],
          "name": "stderr"
        }
      ]
    },
    {
      "metadata": {
        "id": "zn4Mhfpvtypd",
        "colab_type": "code",
        "outputId": "685d2904-ce46-46b4-f5eb-6385b5d63119",
        "colab": {
          "base_uri": "https://localhost:8080/",
          "height": 122
        }
      },
      "cell_type": "code",
      "source": [
        "from google.colab import drive\n",
        "drive.mount('/content/gdrive')"
      ],
      "execution_count": 2,
      "outputs": [
        {
          "output_type": "stream",
          "text": [
            "Go to this URL in a browser: https://accounts.google.com/o/oauth2/auth?client_id=947318989803-6bn6qk8qdgf4n4g3pfee6491hc0brc4i.apps.googleusercontent.com&redirect_uri=urn%3Aietf%3Awg%3Aoauth%3A2.0%3Aoob&scope=email%20https%3A%2F%2Fwww.googleapis.com%2Fauth%2Fdocs.test%20https%3A%2F%2Fwww.googleapis.com%2Fauth%2Fdrive%20https%3A%2F%2Fwww.googleapis.com%2Fauth%2Fdrive.photos.readonly%20https%3A%2F%2Fwww.googleapis.com%2Fauth%2Fpeopleapi.readonly&response_type=code\n",
            "\n",
            "Enter your authorization code:\n",
            "··········\n",
            "Mounted at /content/gdrive\n"
          ],
          "name": "stdout"
        }
      ]
    },
    {
      "metadata": {
        "id": "0pkJaybU5umt",
        "colab_type": "code",
        "colab": {}
      },
      "cell_type": "code",
      "source": [
        "# Data of 100 users is used\n",
        "\n",
        "root_path = 'gdrive/My Drive/BNN_RecSys/'\n",
        "df_use = pd.read_csv(root_path+\"data_100.csv\")"
      ],
      "execution_count": 0,
      "outputs": []
    },
    {
      "metadata": {
        "id": "_AiI0glctypg",
        "colab_type": "code",
        "outputId": "a53639cd-b1e0-47e8-9ebe-6ac46626e79a",
        "colab": {
          "base_uri": "https://localhost:8080/",
          "height": 34
        }
      },
      "cell_type": "code",
      "source": [
        "# Number of product IDs available\n",
        "N_products = df_use['product_id'].nunique()\n",
        "N_shoppers = df_use['user_id'].nunique()\n",
        "\n",
        "print(N_products,N_shoppers )"
      ],
      "execution_count": 3,
      "outputs": [
        {
          "output_type": "stream",
          "text": [
            "6018 100\n"
          ],
          "name": "stdout"
        }
      ]
    },
    {
      "metadata": {
        "id": "lLQZzWpKtypn",
        "colab_type": "code",
        "colab": {}
      },
      "cell_type": "code",
      "source": [
        "#Helper to index columns before embeddings\n",
        "def val2idx(df, cols):\n",
        "    val_types = dict()\n",
        "    for c in cols:\n",
        "        val_types[c] = df[c].unique()\n",
        "\n",
        "    val_to_idx = dict()\n",
        "    for k, v in val_types.items():\n",
        "        val_to_idx[k] = {o: i for i, o in enumerate(val_types[k])}\n",
        "\n",
        "    for k, v in val_to_idx.items():\n",
        "        df[k] = df[k].apply(lambda x: v[x]+1)\n",
        "\n",
        "    unique_vals = dict()\n",
        "    for c in cols:\n",
        "        unique_vals[c] = df[c].nunique()\n",
        "\n",
        "    return df, unique_vals"
      ],
      "execution_count": 0,
      "outputs": []
    },
    {
      "metadata": {
        "id": "dLJJr51ltypp",
        "colab_type": "code",
        "colab": {}
      },
      "cell_type": "code",
      "source": [
        "EMBEDDING_COLUMNS = [\"user_id\", \"product_id\"]\n",
        "df_deep, unique_vals = val2idx(df_use, EMBEDDING_COLUMNS)"
      ],
      "execution_count": 0,
      "outputs": []
    },
    {
      "metadata": {
        "id": "TWS71CkQtN1P",
        "colab_type": "code",
        "colab": {
          "base_uri": "https://localhost:8080/",
          "height": 360
        },
        "outputId": "8c464e76-c86e-48cd-a985-959996244066"
      },
      "cell_type": "code",
      "source": [
        "# Creating an order size columns for creating purchase sequences later\n",
        "order_size = pd.DataFrame(df_deep.groupby(['order_id']).size())\n",
        "order_size = order_size.reset_index()\n",
        "order_size.columns = {'order_id','size'}\n",
        "\n",
        "df_deep = df_deep.merge(order_size, how='left', on='order_id')\n",
        "df_deep.head()"
      ],
      "execution_count": 6,
      "outputs": [
        {
          "output_type": "execute_result",
          "data": {
            "text/html": [
              "<div>\n",
              "<style scoped>\n",
              "    .dataframe tbody tr th:only-of-type {\n",
              "        vertical-align: middle;\n",
              "    }\n",
              "\n",
              "    .dataframe tbody tr th {\n",
              "        vertical-align: top;\n",
              "    }\n",
              "\n",
              "    .dataframe thead th {\n",
              "        text-align: right;\n",
              "    }\n",
              "</style>\n",
              "<table border=\"1\" class=\"dataframe\">\n",
              "  <thead>\n",
              "    <tr style=\"text-align: right;\">\n",
              "      <th></th>\n",
              "      <th>Unnamed: 0</th>\n",
              "      <th>order_id</th>\n",
              "      <th>product_id</th>\n",
              "      <th>add_to_cart_order</th>\n",
              "      <th>reordered</th>\n",
              "      <th>user_id</th>\n",
              "      <th>order_number</th>\n",
              "      <th>order_dow</th>\n",
              "      <th>order_hour_of_day</th>\n",
              "      <th>days_since_prior_order</th>\n",
              "      <th>product_name</th>\n",
              "      <th>aisle_id</th>\n",
              "      <th>department_id</th>\n",
              "      <th>department</th>\n",
              "      <th>size</th>\n",
              "    </tr>\n",
              "  </thead>\n",
              "  <tbody>\n",
              "    <tr>\n",
              "      <th>0</th>\n",
              "      <td>9252892</td>\n",
              "      <td>976653</td>\n",
              "      <td>1</td>\n",
              "      <td>10</td>\n",
              "      <td>1</td>\n",
              "      <td>1</td>\n",
              "      <td>8</td>\n",
              "      <td>2</td>\n",
              "      <td>11</td>\n",
              "      <td>14.000000</td>\n",
              "      <td>Pecan Pie Fruit &amp; Nut Food Bar</td>\n",
              "      <td>3</td>\n",
              "      <td>19</td>\n",
              "      <td>snacks</td>\n",
              "      <td>12</td>\n",
              "    </tr>\n",
              "    <tr>\n",
              "      <th>1</th>\n",
              "      <td>31936762</td>\n",
              "      <td>3368597</td>\n",
              "      <td>2</td>\n",
              "      <td>6</td>\n",
              "      <td>1</td>\n",
              "      <td>1</td>\n",
              "      <td>7</td>\n",
              "      <td>2</td>\n",
              "      <td>14</td>\n",
              "      <td>11.000000</td>\n",
              "      <td>Lowfat Key Lime Yogurt</td>\n",
              "      <td>120</td>\n",
              "      <td>16</td>\n",
              "      <td>dairy eggs</td>\n",
              "      <td>12</td>\n",
              "    </tr>\n",
              "    <tr>\n",
              "      <th>2</th>\n",
              "      <td>33336496</td>\n",
              "      <td>2226284</td>\n",
              "      <td>3</td>\n",
              "      <td>14</td>\n",
              "      <td>1</td>\n",
              "      <td>1</td>\n",
              "      <td>14</td>\n",
              "      <td>6</td>\n",
              "      <td>13</td>\n",
              "      <td>20.000000</td>\n",
              "      <td>Organic Raspberry Lowfat Yogurt</td>\n",
              "      <td>120</td>\n",
              "      <td>16</td>\n",
              "      <td>dairy eggs</td>\n",
              "      <td>17</td>\n",
              "    </tr>\n",
              "    <tr>\n",
              "      <th>3</th>\n",
              "      <td>31936766</td>\n",
              "      <td>3368597</td>\n",
              "      <td>4</td>\n",
              "      <td>10</td>\n",
              "      <td>0</td>\n",
              "      <td>1</td>\n",
              "      <td>7</td>\n",
              "      <td>2</td>\n",
              "      <td>14</td>\n",
              "      <td>11.000000</td>\n",
              "      <td>Gluten Free Pretzel Sticks</td>\n",
              "      <td>107</td>\n",
              "      <td>19</td>\n",
              "      <td>snacks</td>\n",
              "      <td>12</td>\n",
              "    </tr>\n",
              "    <tr>\n",
              "      <th>4</th>\n",
              "      <td>10580466</td>\n",
              "      <td>1116941</td>\n",
              "      <td>5</td>\n",
              "      <td>9</td>\n",
              "      <td>0</td>\n",
              "      <td>1</td>\n",
              "      <td>1</td>\n",
              "      <td>6</td>\n",
              "      <td>8</td>\n",
              "      <td>11.364153</td>\n",
              "      <td>Medium Cheddar Cheese Block</td>\n",
              "      <td>21</td>\n",
              "      <td>16</td>\n",
              "      <td>dairy eggs</td>\n",
              "      <td>11</td>\n",
              "    </tr>\n",
              "  </tbody>\n",
              "</table>\n",
              "</div>"
            ],
            "text/plain": [
              "   Unnamed: 0  order_id  product_id  add_to_cart_order  reordered  user_id  \\\n",
              "0     9252892    976653           1                 10          1        1   \n",
              "1    31936762   3368597           2                  6          1        1   \n",
              "2    33336496   2226284           3                 14          1        1   \n",
              "3    31936766   3368597           4                 10          0        1   \n",
              "4    10580466   1116941           5                  9          0        1   \n",
              "\n",
              "   order_number  order_dow  order_hour_of_day  days_since_prior_order  \\\n",
              "0             8          2                 11               14.000000   \n",
              "1             7          2                 14               11.000000   \n",
              "2            14          6                 13               20.000000   \n",
              "3             7          2                 14               11.000000   \n",
              "4             1          6                  8               11.364153   \n",
              "\n",
              "                      product_name  aisle_id  department_id  department  size  \n",
              "0   Pecan Pie Fruit & Nut Food Bar         3             19      snacks    12  \n",
              "1           Lowfat Key Lime Yogurt       120             16  dairy eggs    12  \n",
              "2  Organic Raspberry Lowfat Yogurt       120             16  dairy eggs    17  \n",
              "3       Gluten Free Pretzel Sticks       107             19      snacks    12  \n",
              "4      Medium Cheddar Cheese Block        21             16  dairy eggs    11  "
            ]
          },
          "metadata": {
            "tags": []
          },
          "execution_count": 6
        }
      ]
    },
    {
      "metadata": {
        "id": "36CkAgPfrLO2",
        "colab_type": "code",
        "colab": {}
      },
      "cell_type": "code",
      "source": [
        "# For every order, we create a row with product ordered and the next product added to basket\n",
        "orders_list = df_deep.order_id.unique()\n",
        "first_prod = []\n",
        "next_prod = []\n",
        "order_ids = []\n",
        "\n",
        "for order in orders_list:\n",
        "  temp = df_deep[df_deep.order_id == order]\n",
        "  for i in range(int(temp.size) - 1):\n",
        "    order_ids.append((temp[temp.add_to_cart_order == i].order_id).values)\n",
        "    first_prod.append((temp[temp.add_to_cart_order == i].product_id).values)\n",
        "    next_prod.append((temp[temp.add_to_cart_order == i+1].product_id).values)"
      ],
      "execution_count": 0,
      "outputs": []
    },
    {
      "metadata": {
        "id": "ffpxQKAKtypr",
        "colab_type": "code",
        "colab": {}
      },
      "cell_type": "code",
      "source": [
        "# Creating dataframe with these sequences\n",
        "sequence_df = pd.DataFrame(columns={'order_id','first_prod','next_prod'} )\n",
        "sequence_df.order_id = order_ids\n",
        "sequence_df.first_prod = first_prod\n",
        "sequence_df.next_prod = next_prod\n",
        "\n",
        "for col in sequence_df.columns:\n",
        "  sequence_df[col] = sequence_df[col].apply(pd.Series)\n",
        "  \n",
        "sequence_df = sequence_df.dropna()\n",
        "sequence_df.to_csv(root_path + 'sequence.csv')"
      ],
      "execution_count": 0,
      "outputs": []
    },
    {
      "metadata": {
        "id": "NaHdKEYt54w0",
        "colab_type": "code",
        "colab": {}
      },
      "cell_type": "code",
      "source": [
        "sequence_df = pd.read_csv(root_path + 'sequence.csv')"
      ],
      "execution_count": 0,
      "outputs": []
    },
    {
      "metadata": {
        "id": "MHhzMCFu6Lp7",
        "colab_type": "code",
        "colab": {}
      },
      "cell_type": "code",
      "source": [
        "merged1 = pd.merge(sequence_df, df_deep[['order_id', 'user_id']], how='left', on='order_id')\n",
        "merged1 = merged1.drop_duplicates()\n",
        "merged1.head()"
      ],
      "execution_count": 0,
      "outputs": []
    },
    {
      "metadata": {
        "id": "FtuIfaBbtyp9",
        "colab_type": "code",
        "colab": {}
      },
      "cell_type": "code",
      "source": [
        "basket =df_deep.groupby(['order_id', 'product_id']).size().unstack(fill_value=0)\n",
        "basket = basket.reset_index()\n",
        "\n",
        "#Making dataframe sizes equal with a merge\n",
        "merged = pd.merge(sequence_df, basket, how='left', on='order_id')\n",
        "merged.shape\n",
        "merged.to_csv(root_path + 'sequence_final.csv')"
      ],
      "execution_count": 0,
      "outputs": []
    },
    {
      "metadata": {
        "id": "U2wreJ8lxFa9",
        "colab_type": "code",
        "colab": {
          "base_uri": "https://localhost:8080/",
          "height": 221
        },
        "outputId": "f452e011-e890-455a-e6a4-3769445ebbc3"
      },
      "cell_type": "code",
      "source": [
        "print(merged.shape, merged1.shape, sequence_df.shape)\n",
        "sequence_df.head()"
      ],
      "execution_count": 18,
      "outputs": [
        {
          "output_type": "stream",
          "text": [
            "(36572, 6022) (36572, 5) (36572, 4)\n"
          ],
          "name": "stdout"
        },
        {
          "output_type": "execute_result",
          "data": {
            "text/html": [
              "<div>\n",
              "<style scoped>\n",
              "    .dataframe tbody tr th:only-of-type {\n",
              "        vertical-align: middle;\n",
              "    }\n",
              "\n",
              "    .dataframe tbody tr th {\n",
              "        vertical-align: top;\n",
              "    }\n",
              "\n",
              "    .dataframe thead th {\n",
              "        text-align: right;\n",
              "    }\n",
              "</style>\n",
              "<table border=\"1\" class=\"dataframe\">\n",
              "  <thead>\n",
              "    <tr style=\"text-align: right;\">\n",
              "      <th></th>\n",
              "      <th>Unnamed: 0</th>\n",
              "      <th>order_id</th>\n",
              "      <th>first_prod</th>\n",
              "      <th>next_prod</th>\n",
              "    </tr>\n",
              "  </thead>\n",
              "  <tbody>\n",
              "    <tr>\n",
              "      <th>0</th>\n",
              "      <td>1</td>\n",
              "      <td>976653.0</td>\n",
              "      <td>2.0</td>\n",
              "      <td>29.0</td>\n",
              "    </tr>\n",
              "    <tr>\n",
              "      <th>1</th>\n",
              "      <td>2</td>\n",
              "      <td>976653.0</td>\n",
              "      <td>29.0</td>\n",
              "      <td>17.0</td>\n",
              "    </tr>\n",
              "    <tr>\n",
              "      <th>2</th>\n",
              "      <td>3</td>\n",
              "      <td>976653.0</td>\n",
              "      <td>17.0</td>\n",
              "      <td>26.0</td>\n",
              "    </tr>\n",
              "    <tr>\n",
              "      <th>3</th>\n",
              "      <td>4</td>\n",
              "      <td>976653.0</td>\n",
              "      <td>26.0</td>\n",
              "      <td>32.0</td>\n",
              "    </tr>\n",
              "    <tr>\n",
              "      <th>4</th>\n",
              "      <td>5</td>\n",
              "      <td>976653.0</td>\n",
              "      <td>32.0</td>\n",
              "      <td>19.0</td>\n",
              "    </tr>\n",
              "  </tbody>\n",
              "</table>\n",
              "</div>"
            ],
            "text/plain": [
              "   Unnamed: 0  order_id  first_prod  next_prod\n",
              "0           1  976653.0         2.0       29.0\n",
              "1           2  976653.0        29.0       17.0\n",
              "2           3  976653.0        17.0       26.0\n",
              "3           4  976653.0        26.0       32.0\n",
              "4           5  976653.0        32.0       19.0"
            ]
          },
          "metadata": {
            "tags": []
          },
          "execution_count": 18
        }
      ]
    },
    {
      "metadata": {
        "id": "8DgEu9Bjw26O",
        "colab_type": "code",
        "colab": {
          "base_uri": "https://localhost:8080/",
          "height": 88
        },
        "outputId": "6f44a41a-1d42-427f-d6d0-f5513ab7a148"
      },
      "cell_type": "code",
      "source": [
        "# Input for neural network\n",
        "\n",
        "product_in = merged['first_prod']\n",
        "user_in = merged1['user_id']\n",
        "\n",
        "basket = merged.drop(['Unnamed: 0', 'order_id','first_prod', 'next_prod'], axis=1)\n",
        "\n",
        "sequence_df['next_prod'] = sequence_df['next_prod'].astype('category', categories = df_deep.product_id.unique())\n",
        "predicted_product = pd.get_dummies(sequence_df, columns = ['next_prod'])\n",
        "predicted_product.drop(['Unnamed: 0','order_id','first_prod'], axis=1, inplace=True)\n",
        "\n",
        "print(product_in.shape, user_in.shape,basket.shape, predicted_product.shape)"
      ],
      "execution_count": 22,
      "outputs": [
        {
          "output_type": "stream",
          "text": [
            "/usr/local/lib/python3.6/dist-packages/ipykernel_launcher.py:7: FutureWarning: specifying 'categories' or 'ordered' in .astype() is deprecated; pass a CategoricalDtype instead\n",
            "  import sys\n"
          ],
          "name": "stderr"
        },
        {
          "output_type": "stream",
          "text": [
            "(36572,) (36572,) (36572, 6018) (36572, 6018)\n"
          ],
          "name": "stdout"
        }
      ]
    },
    {
      "metadata": {
        "id": "iMvqOvYQtyqL",
        "colab_type": "code",
        "outputId": "07e24a6e-a907-48c7-e39f-3e66d8e11284",
        "colab": {
          "base_uri": "https://localhost:8080/",
          "height": 170
        }
      },
      "cell_type": "code",
      "source": [
        "# Test - Train Split\n",
        "product_tr, product_te, predicted_tr, predicted_te, index_train, index_test = train_test_split(product_in, predicted_product,product_in.index, test_size=0.20,\\\n",
        "                                                                    random_state=42)\n",
        "\n",
        "user_tr = user_in[index_train]\n",
        "user_te = user_in[index_test]\n",
        "\n",
        "basket_tr = basket.loc[index_train]\n",
        "basket_te = basket.loc[index_test]\n",
        "\n",
        "print(product_tr.shape, user_tr.shape, predicted_tr.shape, basket_tr.shape)\n",
        "print(product_te.shape, user_te.shape, predicted_te.shape, basket_te.shape)"
      ],
      "execution_count": 24,
      "outputs": [
        {
          "output_type": "stream",
          "text": [
            "/usr/local/lib/python3.6/dist-packages/pandas/core/series.py:696: FutureWarning: \n",
            "Passing list-likes to .loc or [] with any missing label will raise\n",
            "KeyError in the future, you can use .reindex() as an alternative.\n",
            "\n",
            "See the documentation here:\n",
            "http://pandas.pydata.org/pandas-docs/stable/indexing.html#deprecate-loc-reindex-listlike\n",
            "  return self.loc[key]\n"
          ],
          "name": "stderr"
        },
        {
          "output_type": "stream",
          "text": [
            "(29257,) (29257,) (29257, 6018) (29257, 6018)\n",
            "(7315,) (7315,) (7315, 6018) (7315, 6018)\n"
          ],
          "name": "stdout"
        }
      ]
    },
    {
      "metadata": {
        "id": "Qw8DeOK3tyqS",
        "colab_type": "code",
        "colab": {
          "base_uri": "https://localhost:8080/",
          "height": 54
        },
        "outputId": "3ebe9edb-cc6a-49a1-a7a2-df1097c824b2"
      },
      "cell_type": "code",
      "source": [
        "# Integer IDs representing 1-hot encodings\n",
        "prior_in = Input(shape=(1,))\n",
        "shopper_in = Input(shape=(1,))\n",
        "\n",
        "# Dense N-hot encoding for candidate products\n",
        "candidates_in = Input(shape=(N_products,))\n",
        "\n",
        "# Embeddings\n",
        "prior = Embedding(N_products+1, 10)(prior_in)\n",
        "shopper = Embedding(N_shoppers+1, 10)(shopper_in)\n",
        "\n",
        "# Reshape and merge all embeddings together\n",
        "reshape = Reshape(target_shape=(10,))\n",
        "combined = keras.layers.concatenate([reshape(prior), reshape(shopper)])\n",
        "\n",
        "# Hidden layers\n",
        "hidden_1 = Dense(512, activation='relu')(combined)\n",
        "hidden_2 = Dense(256, activation='relu')(hidden_1)\n",
        "hidden_3 = Dense(128, activation='relu')(hidden_2)\n",
        "hidden_4 = Dense(50, activation='linear')(hidden_3)\n",
        "\n",
        "# Final 'fan-out' into the space of future products\n",
        "final = Dense(N_products, activation='linear')(hidden_4)\n",
        "\n",
        "# Ensure we do not overflow when we exponentiate\n",
        "final = Lambda(lambda x: x - K.max(x))(final)\n",
        "\n",
        "# Masked soft-max using Lambda and merge-multiplication\n",
        "exponentiate = Lambda(lambda x: K.exp(x))(final)\n",
        "masked = keras.layers.multiply([exponentiate, candidates_in])\n",
        "predicted = Lambda(lambda x: x / K.sum(x))(masked)\n",
        "\n",
        "# Compile with categorical crossentropy and adam\n",
        "mdl = Model(input=[prior_in , shopper_in, candidates_in],\n",
        "            output=predicted)\n",
        "mdl.compile(loss='categorical_crossentropy', \n",
        "            optimizer=optimizers.Adam(),\n",
        "            metrics=['accuracy'])"
      ],
      "execution_count": 100,
      "outputs": [
        {
          "output_type": "stream",
          "text": [
            "/usr/local/lib/python3.6/dist-packages/ipykernel_launcher.py:34: UserWarning: Update your `Model` call to the Keras 2 API: `Model(inputs=[<tf.Tenso..., outputs=Tensor(\"la...)`\n"
          ],
          "name": "stderr"
        }
      ]
    },
    {
      "metadata": {
        "id": "G04st4BJtyqU",
        "colab_type": "code",
        "outputId": "e9754622-d81a-4138-85f2-f28e0e9e28fe",
        "colab": {
          "base_uri": "https://localhost:8080/",
          "height": 34
        }
      },
      "cell_type": "code",
      "source": [
        "start = time.clock()\n",
        "out = mdl.fit([product_tr , user_tr, basket_tr], predicted_tr ,batch_size=128,\n",
        "                    epochs=30,\n",
        "                    verbose=0)\n",
        "print(time.clock() - start)"
      ],
      "execution_count": 101,
      "outputs": [
        {
          "output_type": "stream",
          "text": [
            "522.8662059999988\n"
          ],
          "name": "stdout"
        }
      ]
    },
    {
      "metadata": {
        "id": "x0Z3f6Kctyqh",
        "colab_type": "code",
        "outputId": "baab1b07-7753-4bad-bdfc-4c274fd1e682",
        "colab": {
          "base_uri": "https://localhost:8080/",
          "height": 347
        }
      },
      "cell_type": "code",
      "source": [
        "import matplotlib.pyplot as plt\n",
        "plt.figure()\n",
        "plt.plot(out.history['acc'])\n",
        "plt.show()"
      ],
      "execution_count": 102,
      "outputs": [
        {
          "output_type": "display_data",
          "data": {
            "image/png": "[encoded data removed]",
            "text/plain": [
              "<Figure size 576x396 with 1 Axes>"
            ]
          },
          "metadata": {
            "tags": []
          }
        }
      ]
    },
    {
      "metadata": {
        "id": "AonKZcOz26i4",
        "colab_type": "code",
        "outputId": "8427f120-1a17-4a58-d83a-392eba160338",
        "colab": {
          "base_uri": "https://localhost:8080/",
          "height": 34
        }
      },
      "cell_type": "code",
      "source": [
        "model_json = mdl.to_json()\n",
        "with open(root_path+\"NN_embed_model.json\", \"w\") as json_file:\n",
        "    json_file.write(model_json)\n",
        "# serialize weights to HDF5\n",
        "mdl.save_weights(root_path+\"NN_embed_model_weights.h5\")\n",
        "print(\"Saved model to drive\")"
      ],
      "execution_count": 103,
      "outputs": [
        {
          "output_type": "stream",
          "text": [
            "Saved model to drive\n"
          ],
          "name": "stdout"
        }
      ]
    },
    {
      "metadata": {
        "id": "tNVf-i82dklx",
        "colab_type": "code",
        "colab": {
          "base_uri": "https://localhost:8080/",
          "height": 34
        },
        "outputId": "4c422bb3-3029-4113-ceec-08dfbd97e95b"
      },
      "cell_type": "code",
      "source": [
        "results = mdl.evaluate([product_te , user_te, basket_te], predicted_te)"
      ],
      "execution_count": 104,
      "outputs": [
        {
          "output_type": "stream",
          "text": [
            "7315/7315 [==============================] - 4s 538us/step\n"
          ],
          "name": "stdout"
        }
      ]
    },
    {
      "metadata": {
        "id": "yhlDSkXrAaAb",
        "colab_type": "code",
        "colab": {
          "base_uri": "https://localhost:8080/",
          "height": 34
        },
        "outputId": "c996409e-f96b-41b7-d659-b6961377815d"
      },
      "cell_type": "code",
      "source": [
        "results"
      ],
      "execution_count": 105,
      "outputs": [
        {
          "output_type": "execute_result",
          "data": {
            "text/plain": [
              "[1.1920930376163597e-07, 0.0]"
            ]
          },
          "metadata": {
            "tags": []
          },
          "execution_count": 105
        }
      ]
    }
  ]
}