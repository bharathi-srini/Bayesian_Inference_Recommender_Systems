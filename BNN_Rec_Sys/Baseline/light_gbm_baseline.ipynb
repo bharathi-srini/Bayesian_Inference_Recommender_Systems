{
  "nbformat": 4,
  "nbformat_minor": 0,
  "metadata": {
    "colab": {
      "name": "light_gbm_baseline.ipynb",
      "version": "0.3.2",
      "provenance": [],
      "collapsed_sections": [],
      "include_colab_link": true
    },
    "kernelspec": {
      "name": "python3",
      "display_name": "Python 3"
    }
  },
  "cells": [
    {
      "cell_type": "markdown",
      "metadata": {
        "id": "view-in-github",
        "colab_type": "text"
      },
      "source": [
        "<a href=\"https://colab.research.google.com/github/bharathi-srini/Bayesian_Inference_Recommender_Systems/blob/master/light_gbm_baseline.ipynb\" target=\"_parent\"><img src=\"https://colab.research.google.com/assets/colab-badge.svg\" alt=\"Open In Colab\"/></a>"
      ]
    },
    {
      "metadata": {
        "id": "Q5BWewW-5EY1",
        "colab_type": "code",
        "colab": {}
      },
      "cell_type": "code",
      "source": [
        "import numpy as np\n",
        "import pandas as pd\n",
        "import lightgbm as lgb\n",
        "\n",
        "from sklearn.metrics import mean_squared_error\n",
        "from sklearn.model_selection import GridSearchCV, train_test_split\n",
        "\n",
        "import matplotlib.pyplot as plt"
      ],
      "execution_count": 0,
      "outputs": []
    },
    {
      "metadata": {
        "id": "o5iXZZit5uXi",
        "colab_type": "code",
        "colab": {
          "base_uri": "https://localhost:8080/",
          "height": 34
        },
        "outputId": "819c8c85-fb01-495a-8dfe-6b7fdcfe356b"
      },
      "cell_type": "code",
      "source": [
        "from google.colab import drive\n",
        "drive.mount('/content/gdrive')\n",
        "\n",
        "root_path = 'gdrive/My Drive/BNN_RecSys/'\n",
        "\n",
        "df_use = pd.read_csv(root_path+\"engineered_data_100.csv\")"
      ],
      "execution_count": 84,
      "outputs": [
        {
          "output_type": "stream",
          "text": [
            "Drive already mounted at /content/gdrive; to attempt to forcibly remount, call drive.mount(\"/content/gdrive\", force_remount=True).\n"
          ],
          "name": "stdout"
        }
      ]
    },
    {
      "metadata": {
        "id": "_FlbSP2h9KQt",
        "colab_type": "code",
        "colab": {}
      },
      "cell_type": "code",
      "source": [
        "train_orders, test_orders, y_tr, y_te = train_test_split(df_use, df_use['reordered'], stratify=df_use['reordered'], random_state = 100, test_size=0.25)"
      ],
      "execution_count": 0,
      "outputs": []
    },
    {
      "metadata": {
        "id": "8NuvRtVtH8Vh",
        "colab_type": "code",
        "colab": {
          "base_uri": "https://localhost:8080/",
          "height": 425
        },
        "outputId": "3357212d-f4cd-43c0-f73f-77d02cfdbe73"
      },
      "cell_type": "code",
      "source": [
        "CATEGORICAL_COLUMNS = [\"order_dow\", \"order_hour_of_day\",\"aisle_id\",\"department_id\"]\n",
        "CONTINUOUS_COLUMNS = [\"days_since_prior_order\",\"order_number\",\"add_to_cart_order\",\"reordered_total\",\"product_id_orders\",\"user_distinct_products\",\"user_period\",\\\n",
        "                     \"user_orders\",\"average_cart_position\"]\n",
        "#Feature Scaling\n",
        "from sklearn.preprocessing import StandardScaler\n",
        "sc=StandardScaler()\n",
        "train_orders[CONTINUOUS_COLUMNS] = sc.fit_transform(train_orders[CONTINUOUS_COLUMNS].values)\n",
        "test_orders[CONTINUOUS_COLUMNS] = sc.fit_transform(test_orders[CONTINUOUS_COLUMNS].values)"
      ],
      "execution_count": 86,
      "outputs": [
        {
          "output_type": "stream",
          "text": [
            "/usr/local/lib/python3.6/dist-packages/ipykernel_launcher.py:6: SettingWithCopyWarning: \n",
            "A value is trying to be set on a copy of a slice from a DataFrame.\n",
            "Try using .loc[row_indexer,col_indexer] = value instead\n",
            "\n",
            "See the caveats in the documentation: http://pandas.pydata.org/pandas-docs/stable/indexing.html#indexing-view-versus-copy\n",
            "  \n",
            "/usr/local/lib/python3.6/dist-packages/pandas/core/indexing.py:537: SettingWithCopyWarning: \n",
            "A value is trying to be set on a copy of a slice from a DataFrame.\n",
            "Try using .loc[row_indexer,col_indexer] = value instead\n",
            "\n",
            "See the caveats in the documentation: http://pandas.pydata.org/pandas-docs/stable/indexing.html#indexing-view-versus-copy\n",
            "  self.obj[item] = s\n",
            "/usr/local/lib/python3.6/dist-packages/ipykernel_launcher.py:7: SettingWithCopyWarning: \n",
            "A value is trying to be set on a copy of a slice from a DataFrame.\n",
            "Try using .loc[row_indexer,col_indexer] = value instead\n",
            "\n",
            "See the caveats in the documentation: http://pandas.pydata.org/pandas-docs/stable/indexing.html#indexing-view-versus-copy\n",
            "  import sys\n",
            "/usr/local/lib/python3.6/dist-packages/pandas/core/indexing.py:537: SettingWithCopyWarning: \n",
            "A value is trying to be set on a copy of a slice from a DataFrame.\n",
            "Try using .loc[row_indexer,col_indexer] = value instead\n",
            "\n",
            "See the caveats in the documentation: http://pandas.pydata.org/pandas-docs/stable/indexing.html#indexing-view-versus-copy\n",
            "  self.obj[item] = s\n"
          ],
          "name": "stderr"
        }
      ]
    },
    {
      "metadata": {
        "id": "oodixhjB59VK",
        "colab_type": "code",
        "colab": {
          "base_uri": "https://localhost:8080/",
          "height": 34
        },
        "outputId": "e1e9bf8b-649c-4493-ae17-e48308e6570d"
      },
      "cell_type": "code",
      "source": [
        "f_to_use = CATEGORICAL_COLUMNS + CONTINUOUS_COLUMNS\n",
        "\n",
        "\n",
        "print('formating for lgb')\n",
        "d_train = lgb.Dataset(train_orders[f_to_use],categorical_feature=['aisle_id', 'department_id', \"order_dow\", \"order_hour_of_day\"], label =y_tr )  # , 'order_hour_of_day', 'dow'"
      ],
      "execution_count": 87,
      "outputs": [
        {
          "output_type": "stream",
          "text": [
            "formating for lgb\n"
          ],
          "name": "stdout"
        }
      ]
    },
    {
      "metadata": {
        "id": "czAZhB107nRs",
        "colab_type": "code",
        "colab": {}
      },
      "cell_type": "code",
      "source": [
        "params = {\n",
        "    'task': 'train',\n",
        "    'boosting_type': 'gbdt',\n",
        "    'objective': 'binary',\n",
        "    'metric': {'binary_logloss'},\n",
        "    'num_leaves': 96,\n",
        "    'max_depth': 10,\n",
        "    'feature_fraction': 0.9,\n",
        "    'bagging_fraction': 0.95,\n",
        "    'bagging_freq': 5\n",
        "}\n",
        "ROUNDS = 100"
      ],
      "execution_count": 0,
      "outputs": []
    },
    {
      "metadata": {
        "id": "ULcEHiyQ7qt_",
        "colab_type": "code",
        "colab": {
          "base_uri": "https://localhost:8080/",
          "height": 68
        },
        "outputId": "d315bba6-62ce-429d-f889-4501d4ed79ea"
      },
      "cell_type": "code",
      "source": [
        "print('light GBM train :-)')\n",
        "bst = lgb.train(params, d_train, ROUNDS)"
      ],
      "execution_count": 89,
      "outputs": [
        {
          "output_type": "stream",
          "text": [
            "light GBM train :-)\n"
          ],
          "name": "stdout"
        },
        {
          "output_type": "stream",
          "text": [
            "/usr/local/lib/python3.6/dist-packages/lightgbm/basic.py:1205: UserWarning: Using categorical_feature in Dataset.\n",
            "  warnings.warn('Using categorical_feature in Dataset.')\n"
          ],
          "name": "stderr"
        }
      ]
    },
    {
      "metadata": {
        "id": "4N6fIle_7zK7",
        "colab_type": "code",
        "colab": {
          "base_uri": "https://localhost:8080/",
          "height": 136
        },
        "outputId": "a0137286-61de-4560-f807-a8ef9b582026"
      },
      "cell_type": "code",
      "source": [
        "#df_test = lgb.Dataset(test_orders[f_to_use],categorical_feature=['aisle_id', 'department_id'])\n",
        "TRESHOLD = 0.6\n",
        "print('light GBM predict')\n",
        "y_pred_prob = bst.predict(test_orders[f_to_use])\n",
        "y_pred = []\n",
        "\n",
        "for i in range(0,len(y_pred_prob)):\n",
        "    if (y_pred_prob[i] >= TRESHOLD):\n",
        "        y_pred.append(1)\n",
        "    else:\n",
        "        y_pred.append(0)\n",
        " \n",
        "\n",
        "test_orders['pred'] = y_pred_prob"
      ],
      "execution_count": 99,
      "outputs": [
        {
          "output_type": "stream",
          "text": [
            "light GBM predict\n"
          ],
          "name": "stdout"
        },
        {
          "output_type": "stream",
          "text": [
            "/usr/local/lib/python3.6/dist-packages/ipykernel_launcher.py:13: SettingWithCopyWarning: \n",
            "A value is trying to be set on a copy of a slice from a DataFrame.\n",
            "Try using .loc[row_indexer,col_indexer] = value instead\n",
            "\n",
            "See the caveats in the documentation: http://pandas.pydata.org/pandas-docs/stable/indexing.html#indexing-view-versus-copy\n",
            "  del sys.path[0]\n"
          ],
          "name": "stderr"
        }
      ]
    },
    {
      "metadata": {
        "id": "lBW1dB8r-Mhp",
        "colab_type": "code",
        "colab": {
          "base_uri": "https://localhost:8080/",
          "height": 34
        },
        "outputId": "38fe00ca-6fff-41d8-c7ce-7015606db1c6"
      },
      "cell_type": "code",
      "source": [
        "  # guess, should be tuned with crossval on a subset of train data\n",
        "\n",
        "#Accuracy\n",
        "from sklearn.metrics import accuracy_score\n",
        "accuracy = accuracy_score(y_pred, y_te)\n",
        "accuracy"
      ],
      "execution_count": 100,
      "outputs": [
        {
          "output_type": "execute_result",
          "data": {
            "text/plain": [
              "0.981924478116386"
            ]
          },
          "metadata": {
            "tags": []
          },
          "execution_count": 100
        }
      ]
    },
    {
      "metadata": {
        "id": "09yQ7MgoJhK5",
        "colab_type": "code",
        "colab": {
          "base_uri": "https://localhost:8080/",
          "height": 51
        },
        "outputId": "376f08ce-6430-462f-e260-fec8fceb1afd"
      },
      "cell_type": "code",
      "source": [
        "#Confusion matrix\n",
        "from sklearn.metrics import confusion_matrix\n",
        "cm = confusion_matrix(y_te, y_pred)\n",
        "cm"
      ],
      "execution_count": 101,
      "outputs": [
        {
          "output_type": "execute_result",
          "data": {
            "text/plain": [
              "array([[ 84031,   6904],\n",
              "       [  3942, 505161]])"
            ]
          },
          "metadata": {
            "tags": []
          },
          "execution_count": 101
        }
      ]
    },
    {
      "metadata": {
        "id": "f910qvldM6_F",
        "colab_type": "code",
        "colab": {
          "base_uri": "https://localhost:8080/",
          "height": 887
        },
        "outputId": "92bbf053-8ed1-4d7d-f7d3-ab7a7e94fc1b"
      },
      "cell_type": "code",
      "source": [
        "def plot_confusion_matrix(y_true, y_pred, classes=2,\n",
        "                          normalize=False,\n",
        "                          title=None,\n",
        "                          cmap=plt.cm.Blues):\n",
        "    \"\"\"\n",
        "    This function prints and plots the confusion matrix.\n",
        "    Normalization can be applied by setting `normalize=True`.\n",
        "    \"\"\"\n",
        "    if not title:\n",
        "        if normalize:\n",
        "            title = 'Normalized confusion matrix'\n",
        "        else:\n",
        "            title = 'Confusion matrix, without normalization'\n",
        "\n",
        "    # Compute confusion matrix\n",
        "    cm = confusion_matrix(y_true, y_pred)\n",
        "    # Only use the labels that appear in the data\n",
        "    #classes = classes[unique_labels(y_true, y_pred)]\n",
        "    if normalize:\n",
        "        cm = cm.astype('float') / cm.sum(axis=1)[:, np.newaxis]\n",
        "        print(\"Normalized confusion matrix\")\n",
        "    else:\n",
        "        print('Confusion matrix, without normalization')\n",
        "\n",
        "    print(cm)\n",
        "\n",
        "    fig, ax = plt.subplots()\n",
        "    im = ax.imshow(cm, interpolation='nearest', cmap=cmap)\n",
        "    ax.figure.colorbar(im, ax=ax)\n",
        "    # We want to show all ticks...\n",
        "    ax.set(xticks=np.arange(cm.shape[1]),\n",
        "           yticks=np.arange(cm.shape[0]),\n",
        "           # ... and label them with the respective list entries\n",
        "           xticklabels=classes, yticklabels=classes,\n",
        "           title=title,\n",
        "           ylabel='True label',\n",
        "           xlabel='Predicted label')\n",
        "\n",
        "    # Rotate the tick labels and set their alignment.\n",
        "    plt.setp(ax.get_xticklabels(), rotation=45, ha=\"right\",\n",
        "             rotation_mode=\"anchor\")\n",
        "\n",
        "    # Loop over data dimensions and create text annotations.\n",
        "    fmt = '.2f' if normalize else 'd'\n",
        "    thresh = cm.max() / 2.\n",
        "    for i in range(cm.shape[0]):\n",
        "        for j in range(cm.shape[1]):\n",
        "            ax.text(j, i, format(cm[i, j], fmt),\n",
        "                    ha=\"center\", va=\"center\",\n",
        "                    color=\"white\" if cm[i, j] > thresh else \"black\")\n",
        "    fig.tight_layout()\n",
        "    return ax\n",
        "\n",
        "\n",
        "np.set_printoptions(precision=2)\n",
        "\n",
        "# Plot non-normalized confusion matrix\n",
        "plot_confusion_matrix(y_te, y_pred, classes='1,0',\n",
        "                      title='Confusion matrix, without normalization')\n",
        "\n",
        "# Plot normalized confusion matrix\n",
        "plot_confusion_matrix(y_te, y_pred, classes='1,0', normalize=True,\n",
        "                      title='Normalized confusion matrix')\n",
        "\n",
        "plt.savefig(root_path+'lightgbm_cm.png')\n",
        "plt.show()"
      ],
      "execution_count": 93,
      "outputs": [
        {
          "output_type": "stream",
          "text": [
            "Confusion matrix, without normalization\n",
            "[[ 84031   6904]\n",
            " [  3942 505161]]\n",
            "Normalized confusion matrix\n",
            "[[0.92 0.08]\n",
            " [0.01 0.99]]\n"
          ],
          "name": "stdout"
        },
        {
          "output_type": "display_data",
          "data": {
            "image/png": "[encoded data removed]",
            "text/plain": [
              "<Figure size 576x396 with 2 Axes>"
            ]
          },
          "metadata": {
            "tags": []
          }
        },
        {
          "output_type": "display_data",
          "data": {
            "image/png": "[encoded data removed]",
            "text/plain": [
              "<Figure size 576x396 with 2 Axes>"
            ]
          },
          "metadata": {
            "tags": []
          }
        }
      ]
    },
    {
      "metadata": {
        "id": "-mcBpB54idoM",
        "colab_type": "code",
        "colab": {
          "base_uri": "https://localhost:8080/",
          "height": 308
        },
        "outputId": "f0569dec-64e3-4d89-c61b-476a56d34527"
      },
      "cell_type": "code",
      "source": [
        "from sklearn.calibration import calibration_curve\n",
        "logreg_y, logreg_x = calibration_curve(y_te, y_pred_prob, n_bins=10)\n",
        "\n",
        "np.save(root_path+'y_LGBM.csv',logreg_y)\n",
        "np.save(root_path+'x_LGBM.csv',logreg_x) \n",
        "\n",
        "#logreg_y_bnn, logreg_x_bnn = calibration_curve(y_test, predictive_mean_BNN, n_bins=10)\n",
        "#logreg_y_20, logreg_x_20 = calibration_curve(y_test, percentile_probs_BNN, n_bins=10)\n",
        "\n",
        "%matplotlib inline\n",
        "import matplotlib.pyplot as plt\n",
        "import matplotlib.lines as mlines\n",
        "import matplotlib.transforms as mtransforms\n",
        "\n",
        "fig, ax = plt.subplots()\n",
        "# only these two lines are calibration curves\n",
        "plt.plot(logreg_x,logreg_y, marker='o', linewidth=1, label='Light GBM', color='red')\n",
        "#plt.plot(logreg_x_bnn,logreg_y_bnn, marker='o', linewidth=1, label='MC Dropout')\n",
        "#plt.plot(logreg_x_20,logreg_y_20, marker='o', linewidth=1, label='MC Dropout (20%)',color='green')\n",
        "\n",
        "# reference line, legends, and axis labels\n",
        "line = mlines.Line2D([0, 1], [0, 1], color='black')\n",
        "transform = ax.transAxes\n",
        "line.set_transform(transform)\n",
        "ax.add_line(line)\n",
        "\n",
        "fig.suptitle('Calibration plot for Instacart data')\n",
        "ax.set_xlabel('Predicted probability')\n",
        "ax.set_ylabel('True probability in each bin')\n",
        "plt.legend()\n",
        "\n",
        "#plt.savefig(root_path+\"calibration_plot.png\")\n",
        "plt.show()"
      ],
      "execution_count": 103,
      "outputs": [
        {
          "output_type": "display_data",
          "data": {
            "image/png": "[encoded data removed]",
            "text/plain": [
              "<Figure size 432x288 with 1 Axes>"
            ]
          },
          "metadata": {
            "tags": []
          }
        }
      ]
    },
    {
      "metadata": {
        "id": "DgGMkDtTkBn0",
        "colab_type": "code",
        "colab": {}
      },
      "cell_type": "code",
      "source": [
        "# Out of distribution samples\n",
        "out_user = pd.read_csv(root_path + 'engineered_data_users_out.csv')\n",
        "out_prod = pd.read_csv(root_path + 'engineered_data_out_prd.csv')\n",
        "out_both = pd.read_csv(root_path + 'engineered_data_out_both.csv')"
      ],
      "execution_count": 0,
      "outputs": []
    },
    {
      "metadata": {
        "id": "dCpFqZIekJPQ",
        "colab_type": "code",
        "colab": {}
      },
      "cell_type": "code",
      "source": [
        "#Out of distribution prediction\n",
        "y_pred_new_users = bst.predict(out_user[f_to_use])\n",
        "y_pred_new_prd = bst.predict(out_prod[f_to_use])\n",
        "y_pred_new_both = bst.predict(out_both[f_to_use])"
      ],
      "execution_count": 0,
      "outputs": []
    },
    {
      "metadata": {
        "id": "SUsDdvwQlER5",
        "colab_type": "code",
        "colab": {
          "base_uri": "https://localhost:8080/",
          "height": 394
        },
        "outputId": "70c9448f-aab3-4451-ad18-e2d497939316"
      },
      "cell_type": "code",
      "source": [
        "from sklearn.metrics import f1_score, log_loss, brier_score_loss\n",
        "\n",
        "y_true = out_user['reordered']\n",
        "print('test results - out of sample users')\n",
        "print('Accuracy :', accuracy_score(y_true, np.round(y_pred_new_users)))\n",
        "print('Log Loss :', log_loss(y_true, y_pred_new_users))\n",
        "print(\"F1 Score:\",f1_score(y_true, np.round(y_pred_new_users), average='weighted') )\n",
        "print(\"Brier: \", brier_score_loss(y_true, y_pred_new_users))\n",
        "\n",
        "y_true = out_prod['reordered']\n",
        "print('test results - out of sample prods')\n",
        "print('Accuracy :', accuracy_score(y_true, np.round(y_pred_new_prd)))\n",
        "print('Log Loss :', log_loss(y_true, y_pred_new_prd))\n",
        "print(\"F1 Score:\",f1_score(y_true, np.round(y_pred_new_prd), average='weighted') )\n",
        "print(\"Brier: \", brier_score_loss(y_true, y_pred_new_prd))\n",
        "\n",
        "y_true = out_both['reordered']\n",
        "print('test results - out of sample both')\n",
        "print('Accuracy :', accuracy_score(y_true, np.round(y_pred_new_both)))\n",
        "print('Log Loss :', log_loss(y_true, y_pred_new_both))\n",
        "print(\"F1 Score:\",f1_score(y_true, np.round(y_pred_new_both), average='weighted') )\n",
        "print(\"Brier: \", brier_score_loss(y_true, y_pred_new_both))"
      ],
      "execution_count": 109,
      "outputs": [
        {
          "output_type": "stream",
          "text": [
            "test results - out of sample users\n",
            "Accuracy : 0.7339700244543644\n",
            "Log Loss : 1.3689961934565325\n",
            "F1 Score: 0.6213625255339221\n",
            "Brier:  0.2611937697838957\n",
            "test results - out of sample prods\n"
          ],
          "name": "stdout"
        },
        {
          "output_type": "stream",
          "text": [
            "/usr/local/lib/python3.6/dist-packages/sklearn/metrics/classification.py:1143: UndefinedMetricWarning: F-score is ill-defined and being set to 0.0 in labels with no predicted samples.\n",
            "  'precision', 'predicted', average, warn_for)\n"
          ],
          "name": "stderr"
        },
        {
          "output_type": "stream",
          "text": [
            "Accuracy : 0.47924371133178406\n",
            "Log Loss : 2.75644478325865\n"
          ],
          "name": "stdout"
        },
        {
          "output_type": "stream",
          "text": [
            "/usr/local/lib/python3.6/dist-packages/sklearn/metrics/classification.py:1143: UndefinedMetricWarning: F-score is ill-defined and being set to 0.0 in labels with no predicted samples.\n",
            "  'precision', 'predicted', average, warn_for)\n"
          ],
          "name": "stderr"
        },
        {
          "output_type": "stream",
          "text": [
            "F1 Score: 0.31052967552491145\n",
            "Brier:  0.5127483914646901\n",
            "test results - out of sample both\n",
            "Accuracy : 0.47588064901955546\n",
            "Log Loss : 2.698812423141377\n",
            "F1 Score: 0.30688442491839013\n",
            "Brier:  0.5144556632460277\n"
          ],
          "name": "stdout"
        },
        {
          "output_type": "stream",
          "text": [
            "/usr/local/lib/python3.6/dist-packages/sklearn/metrics/classification.py:1143: UndefinedMetricWarning: F-score is ill-defined and being set to 0.0 in labels with no predicted samples.\n",
            "  'precision', 'predicted', average, warn_for)\n"
          ],
          "name": "stderr"
        }
      ]
    }
  ]
}