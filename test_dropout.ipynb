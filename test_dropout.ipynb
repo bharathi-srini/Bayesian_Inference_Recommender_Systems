{
 "cells": [
  {
   "cell_type": "markdown",
   "metadata": {
    "colab_type": "text",
    "id": "view-in-github"
   },
   "source": [
    "<a href=\"https://colab.research.google.com/github/bharathi-srini/Bayesian_Inference_Recommender_Systems/blob/master/test_dropout.ipynb\" target=\"_parent\"><img src=\"https://colab.research.google.com/assets/colab-badge.svg\" alt=\"Open In Colab\"/></a>"
   ]
  },
  {
   "cell_type": "code",
   "execution_count": 1,
   "metadata": {
    "colab": {},
    "colab_type": "code",
    "id": "M9p46Icc_26d"
   },
   "outputs": [],
   "source": [
    "import numpy as np\n",
    "import pandas as pd\n",
    "\n",
    "from sklearn import preprocessing\n",
    "from sklearn.preprocessing import OneHotEncoder, MinMaxScaler, StandardScaler\n",
    "from sklearn.model_selection import train_test_split\n",
    "import time\n",
    "import matplotlib.pyplot as plt\n",
    "import matplotlib.lines as mlines\n",
    "import matplotlib.transforms as mtransforms\n",
    "from sklearn.metrics import accuracy_score, log_loss, f1_score, brier_score_loss\n",
    "from sklearn.calibration import calibration_curve\n",
    "from scipy.interpolate import UnivariateSpline\n",
    "import scipy.stats as stats\n",
    "import math\n",
    "\n",
    "%matplotlib inline"
   ]
  },
  {
   "cell_type": "code",
   "execution_count": 2,
   "metadata": {
    "colab": {
     "base_uri": "https://localhost:8080/",
     "height": 34
    },
    "colab_type": "code",
    "id": "v5-XtYCs_26h",
    "outputId": "6591339c-880b-4afe-e96a-43fa53b83ad3"
   },
   "outputs": [
    {
     "name": "stderr",
     "output_type": "stream",
     "text": [
      "Using TensorFlow backend.\n"
     ]
    },
    {
     "ename": "ImportError",
     "evalue": "Traceback (most recent call last):\n  File \"C:\\Users\\Pascal\\AppData\\Roaming\\Python\\Python36\\site-packages\\tensorflow\\python\\pywrap_tensorflow.py\", line 58, in <module>\n    from tensorflow.python.pywrap_tensorflow_internal import *\n  File \"C:\\Users\\Pascal\\AppData\\Roaming\\Python\\Python36\\site-packages\\tensorflow\\python\\pywrap_tensorflow_internal.py\", line 28, in <module>\n    _pywrap_tensorflow_internal = swig_import_helper()\n  File \"C:\\Users\\Pascal\\AppData\\Roaming\\Python\\Python36\\site-packages\\tensorflow\\python\\pywrap_tensorflow_internal.py\", line 24, in swig_import_helper\n    _mod = imp.load_module('_pywrap_tensorflow_internal', fp, pathname, description)\n  File \"C:\\Users\\Pascal\\Anaconda3\\envs\\Deep_Learning\\lib\\imp.py\", line 243, in load_module\n    return load_dynamic(name, filename, file)\n  File \"C:\\Users\\Pascal\\Anaconda3\\envs\\Deep_Learning\\lib\\imp.py\", line 343, in load_dynamic\n    return _load(spec)\nImportError: DLL load failed: Das angegebene Modul wurde nicht gefunden.\n\n\nFailed to load the native TensorFlow runtime.\n\nSee https://www.tensorflow.org/install/errors\n\nfor some common reasons and solutions.  Include the entire stack trace\nabove this error message when asking for help.",
     "output_type": "error",
     "traceback": [
      "\u001b[1;31m---------------------------------------------------------------------------\u001b[0m",
      "\u001b[1;31mImportError\u001b[0m                               Traceback (most recent call last)",
      "\u001b[1;32m~\\AppData\\Roaming\\Python\\Python36\\site-packages\\tensorflow\\python\\pywrap_tensorflow.py\u001b[0m in \u001b[0;36m<module>\u001b[1;34m\u001b[0m\n\u001b[0;32m     57\u001b[0m \u001b[1;33m\u001b[0m\u001b[0m\n\u001b[1;32m---> 58\u001b[1;33m   \u001b[1;32mfrom\u001b[0m \u001b[0mtensorflow\u001b[0m\u001b[1;33m.\u001b[0m\u001b[0mpython\u001b[0m\u001b[1;33m.\u001b[0m\u001b[0mpywrap_tensorflow_internal\u001b[0m \u001b[1;32mimport\u001b[0m \u001b[1;33m*\u001b[0m\u001b[1;33m\u001b[0m\u001b[1;33m\u001b[0m\u001b[0m\n\u001b[0m\u001b[0;32m     59\u001b[0m   \u001b[1;32mfrom\u001b[0m \u001b[0mtensorflow\u001b[0m\u001b[1;33m.\u001b[0m\u001b[0mpython\u001b[0m\u001b[1;33m.\u001b[0m\u001b[0mpywrap_tensorflow_internal\u001b[0m \u001b[1;32mimport\u001b[0m \u001b[0m__version__\u001b[0m\u001b[1;33m\u001b[0m\u001b[1;33m\u001b[0m\u001b[0m\n",
      "\u001b[1;32m~\\AppData\\Roaming\\Python\\Python36\\site-packages\\tensorflow\\python\\pywrap_tensorflow_internal.py\u001b[0m in \u001b[0;36m<module>\u001b[1;34m\u001b[0m\n\u001b[0;32m     27\u001b[0m             \u001b[1;32mreturn\u001b[0m \u001b[0m_mod\u001b[0m\u001b[1;33m\u001b[0m\u001b[1;33m\u001b[0m\u001b[0m\n\u001b[1;32m---> 28\u001b[1;33m     \u001b[0m_pywrap_tensorflow_internal\u001b[0m \u001b[1;33m=\u001b[0m \u001b[0mswig_import_helper\u001b[0m\u001b[1;33m(\u001b[0m\u001b[1;33m)\u001b[0m\u001b[1;33m\u001b[0m\u001b[1;33m\u001b[0m\u001b[0m\n\u001b[0m\u001b[0;32m     29\u001b[0m     \u001b[1;32mdel\u001b[0m \u001b[0mswig_import_helper\u001b[0m\u001b[1;33m\u001b[0m\u001b[1;33m\u001b[0m\u001b[0m\n",
      "\u001b[1;32m~\\AppData\\Roaming\\Python\\Python36\\site-packages\\tensorflow\\python\\pywrap_tensorflow_internal.py\u001b[0m in \u001b[0;36mswig_import_helper\u001b[1;34m()\u001b[0m\n\u001b[0;32m     23\u001b[0m             \u001b[1;32mtry\u001b[0m\u001b[1;33m:\u001b[0m\u001b[1;33m\u001b[0m\u001b[1;33m\u001b[0m\u001b[0m\n\u001b[1;32m---> 24\u001b[1;33m                 \u001b[0m_mod\u001b[0m \u001b[1;33m=\u001b[0m \u001b[0mimp\u001b[0m\u001b[1;33m.\u001b[0m\u001b[0mload_module\u001b[0m\u001b[1;33m(\u001b[0m\u001b[1;34m'_pywrap_tensorflow_internal'\u001b[0m\u001b[1;33m,\u001b[0m \u001b[0mfp\u001b[0m\u001b[1;33m,\u001b[0m \u001b[0mpathname\u001b[0m\u001b[1;33m,\u001b[0m \u001b[0mdescription\u001b[0m\u001b[1;33m)\u001b[0m\u001b[1;33m\u001b[0m\u001b[1;33m\u001b[0m\u001b[0m\n\u001b[0m\u001b[0;32m     25\u001b[0m             \u001b[1;32mfinally\u001b[0m\u001b[1;33m:\u001b[0m\u001b[1;33m\u001b[0m\u001b[1;33m\u001b[0m\u001b[0m\n",
      "\u001b[1;32m~\\Anaconda3\\envs\\Deep_Learning\\lib\\imp.py\u001b[0m in \u001b[0;36mload_module\u001b[1;34m(name, file, filename, details)\u001b[0m\n\u001b[0;32m    242\u001b[0m         \u001b[1;32melse\u001b[0m\u001b[1;33m:\u001b[0m\u001b[1;33m\u001b[0m\u001b[1;33m\u001b[0m\u001b[0m\n\u001b[1;32m--> 243\u001b[1;33m             \u001b[1;32mreturn\u001b[0m \u001b[0mload_dynamic\u001b[0m\u001b[1;33m(\u001b[0m\u001b[0mname\u001b[0m\u001b[1;33m,\u001b[0m \u001b[0mfilename\u001b[0m\u001b[1;33m,\u001b[0m \u001b[0mfile\u001b[0m\u001b[1;33m)\u001b[0m\u001b[1;33m\u001b[0m\u001b[1;33m\u001b[0m\u001b[0m\n\u001b[0m\u001b[0;32m    244\u001b[0m     \u001b[1;32melif\u001b[0m \u001b[0mtype_\u001b[0m \u001b[1;33m==\u001b[0m \u001b[0mPKG_DIRECTORY\u001b[0m\u001b[1;33m:\u001b[0m\u001b[1;33m\u001b[0m\u001b[1;33m\u001b[0m\u001b[0m\n",
      "\u001b[1;32m~\\Anaconda3\\envs\\Deep_Learning\\lib\\imp.py\u001b[0m in \u001b[0;36mload_dynamic\u001b[1;34m(name, path, file)\u001b[0m\n\u001b[0;32m    342\u001b[0m             name=name, loader=loader, origin=path)\n\u001b[1;32m--> 343\u001b[1;33m         \u001b[1;32mreturn\u001b[0m \u001b[0m_load\u001b[0m\u001b[1;33m(\u001b[0m\u001b[0mspec\u001b[0m\u001b[1;33m)\u001b[0m\u001b[1;33m\u001b[0m\u001b[1;33m\u001b[0m\u001b[0m\n\u001b[0m\u001b[0;32m    344\u001b[0m \u001b[1;33m\u001b[0m\u001b[0m\n",
      "\u001b[1;31mImportError\u001b[0m: DLL load failed: Das angegebene Modul wurde nicht gefunden.",
      "\nDuring handling of the above exception, another exception occurred:\n",
      "\u001b[1;31mImportError\u001b[0m                               Traceback (most recent call last)",
      "\u001b[1;32m<ipython-input-2-39fba6b1345e>\u001b[0m in \u001b[0;36m<module>\u001b[1;34m\u001b[0m\n\u001b[1;32m----> 1\u001b[1;33m \u001b[1;32mimport\u001b[0m \u001b[0mkeras\u001b[0m\u001b[1;33m\u001b[0m\u001b[1;33m\u001b[0m\u001b[0m\n\u001b[0m\u001b[0;32m      2\u001b[0m \u001b[1;32mfrom\u001b[0m \u001b[0mkeras\u001b[0m \u001b[1;32mimport\u001b[0m \u001b[0mbackend\u001b[0m \u001b[1;32mas\u001b[0m \u001b[0mK\u001b[0m\u001b[1;33m\u001b[0m\u001b[1;33m\u001b[0m\u001b[0m\n\u001b[0;32m      3\u001b[0m \u001b[1;32mfrom\u001b[0m \u001b[0mkeras\u001b[0m\u001b[1;33m.\u001b[0m\u001b[0mlayers\u001b[0m \u001b[1;32mimport\u001b[0m \u001b[0mDense\u001b[0m\u001b[1;33m\u001b[0m\u001b[1;33m\u001b[0m\u001b[0m\n\u001b[0;32m      4\u001b[0m \u001b[1;32mfrom\u001b[0m \u001b[0mkeras\u001b[0m\u001b[1;33m.\u001b[0m\u001b[0moptimizers\u001b[0m \u001b[1;32mimport\u001b[0m \u001b[0mAdam\u001b[0m\u001b[1;33m\u001b[0m\u001b[1;33m\u001b[0m\u001b[0m\n\u001b[0;32m      5\u001b[0m \u001b[1;32mfrom\u001b[0m \u001b[0mkeras\u001b[0m\u001b[1;33m.\u001b[0m\u001b[0mlayers\u001b[0m \u001b[1;32mimport\u001b[0m \u001b[0mInput\u001b[0m\u001b[1;33m,\u001b[0m\u001b[0mActivation\u001b[0m\u001b[1;33m,\u001b[0m \u001b[0mconcatenate\u001b[0m\u001b[1;33m,\u001b[0m \u001b[0mEmbedding\u001b[0m\u001b[1;33m,\u001b[0m \u001b[0mReshape\u001b[0m\u001b[1;33m\u001b[0m\u001b[1;33m\u001b[0m\u001b[0m\n",
      "\u001b[1;32m~\\Anaconda3\\envs\\Deep_Learning\\lib\\site-packages\\keras\\__init__.py\u001b[0m in \u001b[0;36m<module>\u001b[1;34m\u001b[0m\n\u001b[0;32m      1\u001b[0m \u001b[1;32mfrom\u001b[0m \u001b[0m__future__\u001b[0m \u001b[1;32mimport\u001b[0m \u001b[0mabsolute_import\u001b[0m\u001b[1;33m\u001b[0m\u001b[1;33m\u001b[0m\u001b[0m\n\u001b[0;32m      2\u001b[0m \u001b[1;33m\u001b[0m\u001b[0m\n\u001b[1;32m----> 3\u001b[1;33m \u001b[1;32mfrom\u001b[0m \u001b[1;33m.\u001b[0m \u001b[1;32mimport\u001b[0m \u001b[0mutils\u001b[0m\u001b[1;33m\u001b[0m\u001b[1;33m\u001b[0m\u001b[0m\n\u001b[0m\u001b[0;32m      4\u001b[0m \u001b[1;32mfrom\u001b[0m \u001b[1;33m.\u001b[0m \u001b[1;32mimport\u001b[0m \u001b[0mactivations\u001b[0m\u001b[1;33m\u001b[0m\u001b[1;33m\u001b[0m\u001b[0m\n\u001b[0;32m      5\u001b[0m \u001b[1;32mfrom\u001b[0m \u001b[1;33m.\u001b[0m \u001b[1;32mimport\u001b[0m \u001b[0mapplications\u001b[0m\u001b[1;33m\u001b[0m\u001b[1;33m\u001b[0m\u001b[0m\n",
      "\u001b[1;32m~\\Anaconda3\\envs\\Deep_Learning\\lib\\site-packages\\keras\\utils\\__init__.py\u001b[0m in \u001b[0;36m<module>\u001b[1;34m\u001b[0m\n\u001b[0;32m      4\u001b[0m \u001b[1;32mfrom\u001b[0m \u001b[1;33m.\u001b[0m \u001b[1;32mimport\u001b[0m \u001b[0mdata_utils\u001b[0m\u001b[1;33m\u001b[0m\u001b[1;33m\u001b[0m\u001b[0m\n\u001b[0;32m      5\u001b[0m \u001b[1;32mfrom\u001b[0m \u001b[1;33m.\u001b[0m \u001b[1;32mimport\u001b[0m \u001b[0mio_utils\u001b[0m\u001b[1;33m\u001b[0m\u001b[1;33m\u001b[0m\u001b[0m\n\u001b[1;32m----> 6\u001b[1;33m \u001b[1;32mfrom\u001b[0m \u001b[1;33m.\u001b[0m \u001b[1;32mimport\u001b[0m \u001b[0mconv_utils\u001b[0m\u001b[1;33m\u001b[0m\u001b[1;33m\u001b[0m\u001b[0m\n\u001b[0m\u001b[0;32m      7\u001b[0m \u001b[1;33m\u001b[0m\u001b[0m\n\u001b[0;32m      8\u001b[0m \u001b[1;31m# Globally-importable utils.\u001b[0m\u001b[1;33m\u001b[0m\u001b[1;33m\u001b[0m\u001b[1;33m\u001b[0m\u001b[0m\n",
      "\u001b[1;32m~\\Anaconda3\\envs\\Deep_Learning\\lib\\site-packages\\keras\\utils\\conv_utils.py\u001b[0m in \u001b[0;36m<module>\u001b[1;34m\u001b[0m\n\u001b[0;32m      7\u001b[0m \u001b[1;32mfrom\u001b[0m \u001b[0msix\u001b[0m\u001b[1;33m.\u001b[0m\u001b[0mmoves\u001b[0m \u001b[1;32mimport\u001b[0m \u001b[0mrange\u001b[0m\u001b[1;33m\u001b[0m\u001b[1;33m\u001b[0m\u001b[0m\n\u001b[0;32m      8\u001b[0m \u001b[1;32mimport\u001b[0m \u001b[0mnumpy\u001b[0m \u001b[1;32mas\u001b[0m \u001b[0mnp\u001b[0m\u001b[1;33m\u001b[0m\u001b[1;33m\u001b[0m\u001b[0m\n\u001b[1;32m----> 9\u001b[1;33m \u001b[1;32mfrom\u001b[0m \u001b[1;33m.\u001b[0m\u001b[1;33m.\u001b[0m \u001b[1;32mimport\u001b[0m \u001b[0mbackend\u001b[0m \u001b[1;32mas\u001b[0m \u001b[0mK\u001b[0m\u001b[1;33m\u001b[0m\u001b[1;33m\u001b[0m\u001b[0m\n\u001b[0m\u001b[0;32m     10\u001b[0m \u001b[1;33m\u001b[0m\u001b[0m\n\u001b[0;32m     11\u001b[0m \u001b[1;33m\u001b[0m\u001b[0m\n",
      "\u001b[1;32m~\\Anaconda3\\envs\\Deep_Learning\\lib\\site-packages\\keras\\backend\\__init__.py\u001b[0m in \u001b[0;36m<module>\u001b[1;34m\u001b[0m\n\u001b[0;32m     87\u001b[0m \u001b[1;32melif\u001b[0m \u001b[0m_BACKEND\u001b[0m \u001b[1;33m==\u001b[0m \u001b[1;34m'tensorflow'\u001b[0m\u001b[1;33m:\u001b[0m\u001b[1;33m\u001b[0m\u001b[1;33m\u001b[0m\u001b[0m\n\u001b[0;32m     88\u001b[0m     \u001b[0msys\u001b[0m\u001b[1;33m.\u001b[0m\u001b[0mstderr\u001b[0m\u001b[1;33m.\u001b[0m\u001b[0mwrite\u001b[0m\u001b[1;33m(\u001b[0m\u001b[1;34m'Using TensorFlow backend.\\n'\u001b[0m\u001b[1;33m)\u001b[0m\u001b[1;33m\u001b[0m\u001b[1;33m\u001b[0m\u001b[0m\n\u001b[1;32m---> 89\u001b[1;33m     \u001b[1;32mfrom\u001b[0m \u001b[1;33m.\u001b[0m\u001b[0mtensorflow_backend\u001b[0m \u001b[1;32mimport\u001b[0m \u001b[1;33m*\u001b[0m\u001b[1;33m\u001b[0m\u001b[1;33m\u001b[0m\u001b[0m\n\u001b[0m\u001b[0;32m     90\u001b[0m \u001b[1;32melse\u001b[0m\u001b[1;33m:\u001b[0m\u001b[1;33m\u001b[0m\u001b[1;33m\u001b[0m\u001b[0m\n\u001b[0;32m     91\u001b[0m     \u001b[1;31m# Try and load external backend.\u001b[0m\u001b[1;33m\u001b[0m\u001b[1;33m\u001b[0m\u001b[1;33m\u001b[0m\u001b[0m\n",
      "\u001b[1;32m~\\Anaconda3\\envs\\Deep_Learning\\lib\\site-packages\\keras\\backend\\tensorflow_backend.py\u001b[0m in \u001b[0;36m<module>\u001b[1;34m\u001b[0m\n\u001b[0;32m      3\u001b[0m \u001b[1;32mfrom\u001b[0m \u001b[0m__future__\u001b[0m \u001b[1;32mimport\u001b[0m \u001b[0mprint_function\u001b[0m\u001b[1;33m\u001b[0m\u001b[1;33m\u001b[0m\u001b[0m\n\u001b[0;32m      4\u001b[0m \u001b[1;33m\u001b[0m\u001b[0m\n\u001b[1;32m----> 5\u001b[1;33m \u001b[1;32mimport\u001b[0m \u001b[0mtensorflow\u001b[0m \u001b[1;32mas\u001b[0m \u001b[0mtf\u001b[0m\u001b[1;33m\u001b[0m\u001b[1;33m\u001b[0m\u001b[0m\n\u001b[0m\u001b[0;32m      6\u001b[0m \u001b[1;32mfrom\u001b[0m \u001b[0mtensorflow\u001b[0m\u001b[1;33m.\u001b[0m\u001b[0mpython\u001b[0m\u001b[1;33m.\u001b[0m\u001b[0mframework\u001b[0m \u001b[1;32mimport\u001b[0m \u001b[0mops\u001b[0m \u001b[1;32mas\u001b[0m \u001b[0mtf_ops\u001b[0m\u001b[1;33m\u001b[0m\u001b[1;33m\u001b[0m\u001b[0m\n\u001b[0;32m      7\u001b[0m \u001b[1;32mfrom\u001b[0m \u001b[0mtensorflow\u001b[0m\u001b[1;33m.\u001b[0m\u001b[0mpython\u001b[0m\u001b[1;33m.\u001b[0m\u001b[0mtraining\u001b[0m \u001b[1;32mimport\u001b[0m \u001b[0mmoving_averages\u001b[0m\u001b[1;33m\u001b[0m\u001b[1;33m\u001b[0m\u001b[0m\n",
      "\u001b[1;32m~\\AppData\\Roaming\\Python\\Python36\\site-packages\\tensorflow\\__init__.py\u001b[0m in \u001b[0;36m<module>\u001b[1;34m\u001b[0m\n\u001b[0;32m     22\u001b[0m \u001b[1;33m\u001b[0m\u001b[0m\n\u001b[0;32m     23\u001b[0m \u001b[1;31m# pylint: disable=g-bad-import-order\u001b[0m\u001b[1;33m\u001b[0m\u001b[1;33m\u001b[0m\u001b[1;33m\u001b[0m\u001b[0m\n\u001b[1;32m---> 24\u001b[1;33m \u001b[1;32mfrom\u001b[0m \u001b[0mtensorflow\u001b[0m\u001b[1;33m.\u001b[0m\u001b[0mpython\u001b[0m \u001b[1;32mimport\u001b[0m \u001b[0mpywrap_tensorflow\u001b[0m  \u001b[1;31m# pylint: disable=unused-import\u001b[0m\u001b[1;33m\u001b[0m\u001b[1;33m\u001b[0m\u001b[0m\n\u001b[0m\u001b[0;32m     25\u001b[0m \u001b[1;33m\u001b[0m\u001b[0m\n\u001b[0;32m     26\u001b[0m \u001b[1;32mfrom\u001b[0m \u001b[0mtensorflow\u001b[0m\u001b[1;33m.\u001b[0m\u001b[0m_api\u001b[0m\u001b[1;33m.\u001b[0m\u001b[0mv1\u001b[0m \u001b[1;32mimport\u001b[0m \u001b[0mapp\u001b[0m\u001b[1;33m\u001b[0m\u001b[1;33m\u001b[0m\u001b[0m\n",
      "\u001b[1;32m~\\AppData\\Roaming\\Python\\Python36\\site-packages\\tensorflow\\python\\__init__.py\u001b[0m in \u001b[0;36m<module>\u001b[1;34m\u001b[0m\n\u001b[0;32m     47\u001b[0m \u001b[1;32mimport\u001b[0m \u001b[0mnumpy\u001b[0m \u001b[1;32mas\u001b[0m \u001b[0mnp\u001b[0m\u001b[1;33m\u001b[0m\u001b[1;33m\u001b[0m\u001b[0m\n\u001b[0;32m     48\u001b[0m \u001b[1;33m\u001b[0m\u001b[0m\n\u001b[1;32m---> 49\u001b[1;33m \u001b[1;32mfrom\u001b[0m \u001b[0mtensorflow\u001b[0m\u001b[1;33m.\u001b[0m\u001b[0mpython\u001b[0m \u001b[1;32mimport\u001b[0m \u001b[0mpywrap_tensorflow\u001b[0m\u001b[1;33m\u001b[0m\u001b[1;33m\u001b[0m\u001b[0m\n\u001b[0m\u001b[0;32m     50\u001b[0m \u001b[1;33m\u001b[0m\u001b[0m\n\u001b[0;32m     51\u001b[0m \u001b[1;31m# Protocol buffers\u001b[0m\u001b[1;33m\u001b[0m\u001b[1;33m\u001b[0m\u001b[1;33m\u001b[0m\u001b[0m\n",
      "\u001b[1;32m~\\AppData\\Roaming\\Python\\Python36\\site-packages\\tensorflow\\python\\pywrap_tensorflow.py\u001b[0m in \u001b[0;36m<module>\u001b[1;34m\u001b[0m\n\u001b[0;32m     72\u001b[0m \u001b[1;32mfor\u001b[0m \u001b[0msome\u001b[0m \u001b[0mcommon\u001b[0m \u001b[0mreasons\u001b[0m \u001b[1;32mand\u001b[0m \u001b[0msolutions\u001b[0m\u001b[1;33m.\u001b[0m  \u001b[0mInclude\u001b[0m \u001b[0mthe\u001b[0m \u001b[0mentire\u001b[0m \u001b[0mstack\u001b[0m \u001b[0mtrace\u001b[0m\u001b[1;33m\u001b[0m\u001b[1;33m\u001b[0m\u001b[0m\n\u001b[0;32m     73\u001b[0m above this error message when asking for help.\"\"\" % traceback.format_exc()\n\u001b[1;32m---> 74\u001b[1;33m   \u001b[1;32mraise\u001b[0m \u001b[0mImportError\u001b[0m\u001b[1;33m(\u001b[0m\u001b[0mmsg\u001b[0m\u001b[1;33m)\u001b[0m\u001b[1;33m\u001b[0m\u001b[1;33m\u001b[0m\u001b[0m\n\u001b[0m\u001b[0;32m     75\u001b[0m \u001b[1;33m\u001b[0m\u001b[0m\n\u001b[0;32m     76\u001b[0m \u001b[1;31m# pylint: enable=wildcard-import,g-import-not-at-top,unused-import,line-too-long\u001b[0m\u001b[1;33m\u001b[0m\u001b[1;33m\u001b[0m\u001b[1;33m\u001b[0m\u001b[0m\n",
      "\u001b[1;31mImportError\u001b[0m: Traceback (most recent call last):\n  File \"C:\\Users\\Pascal\\AppData\\Roaming\\Python\\Python36\\site-packages\\tensorflow\\python\\pywrap_tensorflow.py\", line 58, in <module>\n    from tensorflow.python.pywrap_tensorflow_internal import *\n  File \"C:\\Users\\Pascal\\AppData\\Roaming\\Python\\Python36\\site-packages\\tensorflow\\python\\pywrap_tensorflow_internal.py\", line 28, in <module>\n    _pywrap_tensorflow_internal = swig_import_helper()\n  File \"C:\\Users\\Pascal\\AppData\\Roaming\\Python\\Python36\\site-packages\\tensorflow\\python\\pywrap_tensorflow_internal.py\", line 24, in swig_import_helper\n    _mod = imp.load_module('_pywrap_tensorflow_internal', fp, pathname, description)\n  File \"C:\\Users\\Pascal\\Anaconda3\\envs\\Deep_Learning\\lib\\imp.py\", line 243, in load_module\n    return load_dynamic(name, filename, file)\n  File \"C:\\Users\\Pascal\\Anaconda3\\envs\\Deep_Learning\\lib\\imp.py\", line 343, in load_dynamic\n    return _load(spec)\nImportError: DLL load failed: Das angegebene Modul wurde nicht gefunden.\n\n\nFailed to load the native TensorFlow runtime.\n\nSee https://www.tensorflow.org/install/errors\n\nfor some common reasons and solutions.  Include the entire stack trace\nabove this error message when asking for help."
     ]
    }
   ],
   "source": [
    "import keras\n",
    "from keras import backend as K\n",
    "from keras.layers import Dense\n",
    "from keras.optimizers import Adam\n",
    "from keras.layers import Input,Activation, concatenate, Embedding, Reshape\n",
    "from keras.layers import Flatten, merge, Lambda, Dropout, Reshape\n",
    "from keras.layers.normalization import BatchNormalization\n",
    "from keras.models import Model\n",
    "from keras.models import model_from_json, load_model \n",
    "from keras.regularizers import l1,l2\n",
    "import tensorflow as tf\n",
    "import gc\n",
    "\n",
    "#import talos"
   ]
  },
  {
   "cell_type": "code",
   "execution_count": 5,
   "metadata": {
    "colab": {
     "base_uri": "https://localhost:8080/",
     "height": 34
    },
    "colab_type": "code",
    "id": "DmIMNqpDC6AZ",
    "outputId": "b117248a-e519-47b3-a63b-96b9733f3068"
   },
   "outputs": [
    {
     "name": "stdout",
     "output_type": "stream",
     "text": [
      "Drive already mounted at /content/gdrive; to attempt to forcibly remount, call drive.mount(\"/content/gdrive\", force_remount=True).\n"
     ]
    }
   ],
   "source": [
    "from google.colab import drive\n",
    "drive.mount('/content/gdrive')\n",
    "\n",
    "root_path = 'gdrive/My Drive/BNN_RecSys/'\n",
    "\n",
    "df_use = pd.read_csv(root_path+\"engineered_data_100.csv\")"
   ]
  },
  {
   "cell_type": "code",
   "execution_count": 58,
   "metadata": {
    "colab": {
     "base_uri": "https://localhost:8080/",
     "height": 34
    },
    "colab_type": "code",
    "id": "8GZBfqM69iPp",
    "outputId": "83a5d174-10e0-41b8-ee6f-ab0e6e85f1a5"
   },
   "outputs": [
    {
     "data": {
      "text/plain": [
       "(2400149, 17)"
      ]
     },
     "execution_count": 58,
     "metadata": {
      "tags": []
     },
     "output_type": "execute_result"
    }
   ],
   "source": [
    "df_use.shape"
   ]
  },
  {
   "cell_type": "code",
   "execution_count": 6,
   "metadata": {
    "colab": {
     "base_uri": "https://localhost:8080/",
     "height": 51
    },
    "colab_type": "code",
    "id": "mWeB_Tu6_268",
    "outputId": "a7c7b4e9-055d-452c-95e8-e991e0a6e89a"
   },
   "outputs": [
    {
     "name": "stdout",
     "output_type": "stream",
     "text": [
      "Unique Products: 6018\n",
      "Unique_Users:  100\n"
     ]
    }
   ],
   "source": [
    "# Number of product IDs available\n",
    "N_products = df_use['product_id'].nunique()\n",
    "N_shoppers = df_use['user_id'].nunique()\n",
    "print('Unique Products:', N_products)\n",
    "print('Unique_Users: ', N_shoppers)"
   ]
  },
  {
   "cell_type": "code",
   "execution_count": 6,
   "metadata": {
    "colab": {
     "base_uri": "https://localhost:8080/",
     "height": 105
    },
    "colab_type": "code",
    "id": "sXt-PQFj_27A",
    "outputId": "0b9a02ff-ec38-44d8-cbf6-c0d91fa04e25"
   },
   "outputs": [
    {
     "name": "stdout",
     "output_type": "stream",
     "text": [
      "WARNING:tensorflow:From /usr/local/lib/python3.6/dist-packages/tensorflow/python/framework/op_def_library.py:263: colocate_with (from tensorflow.python.framework.ops) is deprecated and will be removed in a future version.\n",
      "Instructions for updating:\n",
      "Colocations handled automatically by placer.\n",
      "Loaded model from disk\n"
     ]
    }
   ],
   "source": [
    "# load embeddings model\n",
    "json_file = open(root_path+'NN_embed_model.json', 'r')\n",
    "loaded_model_json = json_file.read()\n",
    "json_file.close()\n",
    "loaded_model = model_from_json(loaded_model_json)\n",
    "# load weights into new model\n",
    "loaded_model.load_weights(root_path+\"NN_embed_model_weights.h5\")\n",
    "print(\"Loaded model from disk\")\n",
    "\n",
    "# Exctracted embeddings from pr-trained model\n",
    "embeddings_prior = loaded_model.layers[2].get_weights()[0]\n",
    "embeddings_user = loaded_model.layers[3].get_weights()[0]"
   ]
  },
  {
   "cell_type": "code",
   "execution_count": 0,
   "metadata": {
    "colab": {},
    "colab_type": "code",
    "id": "PblayEKV_27R"
   },
   "outputs": [],
   "source": [
    "def val2idx(df, cols):\n",
    "    \"\"\"\n",
    "    Helper to index values of embedding columns\n",
    "    \"\"\"\n",
    "    val_types = dict()\n",
    "    for c in cols:\n",
    "        val_types[c] = df[c].unique()\n",
    "\n",
    "    val_to_idx = dict()\n",
    "\n",
    "    for k, v in val_types.items():\n",
    "        val_to_idx[k] = {o: i for i, o in enumerate(val_types[k])}\n",
    "\n",
    "    for k, v in val_to_idx.items():\n",
    "        df[k] = df[k].apply(lambda x: v[x]+1)\n",
    "\n",
    "    unique_vals = dict()\n",
    "    for c in cols:\n",
    "        unique_vals[c] = df[c].nunique()\n",
    "\n",
    "    return df, unique_vals, val_to_idx"
   ]
  },
  {
   "cell_type": "code",
   "execution_count": 0,
   "metadata": {
    "colab": {},
    "colab_type": "code",
    "id": "olabeMp8_27T"
   },
   "outputs": [],
   "source": [
    "EMBEDDING_COLUMNS = [\"user_id\", \"product_id\"]\n",
    "df_deep, values, mappings = val2idx(df_use, EMBEDDING_COLUMNS)\n",
    "\n",
    "#df_deep.drop(['product_name','department', 'Unnamed: 0', 'index'], axis=1, inplace=True)\n",
    "\n",
    "CATEGORICAL_COLUMNS = [\"order_dow\", \"order_hour_of_day\",\"aisle_id\",\"department_id\"]\n",
    "CONTINUOUS_COLUMNS = [\"days_since_prior_order\",\"order_number\",\"add_to_cart_order\",\"reordered_total\",\"product_id_orders\",\"user_distinct_products\",\"user_period\",\\\n",
    "                     \"user_orders\",\"average_cart_position\"]\n",
    "\n",
    "#One-hot encoding categorical columns\n",
    "df_deep = pd.get_dummies(df_deep, columns=[x for x in CATEGORICAL_COLUMNS])\n",
    "\n",
    "#Normalising the feature columns\n",
    "df_deep[CONTINUOUS_COLUMNS] = MinMaxScaler().fit_transform(df_deep[CONTINUOUS_COLUMNS].values)\n",
    "\n",
    "y = df_deep.reordered.values\n",
    "df_deep.drop(['reordered'], axis=1, inplace = True)"
   ]
  },
  {
   "cell_type": "code",
   "execution_count": 0,
   "metadata": {
    "colab": {},
    "colab_type": "code",
    "id": "TZD_05LM_27r"
   },
   "outputs": [],
   "source": [
    "X_train, X_test, y_train, y_test = train_test_split(df_deep, y, test_size=0.25, random_state=42, stratify=y)"
   ]
  },
  {
   "cell_type": "code",
   "execution_count": 137,
   "metadata": {
    "colab": {
     "base_uri": "https://localhost:8080/",
     "height": 34
    },
    "colab_type": "code",
    "id": "5Ycn07pvbwwv",
    "outputId": "9f14acc9-e7ef-4034-fcb5-1c34e7c0df5c"
   },
   "outputs": [
    {
     "data": {
      "text/plain": [
       "(600038, 198)"
      ]
     },
     "execution_count": 137,
     "metadata": {
      "tags": []
     },
     "output_type": "execute_result"
    }
   ],
   "source": [
    "X_test.shape"
   ]
  },
  {
   "cell_type": "code",
   "execution_count": 14,
   "metadata": {
    "colab": {
     "base_uri": "https://localhost:8080/",
     "height": 102
    },
    "colab_type": "code",
    "id": "pWenKKY__27w",
    "outputId": "5431ffff-8176-4d3b-9399-96d588cf31c7"
   },
   "outputs": [
    {
     "name": "stderr",
     "output_type": "stream",
     "text": [
      "/usr/local/lib/python3.6/dist-packages/pandas/core/frame.py:3697: SettingWithCopyWarning: \n",
      "A value is trying to be set on a copy of a slice from a DataFrame\n",
      "\n",
      "See the caveats in the documentation: http://pandas.pydata.org/pandas-docs/stable/indexing.html#indexing-view-versus-copy\n",
      "  errors=errors)\n"
     ]
    }
   ],
   "source": [
    "products_in = X_train['product_id']\n",
    "X_train.drop(['product_id'], axis = 1, inplace=True)\n",
    "\n",
    "products_test = X_test['product_id']\n",
    "X_test.drop(['product_id'], axis = 1, inplace=True)\n",
    "\n",
    "products_all = df_deep.product_id\n",
    "users_all = df_deep.user_id\n",
    "df_deep.drop(['user_id', 'product_id'], axis=1, inplace=True)\n",
    "tensors_all = df_deep\n",
    "\n",
    "users_in = X_train['user_id']\n",
    "X_train.drop(['user_id'], axis=1, inplace= True)\n",
    "\n",
    "users_test = X_test['user_id']\n",
    "X_test.drop(['user_id'], axis=1, inplace= True)"
   ]
  },
  {
   "cell_type": "code",
   "execution_count": 15,
   "metadata": {
    "colab": {
     "base_uri": "https://localhost:8080/",
     "height": 68
    },
    "colab_type": "code",
    "id": "eJX_rDf9_28B",
    "outputId": "64a51a8f-94bd-45da-a89e-e7eb562632a3"
   },
   "outputs": [
    {
     "name": "stdout",
     "output_type": "stream",
     "text": [
      "Train on 1440088 samples, validate on 360023 samples\n",
      "Epoch 1/1\n",
      "1440088/1440088 [==============================] - 211s 146us/step - loss: 0.3630 - acc: 0.8485 - val_loss: 0.3180 - val_acc: 0.8483\n"
     ]
    }
   ],
   "source": [
    "# Integer IDs representing 1-hot encodings\n",
    "prior_in = Input(shape=(1,))\n",
    "shopper_in = Input(shape=(1,))\n",
    "\n",
    "  # Embeddings\n",
    "  #prior = Embedding(input_dim=embeddings_prior.shape[0], input_length=1,weights=[embeddings_prior], output_dim=embeddings_prior.shape[1], trainable=False)(prior_in)\n",
    "  #shopper = Embedding(input_dim=embeddings_user.shape[0], input_length=1,weights=[embeddings_user], output_dim=embeddings_prior.shape[1], trainable=False)(shopper_in)\n",
    "\n",
    "prior = Embedding(input_dim=1, input_length=1, output_dim=10)(prior_in)\n",
    "shopper = Embedding(input_dim=1, input_length=1, output_dim=10)(shopper_in)\n",
    "\n",
    "# Numeric and categorical inputs\n",
    "input_tensor = Input(shape=X_train.shape[1:])\n",
    "\n",
    "reshape = Reshape(target_shape=(10,))\n",
    "\n",
    "combined_input = keras.layers.concatenate([reshape(prior), reshape(shopper), input_tensor])\n",
    "\n",
    "x = BatchNormalization()(combined_input)\n",
    "\n",
    "x = Dropout(0.3)(x)\n",
    "x = Dense(128, activation='softplus')(x)\n",
    "x = BatchNormalization()(x)\n",
    "\n",
    "x = Dropout(0.3)(x)\n",
    "x = Dense(64, activation='softplus')(x)\n",
    "x = BatchNormalization()(x)\n",
    "\n",
    "logits = Dense(1,activation='softplus')(x)\n",
    "logit_output = Activation('sigmoid', name='softmax_output')(logits)\n",
    "  \n",
    "model = Model(inputs=[prior_in, shopper_in, input_tensor], outputs=logit_output)\n",
    "  \n",
    "adam = keras.optimizers.Adam(lr=0.0001, beta_1=0.9, beta_2=0.999, epsilon=None, decay=0.0, amsgrad=False)\n",
    "model.compile(optimizer=adam, loss='binary_crossentropy', metrics=['accuracy'] )\n",
    "  \n",
    "out = model.fit([products_in, users_in, X_train],y_train, batch_size = 100, epochs = 1,validation_split=0.2 )"
   ]
  },
  {
   "cell_type": "code",
   "execution_count": 16,
   "metadata": {
    "colab": {
     "base_uri": "https://localhost:8080/",
     "height": 68
    },
    "colab_type": "code",
    "id": "hbmtd6h3_28R",
    "outputId": "4c615ee4-49ef-4fc4-c0c7-b535502c7976"
   },
   "outputs": [
    {
     "name": "stdout",
     "output_type": "stream",
     "text": [
      "600038/600038 [==============================] - 51s 84us/step\n",
      "Test accuracy: 0.8484529313143501\n",
      "600038/600038 [==============================] - 40s 66us/step\n"
     ]
    }
   ],
   "source": [
    "#score = model.evaluate([products_test, users_test, X_test], y_test, verbose=1)\n",
    "#print('Test accuracy:', score[1])\n",
    "\n",
    "NN_probs = model.predict([products_test, users_test, X_test], verbose=1)"
   ]
  },
  {
   "cell_type": "code",
   "execution_count": 17,
   "metadata": {
    "colab": {
     "base_uri": "https://localhost:8080/",
     "height": 105
    },
    "colab_type": "code",
    "id": "1yqScE0UJD53",
    "outputId": "f573abe4-b74f-490c-d889-0d66cf64b7f9"
   },
   "outputs": [
    {
     "name": "stdout",
     "output_type": "stream",
     "text": [
      "0.3169149165821503\n",
      "0.7788894004272944\n"
     ]
    },
    {
     "name": "stderr",
     "output_type": "stream",
     "text": [
      "/usr/local/lib/python3.6/dist-packages/sklearn/metrics/classification.py:1143: UndefinedMetricWarning: F-score is ill-defined and being set to 0.0 in labels with no predicted samples.\n",
      "  'precision', 'predicted', average, warn_for)\n"
     ]
    }
   ],
   "source": [
    "logloss_score_NN = log_loss(y_test,NN_probs)\n",
    "print(logloss_score_NN)\n",
    "print(f1_score(y_test,np.round(NN_probs), average='weighted'))"
   ]
  },
  {
   "cell_type": "code",
   "execution_count": 0,
   "metadata": {
    "colab": {},
    "colab_type": "code",
    "id": "BDdQng5V_28Y"
   },
   "outputs": [],
   "source": [
    "# Integer IDs representing 1-hot encodings\n",
    "prior_in = Input(shape=(1,))\n",
    "shopper_in = Input(shape=(1,))\n",
    "\n",
    "# Embeddings\n",
    "#prior = Embedding(input_dim=embeddings_prior.shape[0], input_length=1,weights=[embeddings_prior], output_dim=embeddings_prior.shape[1], trainable=False)(prior_in)\n",
    "#shopper = Embedding(input_dim=embeddings_user.shape[0], input_length=1,weights=[embeddings_user], output_dim=embeddings_prior.shape[1], trainable=False)(shopper_in)\n",
    "\n",
    "prior = Embedding(input_dim=1, input_length=1, output_dim=10)(prior_in)\n",
    "shopper = Embedding(input_dim=1, input_length=1, output_dim=10)(shopper_in)\n",
    "\n",
    "# Numeric and categorical inputs\n",
    "input_tensor = Input(shape=X_train.shape[1:])\n",
    "\n",
    "reshape = Reshape(target_shape=(10,))\n",
    "\n",
    "combined_input = keras.layers.concatenate([reshape(prior), reshape(shopper), input_tensor])\n",
    "\n",
    "x = BatchNormalization()(combined_input)\n",
    "\n",
    "x = Dropout(0.3)(x, training=True)\n",
    "x = Dense(128, activation='softplus')(x)\n",
    "x = BatchNormalization()(x)\n",
    "\n",
    "x = Dropout(0.3)(x, training=True)\n",
    "x = Dense(64, activation='softplus')(x)\n",
    "x = BatchNormalization()(x)\n",
    "\n",
    "logits = Dense(1,activation='softplus')(x)\n",
    "logit_output = Activation('sigmoid', name='softmax_output')(logits)\n",
    "\n",
    "model_BNN = Model(inputs=[prior_in, shopper_in, input_tensor], outputs=logit_output)\n"
   ]
  },
  {
   "cell_type": "code",
   "execution_count": 0,
   "metadata": {
    "colab": {},
    "colab_type": "code",
    "id": "brabNwmEdoka"
   },
   "outputs": [],
   "source": [
    "with open(root_path + 'BNNsummary.txt','w') as fh:\n",
    "    # Pass the file handle in as a lambda function to make it callable\n",
    "    model_BNN.summary(print_fn=lambda x: fh.write(x + '\\n'))"
   ]
  },
  {
   "cell_type": "code",
   "execution_count": 63,
   "metadata": {
    "colab": {
     "base_uri": "https://localhost:8080/",
     "height": 51
    },
    "colab_type": "code",
    "id": "xcFNeUzOkQsj",
    "outputId": "0f33a06b-2c52-4cbd-c2ae-72e1ac7189c4"
   },
   "outputs": [
    {
     "name": "stdout",
     "output_type": "stream",
     "text": [
      "Epoch 1/1\n",
      "1800111/1800111 [==============================] - 210s 116us/step - loss: 0.3580 - acc: 0.8485\n"
     ]
    }
   ],
   "source": [
    "adam = keras.optimizers.Adam(lr=0.0001, beta_1=0.9, beta_2=0.999, epsilon=None, decay=0.0, amsgrad=False)\n",
    "nadam = keras.optimizers.Nadam(lr=0.002, beta_1=0.9, beta_2=0.999, epsilon=None, schedule_decay=0.004)\n",
    "model_BNN.compile(optimizer=adam, \\\n",
    "              loss='binary_crossentropy',\\\n",
    "              metrics=['accuracy'] )\n",
    "\n",
    "history = model_BNN.fit([products_in, users_in, X_train],y_train, batch_size = 100, epochs = 1)"
   ]
  },
  {
   "cell_type": "code",
   "execution_count": 0,
   "metadata": {
    "colab": {
     "base_uri": "https://localhost:8080/",
     "height": 34
    },
    "colab_type": "code",
    "id": "a439FmmEzlwK",
    "outputId": "3b155284-0a11-49d0-d505-5273af0949de"
   },
   "outputs": [
    {
     "name": "stdout",
     "output_type": "stream",
     "text": [
      "600038/600038 [==============================] - 38s 63us/step\n"
     ]
    }
   ],
   "source": [
    "BNN_probs = model_BNN.predict([products_test, users_test, X_test], verbose=1)"
   ]
  },
  {
   "cell_type": "code",
   "execution_count": 0,
   "metadata": {
    "colab": {},
    "colab_type": "code",
    "id": "Y5g-72sB_28a"
   },
   "outputs": [],
   "source": [
    "def MCdropout(T):\n",
    "    \n",
    "    Yt_hat = []\n",
    "    for _ in range(T):\n",
    "        Yt_hat += [model_BNN.predict([products_test, users_test, X_test],verbose=0)]\n",
    "    # 100 arrays with one output of each observation for X_test\n",
    "    Yt_hat = np.array(Yt_hat)\n",
    "      \n",
    "    return Yt_hat\n",
    " "
   ]
  },
  {
   "cell_type": "code",
   "execution_count": 0,
   "metadata": {
    "colab": {},
    "colab_type": "code",
    "id": "rN18BjSzoMEc"
   },
   "outputs": [],
   "source": [
    "    predictive_mean = np.mean(Yt_hat, axis=0)\n",
    "    epistemic = np.mean(Yt_hat ** 2, axis=0) - np.mean(Yt_hat, axis=0) ** 2\n",
    "    #epistemic = np.sum(epistemic)\n",
    "    aleatoric = np.mean(Yt_hat * (1-Yt_hat), axis = 0)\n",
    "    #aleatoric = np.sum(aleatoric)"
   ]
  },
  {
   "cell_type": "code",
   "execution_count": 0,
   "metadata": {
    "colab": {
     "base_uri": "https://localhost:8080/",
     "height": 34
    },
    "colab_type": "code",
    "id": "Ni3xoXFYtm2b",
    "outputId": "abaae3d6-5ba5-4e28-c78f-f3ae9ffd7317"
   },
   "outputs": [
    {
     "name": "stdout",
     "output_type": "stream",
     "text": [
      "-167.72692942619324 5 done\n"
     ]
    }
   ],
   "source": [
    "start = time.time()\n",
    "pb5 = MCdropout(5)\n",
    "print(start - time.time(),'5 done')\n",
    "\n",
    "start = time.time()\n",
    "pb10 = MCdropout(10)\n",
    "print(start - time.time(),'10 done')\n",
    "\n",
    "start = time.time()\n",
    "pb20 = MCdropout(20)\n",
    "print(start - time.time(),'20 done')\n",
    "start = time.time()\n",
    "\n",
    "pb50 = MCdropout(50)\n",
    "print(start - time.time(),'50 done')\n",
    "start = time.time()\n",
    "\n",
    "start = time.time()\n",
    "pb100 = MCdropout(100)\n",
    "print(start - time.time(),'100 done')"
   ]
  },
  {
   "cell_type": "code",
   "execution_count": 0,
   "metadata": {
    "colab": {
     "base_uri": "https://localhost:8080/",
     "height": 34
    },
    "colab_type": "code",
    "id": "MdRp60gcIYFh",
    "outputId": "4ee5d62e-7505-4ab6-f1aa-7290bb8b31ef"
   },
   "outputs": [
    {
     "name": "stdout",
     "output_type": "stream",
     "text": [
      "Accuracy:  0.8485712571537136 0.8485479252980644 0.8485245934424153 0.8485179271979442\n"
     ]
    }
   ],
   "source": [
    "pb5_50pv = np.percentile(pb5, 50, axis=0)\n",
    "pb10_50pv = np.percentile(pb10, 50, axis=0)\n",
    "pb20_50pv = np.percentile(pb20, 50, axis=0)\n",
    "pb50_50pv = np.percentile(pb50, 50, axis=0)\n",
    "#pb100_50pv = np.percentile(pb100, 50, axis=0)\n",
    "\n",
    "print('Accuracy: ',accuracy_score(y_test,np.round(pb5_50pv)),accuracy_score(y_test,np.round(pb10_50pv)),accuracy_score(y_test,np.round(pb20_50pv)),\\\n",
    "     accuracy_score(y_test,np.round(pb50_50pv)) )"
   ]
  },
  {
   "cell_type": "code",
   "execution_count": 0,
   "metadata": {
    "colab": {},
    "colab_type": "code",
    "id": "9kOsL9U8KIdB"
   },
   "outputs": [],
   "source": [
    "e = []\n",
    "e.append(accuracy_score(y_test,np.round( BNN_probs  ) ))\n",
    "e.append(accuracy_score(y_test,np.round( np.mean(pb5, axis=0)  ) ))\n",
    "e.append(accuracy_score(y_test,np.round( np.mean(pb10, axis=0) ) ))\n",
    "e.append(accuracy_score(y_test,np.round( np.mean(pb20, axis=0) ) ))\n",
    "e.append(accuracy_score(y_test,np.round( np.mean(pb50, axis=0) ) ))\n",
    "#e[4] = 1 - accuracy_score(y_test,np.round(pb100_50pv))"
   ]
  },
  {
   "cell_type": "code",
   "execution_count": 0,
   "metadata": {
    "colab": {
     "base_uri": "https://localhost:8080/",
     "height": 289
    },
    "colab_type": "code",
    "id": "iS2gi-6F0QAG",
    "outputId": "99cf3f2c-e34e-4d44-a067-6efaea7dbaf3"
   },
   "outputs": [
    {
     "name": "stderr",
     "output_type": "stream",
     "text": [
      "/usr/local/lib/python3.6/dist-packages/sklearn/metrics/classification.py:1817: RuntimeWarning: divide by zero encountered in log\n",
      "  loss = -(transformed_labels * np.log(y_pred)).sum(axis=1)\n",
      "/usr/local/lib/python3.6/dist-packages/sklearn/metrics/classification.py:1817: RuntimeWarning: invalid value encountered in multiply\n",
      "  loss = -(transformed_labels * np.log(y_pred)).sum(axis=1)\n",
      "/usr/local/lib/python3.6/dist-packages/sklearn/metrics/classification.py:1817: RuntimeWarning: divide by zero encountered in log\n",
      "  loss = -(transformed_labels * np.log(y_pred)).sum(axis=1)\n",
      "/usr/local/lib/python3.6/dist-packages/sklearn/metrics/classification.py:1817: RuntimeWarning: invalid value encountered in multiply\n",
      "  loss = -(transformed_labels * np.log(y_pred)).sum(axis=1)\n",
      "/usr/local/lib/python3.6/dist-packages/sklearn/metrics/classification.py:1817: RuntimeWarning: divide by zero encountered in log\n",
      "  loss = -(transformed_labels * np.log(y_pred)).sum(axis=1)\n",
      "/usr/local/lib/python3.6/dist-packages/sklearn/metrics/classification.py:1817: RuntimeWarning: invalid value encountered in multiply\n",
      "  loss = -(transformed_labels * np.log(y_pred)).sum(axis=1)\n",
      "/usr/local/lib/python3.6/dist-packages/sklearn/metrics/classification.py:1817: RuntimeWarning: divide by zero encountered in log\n",
      "  loss = -(transformed_labels * np.log(y_pred)).sum(axis=1)\n",
      "/usr/local/lib/python3.6/dist-packages/sklearn/metrics/classification.py:1817: RuntimeWarning: invalid value encountered in multiply\n",
      "  loss = -(transformed_labels * np.log(y_pred)).sum(axis=1)\n"
     ]
    }
   ],
   "source": [
    "l = []\n",
    "l.append(log_loss(y_test, BNN_probs  ))\n",
    "l.append(log_loss(y_test, np.mean(pb5, axis=0)  ) )\n",
    "l.append(log_loss(y_test, np.mean(pb10, axis=0) ) )\n",
    "l.append(log_loss(y_test, np.mean(pb20, axis=0) ) )\n",
    "l.append(log_loss(y_test, np.mean(pb50, axis=0) ) )\n",
    "\n",
    "pb5_20pv = np.percentile(pb5, 20, axis=0)\n",
    "pb10_20pv = np.percentile(pb10, 20, axis=0)\n",
    "pb20_20pv = np.percentile(pb20, 20, axis=0)\n",
    "pb50_20pv = np.percentile(pb50, 20, axis=0)\n",
    "\n",
    "pb5_25pv = np.percentile(pb5, 25, axis=0)\n",
    "pb10_25pv = np.percentile(pb10, 25, axis=0)\n",
    "pb20_25pv = np.percentile(pb20, 25, axis=0)\n",
    "pb50_25pv = np.percentile(pb50, 25, axis=0)\n",
    "\n",
    "l1 = []\n",
    "l1.append(log_loss(y_test, BNN_probs  ))\n",
    "l1.append(log_loss(y_test, pb5_50pv) )\n",
    "l1.append(log_loss(y_test, pb10_50pv ) )\n",
    "l1.append(log_loss(y_test, pb20_50pv ) )\n",
    "l1.append(log_loss(y_test, pb50_50pv ) )\n",
    "\n",
    "l2 = []\n",
    "l2.append(log_loss(y_test, BNN_probs  ))\n",
    "l2.append(log_loss(y_test, pb5_20pv) )\n",
    "l2.append(log_loss(y_test, pb10_20pv ) )\n",
    "l2.append(log_loss(y_test, pb20_20pv ) )\n",
    "l2.append(log_loss(y_test, pb50_20pv ) )\n",
    "\n",
    "l3 = []\n",
    "l3.append(log_loss(y_test, BNN_probs  ))\n",
    "l3.append(log_loss(y_test, pb5_25pv) )\n",
    "l3.append(log_loss(y_test, pb10_25pv ) )\n",
    "l3.append(log_loss(y_test, pb20_25pv ) )\n",
    "l3.append(log_loss(y_test, pb50_25pv ) )"
   ]
  },
  {
   "cell_type": "code",
   "execution_count": 0,
   "metadata": {
    "colab": {
     "base_uri": "https://localhost:8080/",
     "height": 300
    },
    "colab_type": "code",
    "id": "kdX0L6c0M4YY",
    "outputId": "6e9ebb40-4391-403b-b265-45b6218dde19"
   },
   "outputs": [
    {
     "name": "stderr",
     "output_type": "stream",
     "text": [
      "No handles with labels found to put in legend.\n"
     ]
    },
    {
     "data": {
      "image/png": "[encoded data removed]",
      "text/plain": [
       "<Figure size 432x288 with 1 Axes>"
      ]
     },
     "metadata": {
      "tags": []
     },
     "output_type": "display_data"
    }
   ],
   "source": [
    "fig, ax = plt.subplots()\n",
    "xaxis = [0,5,10,20,50]\n",
    "plt.plot(xaxis, e, color = 'b', marker ='o')\n",
    "\n",
    "ax.set_xlabel('Number of Monte Carlo iterations')\n",
    "ax.set_ylabel('Accuracy on Test Set')\n",
    "plt.legend()\n",
    "\n",
    "plt.savefig(root_path+\"accuracy_drop.png\")\n",
    "plt.show()"
   ]
  },
  {
   "cell_type": "code",
   "execution_count": 0,
   "metadata": {
    "colab": {},
    "colab_type": "code",
    "id": "40jXvc66ehxg"
   },
   "outputs": [],
   "source": [
    "pb20 = np.load(root_path+'20samples_preds.csv.npy')"
   ]
  },
  {
   "cell_type": "code",
   "execution_count": 45,
   "metadata": {
    "colab": {
     "base_uri": "https://localhost:8080/",
     "height": 283
    },
    "colab_type": "code",
    "id": "GQ41LzaaQve6",
    "outputId": "df6444fc-5672-452a-cdc3-16f0a21f5bf2"
   },
   "outputs": [
    {
     "data": {
      "image/png": "[encoded data removed]",
      "text/plain": [
       "<Figure size 432x288 with 1 Axes>"
      ]
     },
     "metadata": {
      "tags": []
     },
     "output_type": "display_data"
    }
   ],
   "source": [
    "\n",
    "fig, ax = plt.subplots()\n",
    "mu = np.mean(pb20[:,6025])\n",
    "variance = np.var(pb20[:,6025])\n",
    "sigma = math.sqrt(variance)\n",
    "#x = np.linspace(0, 1.2, 100)\n",
    "x = np.linspace(mu - 3*sigma, mu + 3*sigma, 100)\n",
    "plt.plot(x, stats.norm.pdf(x, mu, sigma))\n",
    "plt.axvline(x.mean(), linewidth=1,linestyle='-.', ymax=0.57)\n",
    "plt.axvline(np.percentile(x,20), linestyle='dashed', linewidth=1, ymax=0.16)\n",
    "\n",
    "mu = np.mean(pb20[:,5640])\n",
    "variance = np.var(pb20[:,5640])\n",
    "sigma = math.sqrt(variance)\n",
    "\n",
    "#5640, 5690\n",
    "\n",
    "x = np.linspace(mu - 3*sigma, mu + 3*sigma, 100)\n",
    "plt.plot(x, stats.norm.pdf(x, mu, sigma))\n",
    "plt.axvline(x.mean(), linewidth=1,linestyle='-.', ymax=0.95, label='Mean',color='y')\n",
    "plt.axvline(np.percentile(x,20), linestyle='--', linewidth=1, ymax=0.24, label='20th percentile', color='y')\n",
    "\n",
    "ax.set_xlabel('Predicted probability')\n",
    "ax.set_ylabel('Density')\n",
    "plt.legend()\n",
    "\n",
    "plt.savefig(root_path+\"pdf_plot.png\")\n",
    "\n",
    "plt.show()"
   ]
  },
  {
   "cell_type": "code",
   "execution_count": 46,
   "metadata": {
    "colab": {
     "base_uri": "https://localhost:8080/",
     "height": 85
    },
    "colab_type": "code",
    "id": "h_Ca6Teb1Nsb",
    "outputId": "bcd67e13-6296-4807-9d4e-8019241d2f02"
   },
   "outputs": [
    {
     "name": "stdout",
     "output_type": "stream",
     "text": [
      "0.8870163 0.009526152 0.8236996173858642\n",
      "0.8741663 0.0032368437 0.8290057659149169\n",
      "0.98244685 0.00087530323 0.9809259653091431\n",
      "0.78083676 0.0043742666 0.7090601086616517\n"
     ]
    }
   ],
   "source": [
    "print(np.mean(pb20[:,6025]),np.var(pb20[:,6025]), np.percentile(pb20[:,6025], 20) )\n",
    "print(np.mean(pb20[:,5640]),np.var(pb20[:,5640]), np.percentile(pb20[:,5640], 20) )\n",
    "print(np.mean(pb20[:,5650]),np.var(pb20[:,5650]), np.percentile(pb20[:,5650], 20) )\n",
    "print(np.mean(pb20[:,5660]),np.var(pb20[:,5660]), np.percentile(pb20[:,5660], 20) )"
   ]
  },
  {
   "cell_type": "code",
   "execution_count": 47,
   "metadata": {
    "colab": {
     "base_uri": "https://localhost:8080/",
     "height": 122
    },
    "colab_type": "code",
    "id": "_ViU8xTn_28r",
    "outputId": "6652a3d8-38dc-4581-8132-84c5016dbacf"
   },
   "outputs": [
    {
     "name": "stdout",
     "output_type": "stream",
     "text": [
      "Accuracy : 0.8484512647532323 0.8485245934424153 0.8487462460710822 0.8484512647532323\n",
      "Log Loss: 0.32203130623199927 0.31383570858495163 0.3347190482322151 0.34065173707442814\n"
     ]
    },
    {
     "name": "stderr",
     "output_type": "stream",
     "text": [
      "/usr/local/lib/python3.6/dist-packages/sklearn/metrics/classification.py:1143: UndefinedMetricWarning: F-score is ill-defined and being set to 0.0 in labels with no predicted samples.\n",
      "  'precision', 'predicted', average, warn_for)\n"
     ]
    },
    {
     "name": "stdout",
     "output_type": "stream",
     "text": [
      "BNN F1 Score: 0.7788894004272944 0.7790989086211965 0.7800918374701405 0.7788894004272944\n"
     ]
    }
   ],
   "source": [
    "percentile20 = np.percentile(pb20, 20, axis=0)\n",
    "percentile25 = np.percentile(pb20, 25, axis=0)\n",
    "percentile40 = np.percentile(pb20, 40, axis=0)\n",
    "percentile50 = np.percentile(pb20, 50, axis=0)\n",
    "percentile75 = np.percentile(pb20, 75, axis=0)\n",
    "percentile80 = np.percentile(pb20, 80, axis=0)\n",
    "mean_pred = np.mean(pb20, axis=0)\n",
    "\n",
    "\n",
    "print('Accuracy :', accuracy_score(y_test, np.round(mean_pred)), accuracy_score(y_test, np.round(percentile50)), accuracy_score(y_test, np.round(percentile20)) , accuracy_score(y_test, np.round(percentile80)))\n",
    "print('Log Loss:', log_loss(y_test, mean_pred), log_loss(y_test, percentile50), log_loss(y_test, percentile20) , log_loss(y_test, percentile80))\n",
    "print(\"BNN F1 Score:\",f1_score(y_test, np.round(mean_pred), average='weighted'),f1_score(y_test, np.round(percentile50), average='weighted'), f1_score(y_test, np.round(percentile20), average='weighted') , f1_score(y_test, np.round(percentile80), average='weighted') )"
   ]
  },
  {
   "cell_type": "code",
   "execution_count": 0,
   "metadata": {
    "colab": {
     "base_uri": "https://localhost:8080/",
     "height": 283
    },
    "colab_type": "code",
    "id": "N4zYJkv6q-Pe",
    "outputId": "e46d4ebd-debd-41d1-d04a-5f1059996ffb"
   },
   "outputs": [
    {
     "data": {
      "image/png": "[encoded data removed]",
      "text/plain": [
       "<Figure size 432x288 with 1 Axes>"
      ]
     },
     "metadata": {
      "tags": []
     },
     "output_type": "display_data"
    }
   ],
   "source": [
    "logreg_y_20, logreg_x_20 = calibration_curve(y_test, percentile20, n_bins=10)\n",
    "logreg_y_25, logreg_x_25 = calibration_curve(y_test, percentile25, n_bins=10)\n",
    "logreg_y_40, logreg_x_40 = calibration_curve(y_test, percentile40, n_bins=10)\n",
    "logreg_y_50, logreg_x_50 = calibration_curve(y_test, percentile50, n_bins=10)\n",
    "logreg_y_75, logreg_x_75 = calibration_curve(y_test, percentile75, n_bins=10)\n",
    "logreg_y_80, logreg_x_80 = calibration_curve(y_test, percentile80, n_bins=10)\n",
    "logreg_y_m, logreg_x_m = calibration_curve(y_test, np.mean(pb20, axis=0), n_bins=10)\n",
    "\n",
    "fig, ax = plt.subplots()\n",
    "# only these two lines are calibration curves\n",
    "\n",
    "plt.plot(logreg_x_20,logreg_y_20, marker='o', linewidth=1, label='MC Dropout (20%)',color='g')\n",
    "plt.plot(logreg_y_50, logreg_x_50, marker='o', linewidth=1, label='MC Dropout (50%)',color='m')\n",
    "plt.plot(logreg_y_m, logreg_x_m, marker='o', linewidth=1, label='Predictive Mean',color='y')\n",
    "plt.plot(logreg_y_80, logreg_x_80, marker='o', linewidth=1, label='MC Dropout (80%)',color='b')\n",
    "\n",
    "# reference line, legends, and axis labels\n",
    "line = mlines.Line2D([0, 1], [0, 1], color='black')\n",
    "transform = ax.transAxes\n",
    "line.set_transform(transform)\n",
    "ax.add_line(line)\n",
    "\n",
    "ax.set_xlim([0,1])\n",
    "ax.set_ylim([0,1])\n",
    "\n",
    "ax.set_xlabel('Predicted probability')\n",
    "ax.set_ylabel('True probability in each bin')\n",
    "plt.legend()\n",
    "\n",
    "plt.savefig(root_path+\"calibration_plot_20samples.png\")\n",
    "plt.show()"
   ]
  },
  {
   "cell_type": "code",
   "execution_count": 0,
   "metadata": {
    "colab": {},
    "colab_type": "code",
    "id": "XAwVQJRbq695"
   },
   "outputs": [],
   "source": [
    "np.save(root_path+'20samples_preds.csv',pb20)"
   ]
  },
  {
   "cell_type": "code",
   "execution_count": 0,
   "metadata": {
    "colab": {
     "base_uri": "https://localhost:8080/",
     "height": 376
    },
    "colab_type": "code",
    "id": "bSdaILCr_28z",
    "outputId": "d01d3546-fcbd-4a7c-d349-daf34652a152"
   },
   "outputs": [
    {
     "name": "stderr",
     "output_type": "stream",
     "text": [
      "/usr/local/lib/python3.6/dist-packages/numpy/core/_methods.py:29: RuntimeWarning: invalid value encountered in reduce\n",
      "  return umr_minimum(a, axis, None, out, keepdims)\n",
      "/usr/local/lib/python3.6/dist-packages/numpy/core/_methods.py:26: RuntimeWarning: invalid value encountered in reduce\n",
      "  return umr_maximum(a, axis, None, out, keepdims)\n"
     ]
    },
    {
     "data": {
      "image/png": "[encoded data removed]",
      "text/plain": [
       "<Figure size 432x288 with 1 Axes>"
      ]
     },
     "metadata": {
      "tags": []
     },
     "output_type": "display_data"
    }
   ],
   "source": [
    "from sklearn.calibration import calibration_curve\n",
    "logreg_y, logreg_x = calibration_curve(y_test, NN_probs, n_bins=10)\n",
    "\n",
    "np.save(root_path+'y_NN.csv',logreg_y)\n",
    "np.save(root_path+'x_NN.csv',logreg_x) \n",
    "\n",
    "logreg_y_bnn, logreg_x_bnn = calibration_curve(y_test, predictive_mean_BNN, n_bins=10)\n",
    "logreg_y_20, logreg_x_20 = calibration_curve(y_test, percentile_probs_BNN, n_bins=10)\n",
    "\n",
    "fig, ax = plt.subplots()\n",
    "# only these two lines are calibration curves\n",
    "plt.plot(logreg_x,logreg_y, marker='o', linewidth=1, label='Frequentist NN', color='red')\n",
    "plt.plot(logreg_x_bnn,logreg_y_bnn, marker='o', linewidth=1, label='MC Dropout')\n",
    "plt.plot(logreg_x_20,logreg_y_20, marker='o', linewidth=1, label='MC Dropout (20%)',color='green')\n",
    "\n",
    "# reference line, legends, and axis labels\n",
    "line = mlines.Line2D([0, 1], [0, 1], color='black')\n",
    "transform = ax.transAxes\n",
    "line.set_transform(transform)\n",
    "ax.add_line(line)\n",
    "\n",
    "fig.suptitle('Calibration plot for Instacart data')\n",
    "ax.set_xlabel('Predicted probability')\n",
    "ax.set_ylabel('True probability in each bin')\n",
    "plt.legend()\n",
    "\n",
    "plt.savefig(root_path+\"calibration_plot.png\")\n",
    "plt.show()\n",
    "\n"
   ]
  },
  {
   "cell_type": "code",
   "execution_count": 0,
   "metadata": {
    "colab": {},
    "colab_type": "code",
    "id": "zoNdVJKiYkXB"
   },
   "outputs": [],
   "source": [
    "# Out of distribution samples\n",
    "#out_user = pd.read_csv(root_path + 'engineered_data_users_out.csv')\n",
    "#out_prod = pd.read_csv(root_path + 'engineered_data_out_prd.csv')\n",
    "out_both = pd.read_csv(root_path + 'engineered_data_out_both.csv')"
   ]
  },
  {
   "cell_type": "markdown",
   "metadata": {
    "colab_type": "text",
    "id": "vGmULl26Ub_Q"
   },
   "source": [
    "New users : Out of sample \n"
   ]
  },
  {
   "cell_type": "code",
   "execution_count": 0,
   "metadata": {
    "colab": {
     "base_uri": "https://localhost:8080/",
     "height": 34
    },
    "colab_type": "code",
    "id": "HYAS4c7cso9_",
    "outputId": "afbeb3bf-681f-461b-8407-a792ad9f30ce"
   },
   "outputs": [
    {
     "data": {
      "text/plain": [
       "(250671, 21)"
      ]
     },
     "execution_count": 80,
     "metadata": {
      "tags": []
     },
     "output_type": "execute_result"
    }
   ],
   "source": [
    "out_user.shape"
   ]
  },
  {
   "cell_type": "code",
   "execution_count": 0,
   "metadata": {
    "colab": {},
    "colab_type": "code",
    "id": "uaqOTuB2pqmj"
   },
   "outputs": [],
   "source": [
    "# Preparing out of sample users data\n",
    "\n",
    "#EMBEDDING_COLUMNS = [\"user_id\", \"product_id\"]\n",
    "#df_deep, values, mappings = val2idx(df_use, EMBEDDING_COLUMNS)\n",
    "\n",
    "out_user.drop(['product_name','department', 'Unnamed: 0', 'index'], axis=1, inplace=True)\n",
    "\n",
    "CATEGORICAL_COLUMNS = [\"order_dow\", \"order_hour_of_day\",\"aisle_id\",\"department_id\"]\n",
    "CONTINUOUS_COLUMNS = [\"days_since_prior_order\",\"order_number\",\"add_to_cart_order\",\"reordered_total\",\"product_id_orders\",\"user_distinct_products\",\"user_period\",\\\n",
    "                     \"user_orders\",\"average_cart_position\"]\n",
    "\n",
    "#One-hot encoding categorical columns\n",
    "out_user = pd.get_dummies(out_user, columns=[x for x in CATEGORICAL_COLUMNS])\n",
    "\n",
    "#Normalising the feature columns\n",
    "out_user[CONTINUOUS_COLUMNS] = MinMaxScaler().fit_transform(out_user[CONTINUOUS_COLUMNS].values)\n",
    "\n",
    "y = out_user.reordered.values\n",
    "out_user.drop(['reordered'], axis=1, inplace = True)\n",
    "\n",
    "products_in = out_user['product_id']\n",
    "out_user.drop(['product_id'], axis = 1, inplace=True)\n",
    "\n",
    "users_in = out_user['user_id']\n",
    "out_user.drop(['user_id'], axis=1, inplace= True)\n",
    "\n",
    "tensors_all = out_user\n"
   ]
  },
  {
   "cell_type": "code",
   "execution_count": 72,
   "metadata": {
    "colab": {
     "base_uri": "https://localhost:8080/",
     "height": 34
    },
    "colab_type": "code",
    "id": "xcxBHvZQwowL",
    "outputId": "d9db0a14-c950-4797-9f97-6e1a9fc441bc"
   },
   "outputs": [
    {
     "data": {
      "text/plain": [
       "(250671, 196)"
      ]
     },
     "execution_count": 72,
     "metadata": {
      "tags": []
     },
     "output_type": "execute_result"
    }
   ],
   "source": [
    "for col in X_test.columns:\n",
    "  if col not in tensors_all.columns:\n",
    "    tensors_all[col] = 0\n",
    "    \n",
    "tensors_all.shape"
   ]
  },
  {
   "cell_type": "code",
   "execution_count": 73,
   "metadata": {
    "colab": {
     "base_uri": "https://localhost:8080/",
     "height": 34
    },
    "colab_type": "code",
    "id": "caWGmfsmpqv_",
    "outputId": "2ce7b1d3-1e97-42ae-8ec3-84aaf4338c6c"
   },
   "outputs": [
    {
     "name": "stdout",
     "output_type": "stream",
     "text": [
      "250671/250671 [==============================] - 15s 61us/step\n"
     ]
    }
   ],
   "source": [
    "NN_probs_out_user = model.predict([products_in, users_in, tensors_all], verbose=1)"
   ]
  },
  {
   "cell_type": "code",
   "execution_count": 0,
   "metadata": {
    "colab": {},
    "colab_type": "code",
    "id": "R0OVBzkZtMfy"
   },
   "outputs": [],
   "source": [
    "def MCdropout(T):\n",
    "    \n",
    "    Yt_hat = []\n",
    "    for _ in range(T):\n",
    "        Yt_hat += [model_BNN.predict([products_in, users_in, tensors_all],verbose=0)]\n",
    "    # 100 arrays with one output of each observation for X_test\n",
    "    Yt_hat = np.array(Yt_hat)\n",
    "    \n",
    "    predictive_mean = np.mean(Yt_hat, axis=0)\n",
    "    epistemic = np.mean(Yt_hat ** 2, axis=0) - np.mean(Yt_hat, axis=0) ** 2\n",
    "    #epistemic = np.sum(epistemic)\n",
    "    aleatoric = np.mean(Yt_hat * (1-Yt_hat), axis = 0)\n",
    "    \n",
    "    return Yt_hat, predictive_mean, epistemic, aleatoric"
   ]
  },
  {
   "cell_type": "code",
   "execution_count": 0,
   "metadata": {
    "colab": {},
    "colab_type": "code",
    "id": "XLIY2266tUBA"
   },
   "outputs": [],
   "source": [
    "probs_user, predictive_mean_user, model_uncertainty_user, data_uncertainty_user = MCdropout(T=20)"
   ]
  },
  {
   "cell_type": "code",
   "execution_count": 78,
   "metadata": {
    "colab": {
     "base_uri": "https://localhost:8080/",
     "height": 34
    },
    "colab_type": "code",
    "id": "axrAyu0dMlN-",
    "outputId": "296845cf-cde7-4a59-c097-3a36a6af33ca"
   },
   "outputs": [
    {
     "data": {
      "text/plain": [
       "(20, 250671, 1)"
      ]
     },
     "execution_count": 78,
     "metadata": {
      "tags": []
     },
     "output_type": "execute_result"
    }
   ],
   "source": [
    "probs_user.shape"
   ]
  },
  {
   "cell_type": "code",
   "execution_count": 85,
   "metadata": {
    "colab": {
     "base_uri": "https://localhost:8080/",
     "height": 170
    },
    "colab_type": "code",
    "id": "YKSymXyyvcCo",
    "outputId": "d2cedb27-144f-4c85-be63-54e91759ba75"
   },
   "outputs": [
    {
     "name": "stdout",
     "output_type": "stream",
     "text": [
      "With NN_preds:  0.5501349128911854 0.7340059280890091\n",
      "With percentile_preds:  0.6226257696591567 0.7333476947871912\n",
      "With BNN mean: 0.5454411827754908 0.7339740137471028\n",
      "Epistemic Uncertainty :  0.017196398\n",
      "Aleatoric Uncertainty :  0.19020279\n",
      "BNN F1 Score: 0.6359510160411228\n",
      "NN F1 Score: 0.6214471893306\n",
      "BNN Brier:  0.18220884168668233\n",
      "NN Brier:  0.1841366318516883\n"
     ]
    }
   ],
   "source": [
    "logloss_score_NN = log_loss(y,NN_probs_out_user)\n",
    "acc_NN = accuracy_score(y, np.round(NN_probs_out_user))\n",
    "\n",
    "percentile_probs_user = np.percentile(probs_user, 20, axis=0)\n",
    "\n",
    "logloss_score1 = log_loss(y,percentile_probs_user)\n",
    "acc1 = accuracy_score(y, np.round(percentile_probs_user))\n",
    "\n",
    "print('With NN_preds: ',logloss_score_NN, acc_NN)\n",
    "print('With percentile_preds: ',logloss_score1, acc1)\n",
    "\n",
    "# Testing dropout model accuracy\n",
    "print('With BNN mean:',log_loss(y, predictive_mean_user), accuracy_score(y, np.round(predictive_mean_user)) )\n",
    "print('Epistemic Uncertainty : ', np.mean(model_uncertainty_user))\n",
    "print('Aleatoric Uncertainty : ', np.mean(data_uncertainty_user))\n",
    "\n",
    "\n",
    "print(\"BNN F1 Score:\",f1_score(y, np.round(percentile_probs_user), average='weighted') )\n",
    "print(\"NN F1 Score:\",f1_score(y,np.round(NN_probs_out_user) , average='weighted') )\n",
    "\n",
    "from sklearn.metrics import brier_score_loss\n",
    "print(\"BNN Brier: \", brier_score_loss(y, predictive_mean_user))\n",
    "print(\"NN Brier: \", brier_score_loss(y, NN_probs_out_user))"
   ]
  },
  {
   "cell_type": "code",
   "execution_count": 0,
   "metadata": {
    "colab": {},
    "colab_type": "code",
    "id": "dNJRoqNNUXvZ"
   },
   "outputs": [],
   "source": [
    "New products - of of sample"
   ]
  },
  {
   "cell_type": "code",
   "execution_count": 86,
   "metadata": {
    "colab": {
     "base_uri": "https://localhost:8080/",
     "height": 34
    },
    "colab_type": "code",
    "id": "pZXovBee03l3",
    "outputId": "95ed9b0e-f6d9-47aa-b086-909f00bdab1f"
   },
   "outputs": [
    {
     "data": {
      "text/plain": [
       "(1370958, 196)"
      ]
     },
     "execution_count": 86,
     "metadata": {
      "tags": []
     },
     "output_type": "execute_result"
    }
   ],
   "source": [
    "# Preparing out of sample products data\n",
    "#EMBEDDING_COLUMNS = [\"user_id\", \"product_id\"]\n",
    "#df_deep, values, mappings = val2idx(df_use, EMBEDDING_COLUMNS)\n",
    "\n",
    "out_prod.drop(['product_name','department', 'Unnamed: 0', 'index'], axis=1, inplace=True)\n",
    "\n",
    "CATEGORICAL_COLUMNS = [\"order_dow\", \"order_hour_of_day\",\"aisle_id\",\"department_id\"]\n",
    "CONTINUOUS_COLUMNS = [\"days_since_prior_order\",\"order_number\",\"add_to_cart_order\",\"reordered_total\",\"product_id_orders\",\"user_distinct_products\",\"user_period\",\\\n",
    "                     \"user_orders\",\"average_cart_position\"]\n",
    "\n",
    "#One-hot encoding categorical columns\n",
    "out_prod = pd.get_dummies(out_prod, columns=[x for x in CATEGORICAL_COLUMNS])\n",
    "\n",
    "#Normalising the feature columns\n",
    "out_prod[CONTINUOUS_COLUMNS] = MinMaxScaler().fit_transform(out_prod[CONTINUOUS_COLUMNS].values)\n",
    "\n",
    "y = out_prod.reordered.values\n",
    "out_prod.drop(['reordered'], axis=1, inplace = True)\n",
    "\n",
    "products_in = out_prod['product_id']\n",
    "out_prod.drop(['product_id'], axis = 1, inplace=True)\n",
    "\n",
    "users_in = out_prod['user_id']\n",
    "out_prod.drop(['user_id'], axis=1, inplace= True)\n",
    "\n",
    "tensors_all = out_prod\n",
    "\n",
    "for col in X_test.columns:\n",
    "  if col not in tensors_all.columns:\n",
    "    tensors_all[col] = 0\n",
    "    \n",
    "tensors_all.shape"
   ]
  },
  {
   "cell_type": "code",
   "execution_count": 95,
   "metadata": {
    "colab": {
     "base_uri": "https://localhost:8080/",
     "height": 34
    },
    "colab_type": "code",
    "id": "EeneC9iu1HFq",
    "outputId": "f51004b1-826e-4e2d-ad06-f144b0e38bfb"
   },
   "outputs": [
    {
     "name": "stdout",
     "output_type": "stream",
     "text": [
      "1347756/1347756 [==============================] - 83s 61us/step\n"
     ]
    }
   ],
   "source": [
    "NN_probs = model.predict([products_in, users_in, tensors_all], verbose=1)"
   ]
  },
  {
   "cell_type": "code",
   "execution_count": 0,
   "metadata": {
    "colab": {},
    "colab_type": "code",
    "id": "HD3BUDfy1K5X"
   },
   "outputs": [],
   "source": [
    "def MCdropout(T):\n",
    "    \n",
    "    Yt_hat = []\n",
    "    for _ in range(T):\n",
    "        Yt_hat += [model_BNN.predict([products_in, users_in, tensors_all],verbose=0)]\n",
    "    # 100 arrays with one output of each observation for X_test\n",
    "    Yt_hat = np.array(Yt_hat)\n",
    "    \n",
    "    predictive_mean = np.mean(Yt_hat, axis=0)\n",
    "    epistemic = np.mean(Yt_hat ** 2, axis=0) - np.mean(Yt_hat, axis=0) ** 2\n",
    "    #epistemic = np.sum(epistemic)\n",
    "    aleatoric = np.mean(Yt_hat * (1-Yt_hat), axis = 0)\n",
    "    #aleatoric = np.sum(aleatoric)\n",
    "    \n",
    "    return Yt_hat, predictive_mean, epistemic, aleatoric\n",
    "  \n",
    "probs, predictive_mean, model_uncertainty, data_uncertainty = MCdropout(T=20)"
   ]
  },
  {
   "cell_type": "code",
   "execution_count": 98,
   "metadata": {
    "colab": {
     "base_uri": "https://localhost:8080/",
     "height": 187
    },
    "colab_type": "code",
    "id": "ONO9b9PR1SSR",
    "outputId": "c47cc147-2272-40f7-c22d-7d0dc672af41"
   },
   "outputs": [
    {
     "name": "stdout",
     "output_type": "stream",
     "text": [
      "With NN_preds:  0.7749222440309856 0.4762813150154776\n",
      "With percentile_preds:  0.6874046358884232 0.522465490786166\n",
      "BNN Mean Accuracy : 0.475882874941755\n",
      "BNN Mean Log Loss : 0.6958519914493957\n",
      "Epistemic Uncertainty :  0.020104082\n",
      "Aleatoric Uncertainty :  0.20755515\n",
      "BNN F1 Score: 0.42256281038435145\n",
      "NN F1 Score: 0.3077684791375566\n",
      "BNN Brier:  0.24706477501365853\n",
      "NN Brier:  0.2718917325485952\n"
     ]
    }
   ],
   "source": [
    "logloss_score_NN = log_loss(y,NN_probs)\n",
    "acc_NN = accuracy_score(y, np.round(NN_probs))\n",
    "\n",
    "percentile_probs = np.percentile(probs, 20, axis=0)\n",
    "\n",
    "logloss_score1 = log_loss(y,percentile_probs)\n",
    "acc1 = accuracy_score(y, np.round(percentile_probs))\n",
    "\n",
    "print('With NN_preds: ',logloss_score_NN, acc_NN)\n",
    "print('With percentile_preds: ',logloss_score1, acc1)\n",
    "\n",
    "# Testing dropout model accuracy\n",
    "print('BNN Mean Accuracy :', accuracy_score(y, np.round(predictive_mean)))\n",
    "print('BNN Mean Log Loss :', log_loss(y, predictive_mean))\n",
    "print('Epistemic Uncertainty : ', np.mean(model_uncertainty))\n",
    "print('Aleatoric Uncertainty : ', np.mean(data_uncertainty))\n",
    "\n",
    "\n",
    "print(\"BNN F1 Score:\",f1_score(y, np.round(percentile_probs), average='weighted') )\n",
    "print(\"NN F1 Score:\",f1_score(y,np.round(NN_probs) , average='weighted') )\n",
    "\n",
    "print(\"BNN Brier: \", brier_score_loss(y, percentile_probs))\n",
    "print(\"NN Brier: \", brier_score_loss(y, NN_probs))"
   ]
  },
  {
   "cell_type": "markdown",
   "metadata": {
    "colab_type": "text",
    "id": "g4AxNJW4UTOO"
   },
   "source": [
    "New users + New products\n"
   ]
  },
  {
   "cell_type": "code",
   "execution_count": 0,
   "metadata": {
    "colab": {},
    "colab_type": "code",
    "id": "NlChuAXw1q7f"
   },
   "outputs": [],
   "source": [
    "# Preparing out of sample users data\n",
    "#EMBEDDING_COLUMNS = [\"user_id\", \"product_id\"]\n",
    "#df_deep, values, mappings = val2idx(df_use, EMBEDDING_COLUMNS)\n",
    "\n",
    "#out_both.drop(['product_name','department', 'Unnamed: 0', 'index'], axis=1, inplace=True)\n",
    "\n",
    "CATEGORICAL_COLUMNS = [\"order_dow\", \"order_hour_of_day\",\"aisle_id\",\"department_id\"]\n",
    "CONTINUOUS_COLUMNS = [\"days_since_prior_order\",\"order_number\",\"add_to_cart_order\",\"reordered_total\",\"product_id_orders\",\"user_distinct_products\",\"user_period\",\\\n",
    "                     \"user_orders\",\"average_cart_position\"]\n",
    "\n",
    "#One-hot encoding categorical columns\n",
    "out_both = pd.get_dummies(out_both, columns=[x for x in CATEGORICAL_COLUMNS])\n",
    "\n",
    "#Normalising the feature columns\n",
    "out_both[CONTINUOUS_COLUMNS] = MinMaxScaler().fit_transform(out_both[CONTINUOUS_COLUMNS].values)\n",
    "\n",
    "y = out_both.reordered.values\n",
    "out_both.drop(['reordered'], axis=1, inplace = True)\n",
    "\n",
    "products_in = out_both['product_id']\n",
    "out_both.drop(['product_id'], axis = 1, inplace=True)\n",
    "\n",
    "users_in = out_both['user_id']\n",
    "out_both.drop(['user_id'], axis=1, inplace= True)\n",
    "\n",
    "tensors_all = out_both"
   ]
  },
  {
   "cell_type": "code",
   "execution_count": 141,
   "metadata": {
    "colab": {
     "base_uri": "https://localhost:8080/",
     "height": 34
    },
    "colab_type": "code",
    "id": "tFie-f8fpwHJ",
    "outputId": "2c846978-0e74-4f4e-edd2-1c166744dd91"
   },
   "outputs": [
    {
     "name": "stdout",
     "output_type": "stream",
     "text": [
      "(1347756,) (1347756,) (1347756, 146)\n"
     ]
    }
   ],
   "source": [
    "print(products_in.shape, users_in.shape, tensors_all.shape)"
   ]
  },
  {
   "cell_type": "code",
   "execution_count": 0,
   "metadata": {
    "colab": {},
    "colab_type": "code",
    "id": "ckwbx4Xcr3Hs"
   },
   "outputs": [],
   "source": [
    "for col in X_test.columns:\n",
    "  if col not in tensors_all.columns:\n",
    "    tensors_all[col] = 0"
   ]
  },
  {
   "cell_type": "code",
   "execution_count": 0,
   "metadata": {
    "colab": {},
    "colab_type": "code",
    "id": "kK9JMs78ssg_"
   },
   "outputs": [],
   "source": [
    "tensors_all.drop(['user_id', 'product_id'], axis=1, inplace=True)"
   ]
  },
  {
   "cell_type": "code",
   "execution_count": 144,
   "metadata": {
    "colab": {
     "base_uri": "https://localhost:8080/",
     "height": 34
    },
    "colab_type": "code",
    "id": "5vYL2a2us2iE",
    "outputId": "c1e5a85d-1de1-43ea-a01f-8ea0c343cb19"
   },
   "outputs": [
    {
     "data": {
      "text/plain": [
       "(1347756, 200)"
      ]
     },
     "execution_count": 144,
     "metadata": {
      "tags": []
     },
     "output_type": "execute_result"
    }
   ],
   "source": [
    "tensors_all.shape"
   ]
  },
  {
   "cell_type": "code",
   "execution_count": 0,
   "metadata": {
    "colab": {},
    "colab_type": "code",
    "id": "_xazrFl112Ax"
   },
   "outputs": [],
   "source": [
    "NN_probs = model.predict([products_in, users_in, tensors_all], verbose=1)"
   ]
  },
  {
   "cell_type": "code",
   "execution_count": 0,
   "metadata": {
    "colab": {},
    "colab_type": "code",
    "id": "GMUDgMOw15Dy"
   },
   "outputs": [],
   "source": [
    "def MCdropout(T):\n",
    "    \n",
    "    Yt_hat = []\n",
    "    for _ in range(T):\n",
    "        Yt_hat += [model_BNN.predict([products_in, users_in, tensors_all],verbose=0)]\n",
    "    # 100 arrays with one output of each observation for X_test\n",
    "    Yt_hat = np.array(Yt_hat)\n",
    "    \n",
    "    predictive_mean = np.mean(Yt_hat, axis=0)\n",
    "    epistemic = np.mean(Yt_hat ** 2, axis=0) - np.mean(Yt_hat, axis=0) ** 2\n",
    "    #epistemic = np.sum(epistemic)\n",
    "    aleatoric = np.mean(Yt_hat * (1-Yt_hat), axis = 0)\n",
    "    #aleatoric = np.sum(aleatoric)\n",
    "    \n",
    "    return Yt_hat, predictive_mean, epistemic, aleatoric\n",
    "  \n",
    "probs, predictive_mean, model_uncertainty, data_uncertainty = MCdropout(T=20)"
   ]
  },
  {
   "cell_type": "code",
   "execution_count": 105,
   "metadata": {
    "colab": {
     "base_uri": "https://localhost:8080/",
     "height": 187
    },
    "colab_type": "code",
    "id": "QDjgGfPS19fj",
    "outputId": "a8d20f67-52a4-4836-8f80-ca455e5dbef7"
   },
   "outputs": [
    {
     "name": "stdout",
     "output_type": "stream",
     "text": [
      "With NN_preds:  0.7749222440309856 0.4762813150154776\n",
      "With percentile_preds:  0.6873614547589103 0.5225901424293418\n",
      "Accuracy BNN mean : 0.4758880687602207\n",
      "Log Loss BNN mean : 0.6957250232367913\n",
      "Epistemic Uncertainty :  0.020099426\n",
      "Aleatoric Uncertainty :  0.20757474\n",
      "BNN F1 Score: 0.42277701514824684\n",
      "NN F1 Score: 0.3077684791375566\n",
      "BNN Brier:  0.24704148414959048\n",
      "NN Brier:  0.2718917325485952\n"
     ]
    }
   ],
   "source": [
    "logloss_score_NN = log_loss(y,NN_probs)\n",
    "acc_NN = accuracy_score(y, np.round(NN_probs))\n",
    "\n",
    "percentile_probs = np.percentile(probs, 20, axis=0)\n",
    "\n",
    "logloss_score1 = log_loss(y,percentile_probs)\n",
    "acc1 = accuracy_score(y, np.round(percentile_probs))\n",
    "\n",
    "print('With NN_preds: ',logloss_score_NN, acc_NN)\n",
    "print('With percentile_preds: ',logloss_score1, acc1)\n",
    "\n",
    "# Testing dropout model accuracy\n",
    "print('Accuracy BNN mean :', accuracy_score(y, np.round(predictive_mean)))\n",
    "print('Log Loss BNN mean :', log_loss(y, predictive_mean))\n",
    "print('Epistemic Uncertainty : ', np.mean(model_uncertainty))\n",
    "print('Aleatoric Uncertainty : ', np.mean(data_uncertainty))\n",
    "\n",
    "from sklearn.metrics import f1_score\n",
    "\n",
    "print(\"BNN F1 Score:\",f1_score(y, np.round(percentile_probs), average='weighted') )\n",
    "print(\"NN F1 Score:\",f1_score(y,np.round(NN_probs) , average='weighted') )\n",
    "\n",
    "print(\"BNN Brier: \", brier_score_loss(y, percentile_probs))\n",
    "print(\"NN Brier: \", brier_score_loss(y, NN_probs))"
   ]
  },
  {
   "cell_type": "code",
   "execution_count": 0,
   "metadata": {
    "colab": {
     "base_uri": "https://localhost:8080/",
     "height": 308
    },
    "colab_type": "code",
    "id": "xb2p1yhj6stC",
    "outputId": "a38c74b2-d802-48e2-d3f2-69cc98ddbf1b"
   },
   "outputs": [
    {
     "data": {
      "image/png": "[encoded data removed]",
      "text/plain": [
       "<Figure size 432x288 with 1 Axes>"
      ]
     },
     "metadata": {
      "tags": []
     },
     "output_type": "display_data"
    }
   ],
   "source": [
    "logreg_y_bnn, logreg_x_bnn = calibration_curve(y, predictive_mean, n_bins=10)\n",
    "logreg_y, logreg_x = calibration_curve(y, NN_probs, n_bins=10)\n",
    "\n",
    "%matplotlib inline\n",
    "import matplotlib.pyplot as plt\n",
    "import matplotlib.lines as mlines\n",
    "import matplotlib.transforms as mtransforms\n",
    "\n",
    "fig, ax = plt.subplots()\n",
    "# only these two lines are calibration curves\n",
    "plt.plot(logreg_x,logreg_y, marker='o', linewidth=1, label='Frequentist NN', color='red')\n",
    "plt.plot(logreg_x_bnn,logreg_y_bnn, marker='o', linewidth=1, label='MC Dropout')\n",
    "#plt.plot(logreg_x_20,logreg_y_20, marker='o', linewidth=1, label='MC Dropout (20%)',color='green')\n",
    "\n",
    "# reference line, legends, and axis labels\n",
    "line = mlines.Line2D([0, 1], [0, 1], color='black')\n",
    "transform = ax.transAxes\n",
    "line.set_transform(transform)\n",
    "ax.add_line(line)\n",
    "\n",
    "fig.suptitle('Calibration plot for Out of Distribution samples')\n",
    "ax.set_xlabel('Predicted probability')\n",
    "ax.set_ylabel('True probability in each bin')\n",
    "plt.legend()\n",
    "\n",
    "plt.savefig(root_path+\"calibration_plot_out.png\")\n",
    "plt.show()"
   ]
  },
  {
   "cell_type": "markdown",
   "metadata": {
    "colab_type": "text",
    "id": "u9hMMbgpUJVA"
   },
   "source": [
    "**Ranking Products based on prediction probabilties**"
   ]
  },
  {
   "cell_type": "code",
   "execution_count": 0,
   "metadata": {
    "colab": {},
    "colab_type": "code",
    "id": "KNsEvp1SgNY_"
   },
   "outputs": [],
   "source": [
    "X_train, X_test, y_train, y_test = train_test_split(df_use, y, test_size=0.25, random_state=42, stratify=y)"
   ]
  },
  {
   "cell_type": "code",
   "execution_count": 0,
   "metadata": {
    "colab": {},
    "colab_type": "code",
    "id": "-VqoD-zOabcF"
   },
   "outputs": [],
   "source": [
    "percentile_probs = np.percentile(pb20, 20, axis=0)"
   ]
  },
  {
   "cell_type": "code",
   "execution_count": 78,
   "metadata": {
    "colab": {
     "base_uri": "https://localhost:8080/",
     "height": 34
    },
    "colab_type": "code",
    "id": "0UPSGP6NUEig",
    "outputId": "9281d438-92d2-4ddc-cdc2-ef5f39d830a2"
   },
   "outputs": [
    {
     "name": "stdout",
     "output_type": "stream",
     "text": [
      "(600038,) (600038, 1) (20, 600038, 1) (600038, 1)\n"
     ]
    }
   ],
   "source": [
    "#df_tr, df_test, y_tr, y_te = train_test_split(df_use, df_use.reordered, test_size=0.20, random_state=42, stratify=y)\n",
    "print(y_test.shape, NN_probs.shape, pb20.shape, percentile_probs.shape)"
   ]
  },
  {
   "cell_type": "code",
   "execution_count": 180,
   "metadata": {
    "colab": {
     "base_uri": "https://localhost:8080/",
     "height": 323
    },
    "colab_type": "code",
    "id": "BLgqtBWw9LA7",
    "outputId": "53daec36-f4ff-4357-c31d-74ca7e1f2afd"
   },
   "outputs": [
    {
     "name": "stderr",
     "output_type": "stream",
     "text": [
      "/usr/local/lib/python3.6/dist-packages/ipykernel_launcher.py:1: SettingWithCopyWarning: \n",
      "A value is trying to be set on a copy of a slice from a DataFrame.\n",
      "Try using .loc[row_indexer,col_indexer] = value instead\n",
      "\n",
      "See the caveats in the documentation: http://pandas.pydata.org/pandas-docs/stable/indexing.html#indexing-view-versus-copy\n",
      "  \"\"\"Entry point for launching an IPython kernel.\n",
      "/usr/local/lib/python3.6/dist-packages/ipykernel_launcher.py:3: SettingWithCopyWarning: \n",
      "A value is trying to be set on a copy of a slice from a DataFrame.\n",
      "Try using .loc[row_indexer,col_indexer] = value instead\n",
      "\n",
      "See the caveats in the documentation: http://pandas.pydata.org/pandas-docs/stable/indexing.html#indexing-view-versus-copy\n",
      "  This is separate from the ipykernel package so we can avoid doing imports until\n",
      "/usr/local/lib/python3.6/dist-packages/ipykernel_launcher.py:4: SettingWithCopyWarning: \n",
      "A value is trying to be set on a copy of a slice from a DataFrame.\n",
      "Try using .loc[row_indexer,col_indexer] = value instead\n",
      "\n",
      "See the caveats in the documentation: http://pandas.pydata.org/pandas-docs/stable/indexing.html#indexing-view-versus-copy\n",
      "  after removing the cwd from sys.path.\n"
     ]
    }
   ],
   "source": [
    "X_test['NN_probs'] = NN_probs\n",
    "#df_test['BNN_mean'] = predictive_mean_BNN\n",
    "X_test['BNN_20p'] = percentile_probs\n",
    "X_test['lgb_probs'] = light_gbm"
   ]
  },
  {
   "cell_type": "code",
   "execution_count": 149,
   "metadata": {
    "colab": {
     "base_uri": "https://localhost:8080/",
     "height": 71
    },
    "colab_type": "code",
    "id": "YRB-tdZVbPQY",
    "outputId": "9a9515b9-e9ae-4878-8f79-6f304deaaf48"
   },
   "outputs": [
    {
     "name": "stderr",
     "output_type": "stream",
     "text": [
      "/usr/local/lib/python3.6/dist-packages/ipykernel_launcher.py:1: UserWarning: Pandas doesn't allow columns to be created via a new attribute name - see https://pandas.pydata.org/pandas-docs/stable/indexing.html#attribute-access\n",
      "  \"\"\"Entry point for launching an IPython kernel.\n"
     ]
    }
   ],
   "source": [
    "X_test.reordered = y_test"
   ]
  },
  {
   "cell_type": "code",
   "execution_count": 151,
   "metadata": {
    "colab": {
     "base_uri": "https://localhost:8080/",
     "height": 34
    },
    "colab_type": "code",
    "id": "aA5R_CzKblY_",
    "outputId": "b3d2b861-5635-4e0b-b212-845c897e7062"
   },
   "outputs": [
    {
     "data": {
      "text/plain": [
       "(600038, 201)"
      ]
     },
     "execution_count": 151,
     "metadata": {
      "tags": []
     },
     "output_type": "execute_result"
    }
   ],
   "source": [
    "X_test.shape"
   ]
  },
  {
   "cell_type": "code",
   "execution_count": 0,
   "metadata": {
    "colab": {},
    "colab_type": "code",
    "id": "CEzisEtqtnZV"
   },
   "outputs": [],
   "source": [
    "light_gbm = np.load(root_path +'lightGBM_pred.npy')"
   ]
  },
  {
   "cell_type": "code",
   "execution_count": 177,
   "metadata": {
    "colab": {
     "base_uri": "https://localhost:8080/",
     "height": 34
    },
    "colab_type": "code",
    "id": "okemNrqj8ap1",
    "outputId": "c12e5508-a505-41c4-f7d7-e899272c5ad3"
   },
   "outputs": [
    {
     "name": "stdout",
     "output_type": "stream",
     "text": [
      "(600038, 201) 100 3902\n"
     ]
    }
   ],
   "source": [
    "#X_test = X_test[X_test.reordered ==1]\n",
    "print(X_test.shape, X_test.user_id.nunique(), X_test.product_id.nunique())"
   ]
  },
  {
   "cell_type": "code",
   "execution_count": 0,
   "metadata": {
    "colab": {},
    "colab_type": "code",
    "id": "s2isFV94Z9wb"
   },
   "outputs": [],
   "source": [
    "#X_test.to_csv(root_path+'results_new.csv')"
   ]
  },
  {
   "cell_type": "code",
   "execution_count": 181,
   "metadata": {
    "colab": {
     "base_uri": "https://localhost:8080/",
     "height": 323
    },
    "colab_type": "code",
    "id": "Cbv5vo4uVcWe",
    "outputId": "4dd5a104-edb4-424a-c086-e1b9f4fa05f8"
   },
   "outputs": [
    {
     "name": "stderr",
     "output_type": "stream",
     "text": [
      "/usr/local/lib/python3.6/dist-packages/ipykernel_launcher.py:3: SettingWithCopyWarning: \n",
      "A value is trying to be set on a copy of a slice from a DataFrame.\n",
      "Try using .loc[row_indexer,col_indexer] = value instead\n",
      "\n",
      "See the caveats in the documentation: http://pandas.pydata.org/pandas-docs/stable/indexing.html#indexing-view-versus-copy\n",
      "  This is separate from the ipykernel package so we can avoid doing imports until\n",
      "/usr/local/lib/python3.6/dist-packages/ipykernel_launcher.py:4: SettingWithCopyWarning: \n",
      "A value is trying to be set on a copy of a slice from a DataFrame.\n",
      "Try using .loc[row_indexer,col_indexer] = value instead\n",
      "\n",
      "See the caveats in the documentation: http://pandas.pydata.org/pandas-docs/stable/indexing.html#indexing-view-versus-copy\n",
      "  after removing the cwd from sys.path.\n",
      "/usr/local/lib/python3.6/dist-packages/ipykernel_launcher.py:5: SettingWithCopyWarning: \n",
      "A value is trying to be set on a copy of a slice from a DataFrame.\n",
      "Try using .loc[row_indexer,col_indexer] = value instead\n",
      "\n",
      "See the caveats in the documentation: http://pandas.pydata.org/pandas-docs/stable/indexing.html#indexing-view-versus-copy\n",
      "  \"\"\"\n"
     ]
    }
   ],
   "source": [
    "df_test = X_test\n",
    "df_test = df_test.drop_duplicates(subset=['order_id','user_id','product_id'])\n",
    "df_test['NN_ranks'] = pd.DataFrame(df_test.groupby('order_id')['NN_probs'].rank(ascending=False))\n",
    "df_test['BNN_ranks20'] = pd.DataFrame(df_test.groupby('order_id')['BNN_20p'].rank(ascending=False))\n",
    "df_test['lgb_ranks'] = pd.DataFrame(df_test.groupby('order_id')['lgb_probs'].rank(ascending=False))\n",
    "#df_test['BNN_ranks_mean'] = pd.DataFrame(df_test.groupby('order_id')['BNN_mean'].rank(ascending=False))"
   ]
  },
  {
   "cell_type": "code",
   "execution_count": 182,
   "metadata": {
    "colab": {
     "base_uri": "https://localhost:8080/",
     "height": 253
    },
    "colab_type": "code",
    "id": "zq-V-KIuvthe",
    "outputId": "4623e949-8c7c-4844-fa6d-8f512bedf347"
   },
   "outputs": [
    {
     "data": {
      "text/html": [
       "<div>\n",
       "<style scoped>\n",
       "    .dataframe tbody tr th:only-of-type {\n",
       "        vertical-align: middle;\n",
       "    }\n",
       "\n",
       "    .dataframe tbody tr th {\n",
       "        vertical-align: top;\n",
       "    }\n",
       "\n",
       "    .dataframe thead th {\n",
       "        text-align: right;\n",
       "    }\n",
       "</style>\n",
       "<table border=\"1\" class=\"dataframe\">\n",
       "  <thead>\n",
       "    <tr style=\"text-align: right;\">\n",
       "      <th></th>\n",
       "      <th>order_id</th>\n",
       "      <th>product_id</th>\n",
       "      <th>add_to_cart_order</th>\n",
       "      <th>user_id</th>\n",
       "      <th>order_number</th>\n",
       "      <th>days_since_prior_order</th>\n",
       "      <th>average_cart_position</th>\n",
       "      <th>user_orders</th>\n",
       "      <th>user_period</th>\n",
       "      <th>user_distinct_products</th>\n",
       "      <th>...</th>\n",
       "      <th>department_id_19</th>\n",
       "      <th>department_id_20</th>\n",
       "      <th>department_id_21</th>\n",
       "      <th>NN_probs</th>\n",
       "      <th>BNN_20p</th>\n",
       "      <th>lgb</th>\n",
       "      <th>lgb_probs</th>\n",
       "      <th>NN_ranks</th>\n",
       "      <th>BNN_ranks20</th>\n",
       "      <th>lgb_ranks</th>\n",
       "    </tr>\n",
       "  </thead>\n",
       "  <tbody>\n",
       "    <tr>\n",
       "      <th>2339401</th>\n",
       "      <td>3176626</td>\n",
       "      <td>407</td>\n",
       "      <td>0.000000</td>\n",
       "      <td>100</td>\n",
       "      <td>0.181818</td>\n",
       "      <td>0.166667</td>\n",
       "      <td>0.058197</td>\n",
       "      <td>1.000000</td>\n",
       "      <td>0.215989</td>\n",
       "      <td>0.597333</td>\n",
       "      <td>...</td>\n",
       "      <td>0</td>\n",
       "      <td>0</td>\n",
       "      <td>0</td>\n",
       "      <td>0.950271</td>\n",
       "      <td>0.940211</td>\n",
       "      <td>0.950826</td>\n",
       "      <td>0.950826</td>\n",
       "      <td>1.0</td>\n",
       "      <td>1.0</td>\n",
       "      <td>11.0</td>\n",
       "    </tr>\n",
       "    <tr>\n",
       "      <th>230893</th>\n",
       "      <td>1076593</td>\n",
       "      <td>26</td>\n",
       "      <td>0.074627</td>\n",
       "      <td>7</td>\n",
       "      <td>0.383838</td>\n",
       "      <td>0.200000</td>\n",
       "      <td>0.132638</td>\n",
       "      <td>1.000000</td>\n",
       "      <td>0.503279</td>\n",
       "      <td>0.536000</td>\n",
       "      <td>...</td>\n",
       "      <td>0</td>\n",
       "      <td>0</td>\n",
       "      <td>0</td>\n",
       "      <td>0.989375</td>\n",
       "      <td>0.973157</td>\n",
       "      <td>0.975385</td>\n",
       "      <td>0.975385</td>\n",
       "      <td>2.0</td>\n",
       "      <td>2.0</td>\n",
       "      <td>7.0</td>\n",
       "    </tr>\n",
       "    <tr>\n",
       "      <th>149784</th>\n",
       "      <td>2115926</td>\n",
       "      <td>121</td>\n",
       "      <td>0.044776</td>\n",
       "      <td>6</td>\n",
       "      <td>0.414141</td>\n",
       "      <td>0.400000</td>\n",
       "      <td>0.122951</td>\n",
       "      <td>0.447917</td>\n",
       "      <td>0.456274</td>\n",
       "      <td>0.485333</td>\n",
       "      <td>...</td>\n",
       "      <td>0</td>\n",
       "      <td>0</td>\n",
       "      <td>0</td>\n",
       "      <td>0.969021</td>\n",
       "      <td>0.937269</td>\n",
       "      <td>0.976975</td>\n",
       "      <td>0.976975</td>\n",
       "      <td>5.0</td>\n",
       "      <td>3.0</td>\n",
       "      <td>10.0</td>\n",
       "    </tr>\n",
       "    <tr>\n",
       "      <th>1754428</th>\n",
       "      <td>3018235</td>\n",
       "      <td>129</td>\n",
       "      <td>0.044776</td>\n",
       "      <td>74</td>\n",
       "      <td>0.171717</td>\n",
       "      <td>0.233333</td>\n",
       "      <td>0.049180</td>\n",
       "      <td>0.364583</td>\n",
       "      <td>0.352638</td>\n",
       "      <td>0.594667</td>\n",
       "      <td>...</td>\n",
       "      <td>0</td>\n",
       "      <td>0</td>\n",
       "      <td>0</td>\n",
       "      <td>0.848032</td>\n",
       "      <td>0.803881</td>\n",
       "      <td>0.796950</td>\n",
       "      <td>0.796950</td>\n",
       "      <td>1.0</td>\n",
       "      <td>1.0</td>\n",
       "      <td>10.0</td>\n",
       "    </tr>\n",
       "    <tr>\n",
       "      <th>764667</th>\n",
       "      <td>1359768</td>\n",
       "      <td>1000</td>\n",
       "      <td>0.000000</td>\n",
       "      <td>19</td>\n",
       "      <td>0.010101</td>\n",
       "      <td>0.266667</td>\n",
       "      <td>0.175410</td>\n",
       "      <td>0.395833</td>\n",
       "      <td>0.613521</td>\n",
       "      <td>0.600000</td>\n",
       "      <td>...</td>\n",
       "      <td>0</td>\n",
       "      <td>0</td>\n",
       "      <td>0</td>\n",
       "      <td>0.694737</td>\n",
       "      <td>0.550198</td>\n",
       "      <td>0.830898</td>\n",
       "      <td>0.830898</td>\n",
       "      <td>7.0</td>\n",
       "      <td>8.0</td>\n",
       "      <td>17.0</td>\n",
       "    </tr>\n",
       "  </tbody>\n",
       "</table>\n",
       "<p>5 rows × 205 columns</p>\n",
       "</div>"
      ],
      "text/plain": [
       "         order_id  product_id  add_to_cart_order  user_id  order_number  \\\n",
       "2339401   3176626         407           0.000000      100      0.181818   \n",
       "230893    1076593          26           0.074627        7      0.383838   \n",
       "149784    2115926         121           0.044776        6      0.414141   \n",
       "1754428   3018235         129           0.044776       74      0.171717   \n",
       "764667    1359768        1000           0.000000       19      0.010101   \n",
       "\n",
       "         days_since_prior_order  average_cart_position  user_orders  \\\n",
       "2339401                0.166667               0.058197     1.000000   \n",
       "230893                 0.200000               0.132638     1.000000   \n",
       "149784                 0.400000               0.122951     0.447917   \n",
       "1754428                0.233333               0.049180     0.364583   \n",
       "764667                 0.266667               0.175410     0.395833   \n",
       "\n",
       "         user_period  user_distinct_products    ...      department_id_19  \\\n",
       "2339401     0.215989                0.597333    ...                     0   \n",
       "230893      0.503279                0.536000    ...                     0   \n",
       "149784      0.456274                0.485333    ...                     0   \n",
       "1754428     0.352638                0.594667    ...                     0   \n",
       "764667      0.613521                0.600000    ...                     0   \n",
       "\n",
       "         department_id_20  department_id_21  NN_probs   BNN_20p       lgb  \\\n",
       "2339401                 0                 0  0.950271  0.940211  0.950826   \n",
       "230893                  0                 0  0.989375  0.973157  0.975385   \n",
       "149784                  0                 0  0.969021  0.937269  0.976975   \n",
       "1754428                 0                 0  0.848032  0.803881  0.796950   \n",
       "764667                  0                 0  0.694737  0.550198  0.830898   \n",
       "\n",
       "         lgb_probs  NN_ranks  BNN_ranks20  lgb_ranks  \n",
       "2339401   0.950826       1.0          1.0       11.0  \n",
       "230893    0.975385       2.0          2.0        7.0  \n",
       "149784    0.976975       5.0          3.0       10.0  \n",
       "1754428   0.796950       1.0          1.0       10.0  \n",
       "764667    0.830898       7.0          8.0       17.0  \n",
       "\n",
       "[5 rows x 205 columns]"
      ]
     },
     "execution_count": 182,
     "metadata": {
      "tags": []
     },
     "output_type": "execute_result"
    }
   ],
   "source": [
    "df_test.head()"
   ]
  },
  {
   "cell_type": "code",
   "execution_count": 0,
   "metadata": {
    "colab": {},
    "colab_type": "code",
    "id": "2CF0I_g9WyBY"
   },
   "outputs": [],
   "source": [
    "Top10_df = df_test[df_test.BNN_ranks20 < 11]"
   ]
  },
  {
   "cell_type": "code",
   "execution_count": 0,
   "metadata": {
    "colab": {},
    "colab_type": "code",
    "id": "O-Om0ij3fJ5_"
   },
   "outputs": [],
   "source": [
    "Top10_df = Top10_df.sort_values(by=['user_id','order_number','BNN_ranks20'])"
   ]
  },
  {
   "cell_type": "code",
   "execution_count": 0,
   "metadata": {
    "colab": {},
    "colab_type": "code",
    "id": "VSbThOPfjveh"
   },
   "outputs": [],
   "source": [
    "ordered_list = pd.DataFrame(Top10_df.groupby('order_id').apply(lambda order: order['product_id'].tolist()))\n",
    "ordered_list.reset_index(inplace=True)\n",
    "ordered_list.columns = ['order_id','ordered']"
   ]
  },
  {
   "cell_type": "code",
   "execution_count": 0,
   "metadata": {
    "colab": {},
    "colab_type": "code",
    "id": "fjq5-P1dp-5k"
   },
   "outputs": [],
   "source": [
    "recommended_list_BNN20 = pd.DataFrame(Top10_df.groupby('order_id').apply(lambda order: order.product_id[order['BNN_ranks20']<6].tolist()))\n",
    "recommended_list_BNN20.reset_index(inplace=True)\n",
    "recommended_list_BNN20.columns = ['order_id','BNN_recommend20']\n",
    "\n",
    "#recommended_list_BNN_mean = pd.DataFrame(Top10_df.groupby('order_id').apply(lambda order: order.product_id[order['BNN_ranks_mean']<6].tolist()))\n",
    "#recommended_list_BNN_mean.reset_index(inplace=True)\n",
    "#recommended_list_BNN_mean.columns = ['order_id','BNN_recommend_mean']"
   ]
  },
  {
   "cell_type": "code",
   "execution_count": 0,
   "metadata": {
    "colab": {},
    "colab_type": "code",
    "id": "1jSoJNyOpRuH"
   },
   "outputs": [],
   "source": [
    "Top10_df = Top10_df.sort_values(by=['user_id','order_number','NN_ranks'])\n",
    "\n",
    "recommended_list_NN = pd.DataFrame(Top10_df.groupby('order_id').apply(lambda order: order.product_id[order['NN_ranks']<6].tolist()))\n",
    "recommended_list_NN.reset_index(inplace=True)\n",
    "recommended_list_NN.columns = ['order_id','NN_recommend']"
   ]
  },
  {
   "cell_type": "code",
   "execution_count": 0,
   "metadata": {
    "colab": {},
    "colab_type": "code",
    "id": "eqzckN6ZuZSh"
   },
   "outputs": [],
   "source": [
    "Top10_df = Top10_df.sort_values(by=['user_id','order_number','lgb_ranks'])\n",
    "\n",
    "recommended_list_lgb = pd.DataFrame(Top10_df.groupby('order_id').apply(lambda order: order.product_id[order['lgb_ranks']<6].tolist()))\n",
    "recommended_list_lgb.reset_index(inplace=True)\n",
    "recommended_list_lgb.columns = ['order_id','lgb_recommend']"
   ]
  },
  {
   "cell_type": "code",
   "execution_count": 191,
   "metadata": {
    "colab": {
     "base_uri": "https://localhost:8080/",
     "height": 34
    },
    "colab_type": "code",
    "id": "RzMZXPVnq4Zz",
    "outputId": "785f490e-8908-47f8-ee4b-892d68b193fd"
   },
   "outputs": [
    {
     "data": {
      "text/plain": [
       "(3388, 4)"
      ]
     },
     "execution_count": 191,
     "metadata": {
      "tags": []
     },
     "output_type": "execute_result"
    }
   ],
   "source": [
    "merged = pd.merge(ordered_list, Top10_df[['order_id','user_id','order_number']], on='order_id',how='left')\n",
    "merged.drop_duplicates(subset=['order_id'],inplace=True)\n",
    "merged.shape"
   ]
  },
  {
   "cell_type": "code",
   "execution_count": 0,
   "metadata": {
    "colab": {},
    "colab_type": "code",
    "id": "aC4sBrp7sFTV"
   },
   "outputs": [],
   "source": [
    "merged_rank = pd.merge(merged, recommended_list_NN, on='order_id',how='left')\n",
    "merged_ranks = pd.merge(merged_rank, recommended_list_BNN20, on='order_id', how='left')\n",
    "merged_ranks = pd.merge(merged_rank, recommended_list_lgb, on='order_id', how='left')\n",
    "#merged_ranks = pd.merge(merged_ranks, recommended_list_BNN_mean, on='order_id', how='left')"
   ]
  },
  {
   "cell_type": "code",
   "execution_count": 0,
   "metadata": {
    "colab": {},
    "colab_type": "code",
    "id": "KFT4iwDrso1I"
   },
   "outputs": [],
   "source": [
    "merged_ranks.sort_values(by=['user_id','order_number'], inplace=True)\n",
    "merged_ranks.reset_index(inplace=True)"
   ]
  },
  {
   "cell_type": "code",
   "execution_count": 0,
   "metadata": {
    "colab": {},
    "colab_type": "code",
    "id": "7xNE8mpXg2MC"
   },
   "outputs": [],
   "source": [
    "merged_ranks.next_order = 0"
   ]
  },
  {
   "cell_type": "code",
   "execution_count": 0,
   "metadata": {
    "colab": {},
    "colab_type": "code",
    "id": "f7h3urrHjXkA"
   },
   "outputs": [],
   "source": [
    "for index, row in merged_ranks.iterrows():\n",
    "  if index == merged_ranks.shape[0] - 1:\n",
    "    break\n",
    "  if merged_ranks.loc[index].user_id == merged_ranks.loc[index+1].user_id :\n",
    "    merged_ranks.loc[index].next_order = merged_ranks.loc[index+1].ordered\n",
    "  \n"
   ]
  },
  {
   "cell_type": "code",
   "execution_count": 194,
   "metadata": {
    "colab": {
     "base_uri": "https://localhost:8080/",
     "height": 204
    },
    "colab_type": "code",
    "id": "hTMKagVLkRF5",
    "outputId": "3af2d163-3c94-4368-e026-d4aa37db0fdc"
   },
   "outputs": [
    {
     "data": {
      "text/html": [
       "<div>\n",
       "<style scoped>\n",
       "    .dataframe tbody tr th:only-of-type {\n",
       "        vertical-align: middle;\n",
       "    }\n",
       "\n",
       "    .dataframe tbody tr th {\n",
       "        vertical-align: top;\n",
       "    }\n",
       "\n",
       "    .dataframe thead th {\n",
       "        text-align: right;\n",
       "    }\n",
       "</style>\n",
       "<table border=\"1\" class=\"dataframe\">\n",
       "  <thead>\n",
       "    <tr style=\"text-align: right;\">\n",
       "      <th></th>\n",
       "      <th>index</th>\n",
       "      <th>order_id</th>\n",
       "      <th>ordered</th>\n",
       "      <th>user_id</th>\n",
       "      <th>order_number</th>\n",
       "      <th>NN_recommend</th>\n",
       "      <th>lgb_recommend</th>\n",
       "    </tr>\n",
       "  </thead>\n",
       "  <tbody>\n",
       "    <tr>\n",
       "      <th>0</th>\n",
       "      <td>1129</td>\n",
       "      <td>1116941</td>\n",
       "      <td>[27, 43, 5, 28, 1, 55, 22, 18]</td>\n",
       "      <td>1</td>\n",
       "      <td>0.000000</td>\n",
       "      <td>[27, 43, 28, 1, 55]</td>\n",
       "      <td>[22, 18, 1, 55, 28]</td>\n",
       "    </tr>\n",
       "    <tr>\n",
       "      <th>1</th>\n",
       "      <td>1957</td>\n",
       "      <td>1955023</td>\n",
       "      <td>[6, 24, 48, 13]</td>\n",
       "      <td>1</td>\n",
       "      <td>0.010101</td>\n",
       "      <td>[6, 24, 48, 13]</td>\n",
       "      <td>[24, 6, 48, 13]</td>\n",
       "    </tr>\n",
       "    <tr>\n",
       "      <th>2</th>\n",
       "      <td>2059</td>\n",
       "      <td>2055204</td>\n",
       "      <td>[17]</td>\n",
       "      <td>1</td>\n",
       "      <td>0.020202</td>\n",
       "      <td>[17]</td>\n",
       "      <td>[17]</td>\n",
       "    </tr>\n",
       "    <tr>\n",
       "      <th>3</th>\n",
       "      <td>2353</td>\n",
       "      <td>2369882</td>\n",
       "      <td>[29, 36, 17, 19, 12, 2, 6, 25, 39, 1]</td>\n",
       "      <td>1</td>\n",
       "      <td>0.030303</td>\n",
       "      <td>[6, 1, 17, 36]</td>\n",
       "      <td>[36, 2, 39, 25]</td>\n",
       "    </tr>\n",
       "    <tr>\n",
       "      <th>4</th>\n",
       "      <td>96</td>\n",
       "      <td>98059</td>\n",
       "      <td>[10, 6]</td>\n",
       "      <td>1</td>\n",
       "      <td>0.040404</td>\n",
       "      <td>[6, 10]</td>\n",
       "      <td>[6, 10]</td>\n",
       "    </tr>\n",
       "  </tbody>\n",
       "</table>\n",
       "</div>"
      ],
      "text/plain": [
       "   index  order_id                                ordered  user_id  \\\n",
       "0   1129   1116941         [27, 43, 5, 28, 1, 55, 22, 18]        1   \n",
       "1   1957   1955023                        [6, 24, 48, 13]        1   \n",
       "2   2059   2055204                                   [17]        1   \n",
       "3   2353   2369882  [29, 36, 17, 19, 12, 2, 6, 25, 39, 1]        1   \n",
       "4     96     98059                                [10, 6]        1   \n",
       "\n",
       "   order_number         NN_recommend        lgb_recommend  \n",
       "0      0.000000  [27, 43, 28, 1, 55]  [22, 18, 1, 55, 28]  \n",
       "1      0.010101      [6, 24, 48, 13]      [24, 6, 48, 13]  \n",
       "2      0.020202                 [17]                 [17]  \n",
       "3      0.030303       [6, 1, 17, 36]      [36, 2, 39, 25]  \n",
       "4      0.040404              [6, 10]              [6, 10]  "
      ]
     },
     "execution_count": 194,
     "metadata": {
      "tags": []
     },
     "output_type": "execute_result"
    }
   ],
   "source": [
    "merged_ranks.head()"
   ]
  },
  {
   "cell_type": "code",
   "execution_count": 0,
   "metadata": {
    "colab": {},
    "colab_type": "code",
    "id": "m_dgtO390TK_"
   },
   "outputs": [],
   "source": [
    "def filter(x, y):\n",
    "  count = 0\n",
    "  for num in y:\n",
    "    if num in x:\n",
    "      count += 1\n",
    "  return count"
   ]
  },
  {
   "cell_type": "code",
   "execution_count": 0,
   "metadata": {
    "colab": {},
    "colab_type": "code",
    "id": "qgFhaNEvtDYc"
   },
   "outputs": [],
   "source": [
    "nn_hits = 0\n",
    "#bnn20_hits = 0\n",
    "lgb_hits = 0\n",
    "#bnn_mean_hits = 0\n",
    "T = merged_ranks.shape[0]*5\n",
    "for index,row in merged_ranks.iterrows():\n",
    "  #T += len(row.ordered)\n",
    "  if merged_ranks.user_id[index] == merged_ranks.user_id[index+1]:\n",
    "    #bnn20_hits += len(set(row.BNN_recommend20) & set(merged_ranks.ordered[index+1]))\n",
    "    #bnn_mean_hits += len(set(row.BNN_recommend_mean) & set(merged_ranks.ordered[index+1]))\n",
    "    nn_hits += len(set(row.NN_recommend) & set(merged_ranks.ordered[index+1]))\n",
    "    lgb_hits += len(set(row.lgb_recommend) & set(merged_ranks.ordered[index+1]))\n",
    "  \n",
    "  #nn_hits += filter(row.NN_recommend,merged_ranks.ordered[index+1] )\n",
    "  if(index == merged_rank.shape[0]-2):\n",
    "    break"
   ]
  },
  {
   "cell_type": "code",
   "execution_count": 196,
   "metadata": {
    "colab": {
     "base_uri": "https://localhost:8080/",
     "height": 119
    },
    "colab_type": "code",
    "id": "3IfhFK_Q4nU0",
    "outputId": "78dcdd3c-cd98-417e-9e86-60d611e2b0e1"
   },
   "outputs": [
    {
     "name": "stdout",
     "output_type": "stream",
     "text": [
      "Recall for NN: 0.27609208972845334\n",
      "Recall for BNN by 20%: 0.2915584415584416\n",
      "Recall for LGB: 0.19929161747343566\n",
      "Precision for NN: 0.05521841794569067\n",
      "Precision for BNN by 20%: 0.058311688311688314\n",
      "Precision for LGB: 0.03985832349468713\n"
     ]
    }
   ],
   "source": [
    "print('Recall for NN:', float(nn_hits/T))\n",
    "print('Recall for BNN by 20%:', float(bnn20_hits/T))\n",
    "print('Recall for LGB:', float(lgb_hits/T))\n",
    "#print('Recall for BNN by mean:', float(bnn_mean_hits/T))\n",
    "print('Precision for NN:', float(nn_hits/(5*T)))\n",
    "print('Precision for BNN by 20%:', float(bnn20_hits/(5*T)))\n",
    "print('Precision for LGB:', float(lgb_hits/(5*T)))\n",
    "#print('Precision for BNN by mean:', float(bnn_mean_hits/(5*T)))"
   ]
  },
  {
   "cell_type": "code",
   "execution_count": 0,
   "metadata": {
    "colab": {},
    "colab_type": "code",
    "id": "2ICg3WjU9jyp"
   },
   "outputs": [],
   "source": [
    "# Approximate Hits\n",
    "import keras.backend as K\n",
    "def pairwise_cosine_sim(A, B):\n",
    "    \"\"\"\n",
    "    A [n x d] tensor of n rows with d dimensions\n",
    "    B [n x d] tensor of n rows with d dimensions\n",
    "\n",
    "    returns:\n",
    "    D [n x m] tensor of cosine similarity scores between each point i<n, j<m\n",
    "    \"\"\"\n",
    "\n",
    "    #A, B = A_B\n",
    "    A_mag = l2_norm(A, axis=1)\n",
    "    B_mag = l2_norm(B, axis=1)\n",
    "    num = K.batch_dot(A_tensor, K.permute_dimensions(B_tensor, (1,0)))\n",
    "    den = (A_mag * K.permute_dimensions(B_mag, (1,0)))\n",
    "    dist_mat =  num / den\n",
    "\n",
    "    return dist_mat"
   ]
  },
  {
   "cell_type": "code",
   "execution_count": 0,
   "metadata": {
    "colab": {},
    "colab_type": "code",
    "id": "o4sMbM0-C00D"
   },
   "outputs": [],
   "source": [
    "#B_tensor = K.constant(B)\n",
    "A_input = keras.Input(tensor=A_tensor)\n",
    "B_input = keras.Input(tensor=B_tensor)\n",
    "dist_output = keras.layers.Lambda(pairwise_cosine_sim)([A_input, B_input])\n",
    "dist_model = keras.Model(inputs=[A_input, B_input], outputs=dist_output)\n",
    "dist_model.compile(\"sgd\", \"mse\")"
   ]
  }
 ],
 "metadata": {
  "accelerator": "GPU",
  "colab": {
   "collapsed_sections": [],
   "include_colab_link": true,
   "name": "test_dropout.ipynb",
   "provenance": [],
   "version": "0.3.2"
  },
  "kernelspec": {
   "display_name": "Python 3",
   "language": "python",
   "name": "python3"
  },
  "language_info": {
   "codemirror_mode": {
    "name": "ipython",
    "version": 3
   },
   "file_extension": ".py",
   "mimetype": "text/x-python",
   "name": "python",
   "nbconvert_exporter": "python",
   "pygments_lexer": "ipython3",
   "version": "3.6.8"
  }
 },
 "nbformat": 4,
 "nbformat_minor": 1
}
