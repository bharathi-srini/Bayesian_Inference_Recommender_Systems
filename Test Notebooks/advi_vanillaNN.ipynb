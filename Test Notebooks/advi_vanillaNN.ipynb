{
 "cells": [
  {
   "cell_type": "code",
   "execution_count": 1,
   "metadata": {},
   "outputs": [
    {
     "name": "stderr",
     "output_type": "stream",
     "text": [
      "/Users/BharathiSrinivasan/anaconda2/envs/python36/lib/python3.6/site-packages/theano/configdefaults.py:560: UserWarning: DeprecationWarning: there is no c++ compiler.This is deprecated and with Theano 0.11 a c++ compiler will be mandatory\n",
      "  warnings.warn(\"DeprecationWarning: there is no c++ compiler.\"\n",
      "WARNING (theano.configdefaults): g++ not detected ! Theano will be unable to execute optimized C-implementations (for both CPU and GPU) and will default to Python implementations. Performance will be severely degraded. To remove this warning, set Theano flags cxx to an empty string.\n",
      "WARNING (theano.tensor.blas): Using NumPy C-API based implementation for BLAS functions.\n",
      "/Users/BharathiSrinivasan/anaconda2/envs/python36/lib/python3.6/site-packages/h5py/__init__.py:34: FutureWarning: Conversion of the second argument of issubdtype from `float` to `np.floating` is deprecated. In future, it will be treated as `np.float64 == np.dtype(float).type`.\n",
      "  from ._conv import register_converters as _register_converters\n"
     ]
    }
   ],
   "source": [
    "%matplotlib inline\n",
    "import theano\n",
    "import pymc3 as pm\n",
    "import sklearn\n",
    "import pandas as pd\n",
    "import numpy as np\n",
    "import matplotlib.pyplot as plt\n",
    "import seaborn as sns\n",
    "from warnings import filterwarnings\n",
    "filterwarnings('ignore')\n",
    "sns.set_style('white')\n",
    "from sklearn.preprocessing import OneHotEncoder, MinMaxScaler, StandardScaler\n",
    "from sklearn.cross_validation import train_test_split"
   ]
  },
  {
   "cell_type": "code",
   "execution_count": 2,
   "metadata": {
    "collapsed": true
   },
   "outputs": [],
   "source": [
    "#Importing Instacart data\n",
    "df_full = pd.read_csv('/Users/BharathiSrinivasan/Documents/GitHub/Thesis/merged_data.csv', index_col = False)"
   ]
  },
  {
   "cell_type": "code",
   "execution_count": 3,
   "metadata": {},
   "outputs": [
    {
     "name": "stdout",
     "output_type": "stream",
     "text": [
      "(338191, 14)\n"
     ]
    }
   ],
   "source": [
    "#Sampling a fraction for data for initial training\n",
    "df_small = df_full.sample(frac = 0.01)\n",
    "print(df_small.shape)"
   ]
  },
  {
   "cell_type": "code",
   "execution_count": 4,
   "metadata": {},
   "outputs": [
    {
     "data": {
      "text/html": [
       "<div>\n",
       "<style>\n",
       "    .dataframe thead tr:only-child th {\n",
       "        text-align: right;\n",
       "    }\n",
       "\n",
       "    .dataframe thead th {\n",
       "        text-align: left;\n",
       "    }\n",
       "\n",
       "    .dataframe tbody tr th {\n",
       "        vertical-align: top;\n",
       "    }\n",
       "</style>\n",
       "<table border=\"1\" class=\"dataframe\">\n",
       "  <thead>\n",
       "    <tr style=\"text-align: right;\">\n",
       "      <th></th>\n",
       "      <th>Unnamed: 0</th>\n",
       "      <th>order_id</th>\n",
       "      <th>product_id</th>\n",
       "      <th>add_to_cart_order</th>\n",
       "      <th>reordered</th>\n",
       "      <th>user_id</th>\n",
       "      <th>order_number</th>\n",
       "      <th>order_dow</th>\n",
       "      <th>order_hour_of_day</th>\n",
       "      <th>days_since_prior_order</th>\n",
       "      <th>product_name</th>\n",
       "      <th>aisle_id</th>\n",
       "      <th>department_id</th>\n",
       "      <th>department</th>\n",
       "    </tr>\n",
       "  </thead>\n",
       "  <tbody>\n",
       "    <tr>\n",
       "      <th>16539013</th>\n",
       "      <td>16539013</td>\n",
       "      <td>1744653</td>\n",
       "      <td>39877</td>\n",
       "      <td>2</td>\n",
       "      <td>1</td>\n",
       "      <td>73422</td>\n",
       "      <td>82</td>\n",
       "      <td>0</td>\n",
       "      <td>11</td>\n",
       "      <td>3.0</td>\n",
       "      <td>Organic Granny Smith Apple</td>\n",
       "      <td>24</td>\n",
       "      <td>4</td>\n",
       "      <td>produce</td>\n",
       "    </tr>\n",
       "    <tr>\n",
       "      <th>16523878</th>\n",
       "      <td>16523878</td>\n",
       "      <td>1743127</td>\n",
       "      <td>11513</td>\n",
       "      <td>13</td>\n",
       "      <td>1</td>\n",
       "      <td>148689</td>\n",
       "      <td>11</td>\n",
       "      <td>1</td>\n",
       "      <td>17</td>\n",
       "      <td>30.0</td>\n",
       "      <td>1 Apple + 1 Pear Fruit Bar</td>\n",
       "      <td>3</td>\n",
       "      <td>19</td>\n",
       "      <td>snacks</td>\n",
       "    </tr>\n",
       "    <tr>\n",
       "      <th>26374855</th>\n",
       "      <td>26374855</td>\n",
       "      <td>2781301</td>\n",
       "      <td>34530</td>\n",
       "      <td>10</td>\n",
       "      <td>0</td>\n",
       "      <td>190467</td>\n",
       "      <td>10</td>\n",
       "      <td>2</td>\n",
       "      <td>18</td>\n",
       "      <td>29.0</td>\n",
       "      <td>Organic Chicken Thighs</td>\n",
       "      <td>7</td>\n",
       "      <td>12</td>\n",
       "      <td>meat seafood</td>\n",
       "    </tr>\n",
       "    <tr>\n",
       "      <th>7315877</th>\n",
       "      <td>7315877</td>\n",
       "      <td>772290</td>\n",
       "      <td>11776</td>\n",
       "      <td>2</td>\n",
       "      <td>1</td>\n",
       "      <td>124606</td>\n",
       "      <td>11</td>\n",
       "      <td>2</td>\n",
       "      <td>14</td>\n",
       "      <td>5.0</td>\n",
       "      <td>Baked Sea Salt &amp; Vinegar Potato Chips</td>\n",
       "      <td>107</td>\n",
       "      <td>19</td>\n",
       "      <td>snacks</td>\n",
       "    </tr>\n",
       "    <tr>\n",
       "      <th>9419736</th>\n",
       "      <td>9419736</td>\n",
       "      <td>994375</td>\n",
       "      <td>7076</td>\n",
       "      <td>5</td>\n",
       "      <td>1</td>\n",
       "      <td>134421</td>\n",
       "      <td>27</td>\n",
       "      <td>0</td>\n",
       "      <td>9</td>\n",
       "      <td>8.0</td>\n",
       "      <td>Grain Free Chicken Formula Cat Food</td>\n",
       "      <td>41</td>\n",
       "      <td>8</td>\n",
       "      <td>pets</td>\n",
       "    </tr>\n",
       "  </tbody>\n",
       "</table>\n",
       "</div>"
      ],
      "text/plain": [
       "          Unnamed: 0  order_id  product_id  add_to_cart_order  reordered  \\\n",
       "16539013    16539013   1744653       39877                  2          1   \n",
       "16523878    16523878   1743127       11513                 13          1   \n",
       "26374855    26374855   2781301       34530                 10          0   \n",
       "7315877      7315877    772290       11776                  2          1   \n",
       "9419736      9419736    994375        7076                  5          1   \n",
       "\n",
       "          user_id  order_number  order_dow  order_hour_of_day  \\\n",
       "16539013    73422            82          0                 11   \n",
       "16523878   148689            11          1                 17   \n",
       "26374855   190467            10          2                 18   \n",
       "7315877    124606            11          2                 14   \n",
       "9419736    134421            27          0                  9   \n",
       "\n",
       "          days_since_prior_order                           product_name  \\\n",
       "16539013                     3.0             Organic Granny Smith Apple   \n",
       "16523878                    30.0             1 Apple + 1 Pear Fruit Bar   \n",
       "26374855                    29.0                 Organic Chicken Thighs   \n",
       "7315877                      5.0  Baked Sea Salt & Vinegar Potato Chips   \n",
       "9419736                      8.0    Grain Free Chicken Formula Cat Food   \n",
       "\n",
       "          aisle_id  department_id    department  \n",
       "16539013        24              4       produce  \n",
       "16523878         3             19        snacks  \n",
       "26374855         7             12  meat seafood  \n",
       "7315877        107             19        snacks  \n",
       "9419736         41              8          pets  "
      ]
     },
     "execution_count": 4,
     "metadata": {},
     "output_type": "execute_result"
    }
   ],
   "source": [
    "df_small.head()"
   ]
  },
  {
   "cell_type": "code",
   "execution_count": 5,
   "metadata": {
    "collapsed": true
   },
   "outputs": [],
   "source": [
    "#Preparation of training data\n",
    "\n",
    "CATEGORICAL_COLUMNS = [\"order_dow\", \"order_hour_of_day\"]\n",
    "CONTINUOUS_COLUMNS = [\"days_since_prior_order\",\"order_number\",\"add_to_cart_order\"]\n",
    "EMBEDDING_COLUMNS = [\"user_id\", \"product_id\",\"aisle_id\",\"department_id\"]\n",
    "\n",
    "#One-hot encoding categorical columns\n",
    "df_small = pd.get_dummies(df_small, columns=[x for x in CATEGORICAL_COLUMNS])\n",
    "\n",
    "#Normalising the feature columns\n",
    "df_small[CONTINUOUS_COLUMNS] = MinMaxScaler().fit_transform(df_small[CONTINUOUS_COLUMNS].values)\n",
    "\n",
    "#Drop product names and department names for the time being! Incorporate as embedded vectors later!\n",
    "df_small.drop(['product_name','department'],axis=1, inplace = True)\n",
    "df_small.drop(['Unnamed: 0'], axis = 1, inplace = True)\n"
   ]
  },
  {
   "cell_type": "code",
   "execution_count": 6,
   "metadata": {
    "collapsed": true
   },
   "outputs": [],
   "source": [
    "#Target variable\n",
    "y = df_small['reordered'].values\n",
    "df_small.drop(['reordered'], axis=1, inplace = True)"
   ]
  },
  {
   "cell_type": "code",
   "execution_count": 7,
   "metadata": {
    "collapsed": true
   },
   "outputs": [],
   "source": [
    "X_train, X_test, y_train, y_test = train_test_split(df_small, y, test_size=0.25, random_state=42, stratify=y)"
   ]
  },
  {
   "cell_type": "code",
   "execution_count": 16,
   "metadata": {
    "collapsed": true
   },
   "outputs": [],
   "source": [
    "def create_BNN_model(ann_input, ann_output, n_hidden):\n",
    "    \n",
    "    #Initialise random weights for the layers\n",
    "    init_1 = np.random.randn(X_train.shape[1], n_hidden).astype(float)\n",
    "    init_2 = np.random.randn(n_hidden, n_hidden).astype(float)\n",
    "    init_out = np.random.randn(n_hidden).astype(float)\n",
    "    \n",
    "    with pm.Model() as BNN:\n",
    "        #Weights from input to layer 1\n",
    "        weights1 = pm.Normal('weights1',0, sd =1, shape=(X_train.shape[1], n_hidden), testval=init_1)\n",
    "        \n",
    "        #Weights from layer 1 to layer 2\n",
    "        weights2 = pm.Normal('weights2',0, sd =1, shape=(n_hidden, n_hidden), testval=init_2)\n",
    "        \n",
    "        #Weights from layer 2 to output\n",
    "        weights3 = pm.Normal('weights3',0, sd =1, shape=(n_hidden,), testval=init_out) \n",
    "        \n",
    "        #Building neural network with tanh activation\n",
    "        act1 = pm.math.tanh(pm.math.dot(ann_input, weights1))\n",
    "        act2 = pm.math.tanh(pm.math.dot(act1, weights2))\n",
    "        act_out = pm.math.sigmoid(pm.math.dot(act2, weights3))\n",
    "        \n",
    "        #Binary classification --> Bernoulli likelihood\n",
    "        out = pm.Bernoulli('out', act_out, observed = ann_output, total_size = y_train.shape[0])\n",
    "        \n",
    "        return BNN\n",
    "    "
   ]
  },
  {
   "cell_type": "code",
   "execution_count": 17,
   "metadata": {},
   "outputs": [
    {
     "ename": "AsTensorError",
     "evalue": "('Variable type field must be a TensorType.', <Generic>, <theano.gof.type.Generic object at 0x112e5e5c0>)",
     "output_type": "error",
     "traceback": [
      "\u001b[0;31m---------------------------------------------------------------------------\u001b[0m",
      "\u001b[0;31mAsTensorError\u001b[0m                             Traceback (most recent call last)",
      "\u001b[0;32m<ipython-input-17-9e207aaf3758>\u001b[0m in \u001b[0;36m<module>\u001b[0;34m()\u001b[0m\n\u001b[1;32m      1\u001b[0m \u001b[0mann_input\u001b[0m \u001b[0;34m=\u001b[0m \u001b[0mtheano\u001b[0m\u001b[0;34m.\u001b[0m\u001b[0mshared\u001b[0m\u001b[0;34m(\u001b[0m\u001b[0mX_train\u001b[0m\u001b[0;34m)\u001b[0m\u001b[0;34m\u001b[0m\u001b[0m\n\u001b[1;32m      2\u001b[0m \u001b[0mann_output\u001b[0m \u001b[0;34m=\u001b[0m \u001b[0mtheano\u001b[0m\u001b[0;34m.\u001b[0m\u001b[0mshared\u001b[0m\u001b[0;34m(\u001b[0m\u001b[0my_train\u001b[0m\u001b[0;34m)\u001b[0m\u001b[0;34m\u001b[0m\u001b[0m\n\u001b[0;32m----> 3\u001b[0;31m \u001b[0mneural_network\u001b[0m \u001b[0;34m=\u001b[0m \u001b[0mcreate_BNN_model\u001b[0m\u001b[0;34m(\u001b[0m\u001b[0mann_input\u001b[0m\u001b[0;34m,\u001b[0m \u001b[0mann_output\u001b[0m\u001b[0;34m,\u001b[0m \u001b[0;36m100\u001b[0m\u001b[0;34m)\u001b[0m\u001b[0;34m\u001b[0m\u001b[0m\n\u001b[0m",
      "\u001b[0;32m<ipython-input-16-73579cd74b63>\u001b[0m in \u001b[0;36mcreate_BNN_model\u001b[0;34m(ann_input, ann_output, n_hidden)\u001b[0m\n\u001b[1;32m     17\u001b[0m \u001b[0;34m\u001b[0m\u001b[0m\n\u001b[1;32m     18\u001b[0m         \u001b[0;31m#Building neural network with tanh activation\u001b[0m\u001b[0;34m\u001b[0m\u001b[0;34m\u001b[0m\u001b[0m\n\u001b[0;32m---> 19\u001b[0;31m         \u001b[0mact1\u001b[0m \u001b[0;34m=\u001b[0m \u001b[0mpm\u001b[0m\u001b[0;34m.\u001b[0m\u001b[0mmath\u001b[0m\u001b[0;34m.\u001b[0m\u001b[0mtanh\u001b[0m\u001b[0;34m(\u001b[0m\u001b[0mpm\u001b[0m\u001b[0;34m.\u001b[0m\u001b[0mmath\u001b[0m\u001b[0;34m.\u001b[0m\u001b[0mdot\u001b[0m\u001b[0;34m(\u001b[0m\u001b[0mann_input\u001b[0m\u001b[0;34m,\u001b[0m \u001b[0mweights1\u001b[0m\u001b[0;34m)\u001b[0m\u001b[0;34m)\u001b[0m\u001b[0;34m\u001b[0m\u001b[0m\n\u001b[0m\u001b[1;32m     20\u001b[0m         \u001b[0mact2\u001b[0m \u001b[0;34m=\u001b[0m \u001b[0mpm\u001b[0m\u001b[0;34m.\u001b[0m\u001b[0mmath\u001b[0m\u001b[0;34m.\u001b[0m\u001b[0mtanh\u001b[0m\u001b[0;34m(\u001b[0m\u001b[0mpm\u001b[0m\u001b[0;34m.\u001b[0m\u001b[0mmath\u001b[0m\u001b[0;34m.\u001b[0m\u001b[0mdot\u001b[0m\u001b[0;34m(\u001b[0m\u001b[0mact1\u001b[0m\u001b[0;34m,\u001b[0m \u001b[0mweights2\u001b[0m\u001b[0;34m)\u001b[0m\u001b[0;34m)\u001b[0m\u001b[0;34m\u001b[0m\u001b[0m\n\u001b[1;32m     21\u001b[0m         \u001b[0mact_out\u001b[0m \u001b[0;34m=\u001b[0m \u001b[0mpm\u001b[0m\u001b[0;34m.\u001b[0m\u001b[0mmath\u001b[0m\u001b[0;34m.\u001b[0m\u001b[0msigmoid\u001b[0m\u001b[0;34m(\u001b[0m\u001b[0mpm\u001b[0m\u001b[0;34m.\u001b[0m\u001b[0mmath\u001b[0m\u001b[0;34m.\u001b[0m\u001b[0mdot\u001b[0m\u001b[0;34m(\u001b[0m\u001b[0mact2\u001b[0m\u001b[0;34m,\u001b[0m \u001b[0mweights3\u001b[0m\u001b[0;34m)\u001b[0m\u001b[0;34m)\u001b[0m\u001b[0;34m\u001b[0m\u001b[0m\n",
      "\u001b[0;32m~/anaconda2/envs/python36/lib/python3.6/site-packages/theano/tensor/basic.py\u001b[0m in \u001b[0;36mdot\u001b[0;34m(a, b)\u001b[0m\n\u001b[1;32m   6077\u001b[0m \u001b[0;34m\u001b[0m\u001b[0m\n\u001b[1;32m   6078\u001b[0m     \"\"\"\n\u001b[0;32m-> 6079\u001b[0;31m     \u001b[0ma\u001b[0m\u001b[0;34m,\u001b[0m \u001b[0mb\u001b[0m \u001b[0;34m=\u001b[0m \u001b[0mas_tensor_variable\u001b[0m\u001b[0;34m(\u001b[0m\u001b[0ma\u001b[0m\u001b[0;34m)\u001b[0m\u001b[0;34m,\u001b[0m \u001b[0mas_tensor_variable\u001b[0m\u001b[0;34m(\u001b[0m\u001b[0mb\u001b[0m\u001b[0;34m)\u001b[0m\u001b[0;34m\u001b[0m\u001b[0m\n\u001b[0m\u001b[1;32m   6080\u001b[0m \u001b[0;34m\u001b[0m\u001b[0m\n\u001b[1;32m   6081\u001b[0m     \u001b[0;32mif\u001b[0m \u001b[0ma\u001b[0m\u001b[0;34m.\u001b[0m\u001b[0mndim\u001b[0m \u001b[0;34m==\u001b[0m \u001b[0;36m0\u001b[0m \u001b[0;32mor\u001b[0m \u001b[0mb\u001b[0m\u001b[0;34m.\u001b[0m\u001b[0mndim\u001b[0m \u001b[0;34m==\u001b[0m \u001b[0;36m0\u001b[0m\u001b[0;34m:\u001b[0m\u001b[0;34m\u001b[0m\u001b[0m\n",
      "\u001b[0;32m~/anaconda2/envs/python36/lib/python3.6/site-packages/theano/tensor/basic.py\u001b[0m in \u001b[0;36mas_tensor_variable\u001b[0;34m(x, name, ndim)\u001b[0m\n\u001b[1;32m    156\u001b[0m         \u001b[0;32mif\u001b[0m \u001b[0;32mnot\u001b[0m \u001b[0misinstance\u001b[0m\u001b[0;34m(\u001b[0m\u001b[0mx\u001b[0m\u001b[0;34m.\u001b[0m\u001b[0mtype\u001b[0m\u001b[0;34m,\u001b[0m \u001b[0mTensorType\u001b[0m\u001b[0;34m)\u001b[0m\u001b[0;34m:\u001b[0m\u001b[0;34m\u001b[0m\u001b[0m\n\u001b[1;32m    157\u001b[0m             raise AsTensorError(\n\u001b[0;32m--> 158\u001b[0;31m                 \"Variable type field must be a TensorType.\", x, x.type)\n\u001b[0m\u001b[1;32m    159\u001b[0m \u001b[0;34m\u001b[0m\u001b[0m\n\u001b[1;32m    160\u001b[0m         \u001b[0;32mif\u001b[0m \u001b[0mndim\u001b[0m \u001b[0;32mis\u001b[0m \u001b[0;32mNone\u001b[0m\u001b[0;34m:\u001b[0m\u001b[0;34m\u001b[0m\u001b[0m\n",
      "\u001b[0;31mAsTensorError\u001b[0m: ('Variable type field must be a TensorType.', <Generic>, <theano.gof.type.Generic object at 0x112e5e5c0>)"
     ]
    }
   ],
   "source": [
    "ann_input = theano.shared(X_train)\n",
    "ann_output = theano.shared(y_train)\n",
    "neural_network = create_BNN_model(ann_input, ann_output, 100)"
   ]
  },
  {
   "cell_type": "code",
   "execution_count": null,
   "metadata": {
    "collapsed": true
   },
   "outputs": [],
   "source": []
  }
 ],
 "metadata": {
  "kernelspec": {
   "display_name": "Python 3",
   "language": "python",
   "name": "python3"
  },
  "language_info": {
   "codemirror_mode": {
    "name": "ipython",
    "version": 3
   },
   "file_extension": ".py",
   "mimetype": "text/x-python",
   "name": "python",
   "nbconvert_exporter": "python",
   "pygments_lexer": "ipython3",
   "version": "3.6.3"
  }
 },
 "nbformat": 4,
 "nbformat_minor": 2
}
