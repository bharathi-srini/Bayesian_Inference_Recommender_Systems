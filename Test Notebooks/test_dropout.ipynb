{
 "cells": [
  {
   "cell_type": "code",
   "execution_count": 1,
   "metadata": {
    "collapsed": true
   },
   "outputs": [],
   "source": [
    "import numpy as np\n",
    "import pandas as pd\n",
    "\n",
    "from sklearn import preprocessing\n",
    "from sklearn.preprocessing import OneHotEncoder, MinMaxScaler, StandardScaler\n",
    "from sklearn.model_selection import train_test_split\n",
    "import time\n",
    "import matplotlib.pyplot as plt\n",
    "%matplotlib inline"
   ]
  },
  {
   "cell_type": "code",
   "execution_count": 2,
   "metadata": {},
   "outputs": [
    {
     "name": "stderr",
     "output_type": "stream",
     "text": [
      "/Users/BharathiSrinivasan/anaconda2/envs/python36/lib/python3.6/site-packages/h5py/__init__.py:34: FutureWarning: Conversion of the second argument of issubdtype from `float` to `np.floating` is deprecated. In future, it will be treated as `np.float64 == np.dtype(float).type`.\n",
      "  from ._conv import register_converters as _register_converters\n",
      "Using TensorFlow backend.\n"
     ]
    }
   ],
   "source": [
    "import keras as K\n",
    "from keras.layers import Dense\n",
    "from keras.optimizers import Adam\n",
    "from keras.layers import Input,Activation, concatenate, Embedding, Reshape\n",
    "from keras.layers import Merge, Flatten, merge, Lambda, Dropout\n",
    "from keras.layers.normalization import BatchNormalization\n",
    "from keras.models import Model\n",
    "from keras.models import model_from_json\n",
    "from keras.models import load_model\n",
    "from keras.regularizers import l1,l2\n",
    "import tensorflow as tf\n",
    "import gc"
   ]
  },
  {
   "cell_type": "code",
   "execution_count": 19,
   "metadata": {},
   "outputs": [
    {
     "name": "stderr",
     "output_type": "stream",
     "text": [
      "/Users/BharathiSrinivasan/anaconda2/envs/python36/lib/python3.6/site-packages/numpy/lib/arraysetops.py:472: FutureWarning: elementwise comparison failed; returning scalar instead, but in the future will perform elementwise comparison\n",
      "  mask |= (ar1 == a)\n"
     ]
    }
   ],
   "source": [
    "df = pd.read_csv('/Users/BharathiSrinivasan/Documents/GitHub/Thesis/data_final.csv', index_col=[0])"
   ]
  },
  {
   "cell_type": "code",
   "execution_count": 20,
   "metadata": {},
   "outputs": [
    {
     "data": {
      "text/plain": [
       "(1251273, 18)"
      ]
     },
     "execution_count": 20,
     "metadata": {},
     "output_type": "execute_result"
    }
   ],
   "source": [
    "df.shape"
   ]
  },
  {
   "cell_type": "code",
   "execution_count": 21,
   "metadata": {
    "collapsed": true
   },
   "outputs": [],
   "source": [
    "df.drop(['index'],inplace=True,axis=1)"
   ]
  },
  {
   "cell_type": "code",
   "execution_count": 22,
   "metadata": {},
   "outputs": [
    {
     "name": "stdout",
     "output_type": "stream",
     "text": [
      "344407\n"
     ]
    }
   ],
   "source": [
    "#Investigating NAs\n",
    "print(df.isnull().sum().sum())"
   ]
  },
  {
   "cell_type": "code",
   "execution_count": 23,
   "metadata": {
    "collapsed": true
   },
   "outputs": [],
   "source": [
    "df.dropna(axis=0, inplace=True, how = 'all')"
   ]
  },
  {
   "cell_type": "code",
   "execution_count": 48,
   "metadata": {},
   "outputs": [],
   "source": [
    "df.drop(['prd_reorder_freq'], axis=1,inplace = True)"
   ]
  },
  {
   "cell_type": "code",
   "execution_count": 49,
   "metadata": {},
   "outputs": [
    {
     "data": {
      "text/plain": [
       "product_id                  int64\n",
       "add_to_cart_order           int64\n",
       "reordered                   int64\n",
       "user_id                     int64\n",
       "order_number                int64\n",
       "order_dow                   int64\n",
       "order_hour_of_day           int64\n",
       "days_since_prior_order    float64\n",
       "product_name               object\n",
       "aisle_id                    int64\n",
       "department_id               int64\n",
       "department                 object\n",
       "user_period               float64\n",
       "user_distinct_products      int64\n",
       "user_average_basket       float64\n",
       "product_id_orders           int64\n",
       "dtype: object"
      ]
     },
     "execution_count": 49,
     "metadata": {},
     "output_type": "execute_result"
    }
   ],
   "source": [
    "df.dtypes"
   ]
  },
  {
   "cell_type": "code",
   "execution_count": 50,
   "metadata": {},
   "outputs": [
    {
     "data": {
      "text/plain": [
       "array([0, 0, 0, 0, 0, 0, 0, 0, 0, 0, 0, 0, 0, 0, 0, 0])"
      ]
     },
     "execution_count": 50,
     "metadata": {},
     "output_type": "execute_result"
    }
   ],
   "source": [
    "df.isnull().values.sum(axis=0)"
   ]
  },
  {
   "cell_type": "code",
   "execution_count": 51,
   "metadata": {},
   "outputs": [
    {
     "data": {
      "image/png": "[encoded data removed]",
      "text/plain": [
       "<matplotlib.figure.Figure at 0x1095a04a8>"
      ]
     },
     "metadata": {},
     "output_type": "display_data"
    }
   ],
   "source": [
    "plt.figure()\n",
    "plt.hist(df.reordered)\n",
    "plt.show()"
   ]
  },
  {
   "cell_type": "code",
   "execution_count": 77,
   "metadata": {
    "collapsed": true
   },
   "outputs": [],
   "source": [
    "df_small = df.sample(frac = 0.8)"
   ]
  },
  {
   "cell_type": "code",
   "execution_count": 78,
   "metadata": {
    "collapsed": true
   },
   "outputs": [],
   "source": [
    "CATEGORICAL_COLUMNS = [\"order_dow\", \"order_hour_of_day\",\"aisle_id\",\"department_id\"]\n",
    "CONTINUOUS_COLUMNS = [\"days_since_prior_order\",\"order_number\",\"add_to_cart_order\", \\\n",
    "                     \"user_period\",\"user_distinct_products\", \\\n",
    "                     \"user_average_basket\",\"product_id_orders\"]"
   ]
  },
  {
   "cell_type": "code",
   "execution_count": 28,
   "metadata": {},
   "outputs": [
    {
     "data": {
      "text/plain": [
       "<matplotlib.axes._subplots.AxesSubplot at 0x1a1c594550>"
      ]
     },
     "execution_count": 28,
     "metadata": {},
     "output_type": "execute_result"
    },
    {
     "data": {
      "image/png": "[encoded data removed]",
      "text/plain": [
       "<matplotlib.figure.Figure at 0x1a2d10dbe0>"
      ]
     },
     "metadata": {},
     "output_type": "display_data"
    }
   ],
   "source": [
    "import seaborn as sns\n",
    "sns.heatmap(df_small.corr(),cmap=\"YlGnBu\")"
   ]
  },
  {
   "cell_type": "code",
   "execution_count": 79,
   "metadata": {
    "collapsed": true
   },
   "outputs": [],
   "source": [
    "#One-hot encoding categorical columns\n",
    "df_small = pd.get_dummies(df_small, columns=[x for x in CATEGORICAL_COLUMNS])"
   ]
  },
  {
   "cell_type": "code",
   "execution_count": 80,
   "metadata": {},
   "outputs": [],
   "source": [
    "#Normalising the feature columns\n",
    "df_small[CONTINUOUS_COLUMNS] = MinMaxScaler().fit_transform(df_small[CONTINUOUS_COLUMNS].values)"
   ]
  },
  {
   "cell_type": "code",
   "execution_count": 81,
   "metadata": {},
   "outputs": [
    {
     "data": {
      "image/png": "[encoded data removed]",
      "text/plain": [
       "<matplotlib.figure.Figure at 0x1a3e17a278>"
      ]
     },
     "metadata": {},
     "output_type": "display_data"
    }
   ],
   "source": [
    "plt.figure()\n",
    "plt.hist(df_small.reordered)\n",
    "plt.show()"
   ]
  },
  {
   "cell_type": "code",
   "execution_count": 16,
   "metadata": {
    "collapsed": true
   },
   "outputs": [],
   "source": [
    "#Prepare embedding layer as separate input to Keras\n",
    "#embed_vectors = df_small['prod_embedding']\n",
    "EMBEDDING_DIM = 100\n",
    "embedding_matrix = np.zeros((df_small.shape[0],EMBEDDING_DIM ))\n",
    "embedding_matrix = df_small.set_index('product_id').prod_embedding\n",
    "embedding_matrix = embedding_matrix.drop_duplicates()\n",
    "\n",
    "embedding_train = X_train.set_index(X_train.index).product_id\n",
    "X_train.drop(['product_id'], inplace=True, axis = 1)\n",
    "\n",
    "from keras.preprocessing.sequence import pad_sequences\n",
    "embed_raw_input = pad_sequences(embedding_train, maxlen=10)\n",
    "\n",
    "import gensim\n",
    "word2vec_model = gensim.models.Word2Vec.load('/Users/BharathiSrinivasan/Documents/GitHub/Thesis/BNN_Rec_Sys/word2vec.model')\n",
    "\n",
    "source_word_indices = []\n",
    "for i in range(len(array_of_word_lists)):\n",
    "    source_word_indices.append([])\n",
    "    for j in range(len(array_of_word_lists[i])):\n",
    "        word = array_of_word_lists[i][j]\n",
    "        if word in word2vec_model.wv.vocab:\n",
    "            word_index = word2vec_model.wv.vocab[word].index\n",
    "            source_word_indices[i].append(word_index)\n",
    "        else:\n",
    "            # Do something. For example, leave it blank or replace with padding character's index.\n",
    "            source_word_indices[i].append(padding_index)\n",
    "source = numpy.array(source_word_indices)"
   ]
  },
  {
   "cell_type": "code",
   "execution_count": 82,
   "metadata": {},
   "outputs": [],
   "source": [
    "df_small.drop(['product_name','department'], axis=1, inplace=True)"
   ]
  },
  {
   "cell_type": "code",
   "execution_count": 83,
   "metadata": {},
   "outputs": [],
   "source": [
    "df_small.drop(['product_id'], axis = 1, inplace=True)"
   ]
  },
  {
   "cell_type": "code",
   "execution_count": 84,
   "metadata": {},
   "outputs": [],
   "source": [
    "df_small.drop(['user_id'], axis=1, inplace= True)"
   ]
  },
  {
   "cell_type": "code",
   "execution_count": 88,
   "metadata": {
    "collapsed": true
   },
   "outputs": [],
   "source": [
    "y = df_small.reordered.values"
   ]
  },
  {
   "cell_type": "code",
   "execution_count": 89,
   "metadata": {
    "collapsed": true
   },
   "outputs": [],
   "source": [
    "df_small.drop(['reordered'], axis=1, inplace = True)"
   ]
  },
  {
   "cell_type": "code",
   "execution_count": 90,
   "metadata": {},
   "outputs": [],
   "source": [
    "X_train, X_remain, y_train, y_remain = train_test_split(df_small, y, test_size=0.20, random_state=42, stratify=y)"
   ]
  },
  {
   "cell_type": "code",
   "execution_count": 20,
   "metadata": {
    "collapsed": true
   },
   "outputs": [],
   "source": [
    "#X_val, X_test, y_val, y_test = train_test_split(X_remain, y_remain, test_size=0.20, random_state=42, stratify=y_remain)"
   ]
  },
  {
   "cell_type": "code",
   "execution_count": 91,
   "metadata": {},
   "outputs": [
    {
     "name": "stderr",
     "output_type": "stream",
     "text": [
      "/Users/BharathiSrinivasan/anaconda2/envs/python36/lib/python3.6/site-packages/ipykernel_launcher.py:20: UserWarning: Update your `Dense` call to the Keras 2 API: `Dense(100, activation=\"tanh\", kernel_regularizer=<keras.reg...)`\n"
     ]
    }
   ],
   "source": [
    "reg= 0.4\n",
    "\n",
    "#embedding_input = Input(shape = (embedding_train.shape[0],))\n",
    "#embedding_layer = Embedding(input_dim = len(embedding_matrix), output_dim = len(embedding_matrix.columns),\\\n",
    "                            #input_length=data.shape[1:]\n",
    "                            #weights=[embedding_matrix],\n",
    "                            #trainable=False)(embedding_input)\n",
    "\n",
    "#embedding_layer = word2vec_model.wv.get_keras_embedding(train_embeddings=False)\n",
    "input_tensor = Input(shape=X_train.shape[1:])\n",
    "#combined_input = merge([input_tensor, embedding_layer], mode='concat')\n",
    "#combined_input = Flatten(combined_input)\n",
    "\n",
    "#x = BatchNormalization()(input_tensor)\n",
    "x = Dropout(0.3)(input_tensor)\n",
    "x = Dense(200, activation='tanh',kernel_regularizer=l2(0.01),activity_regularizer=l1(0.01))(x)\n",
    "x = BatchNormalization()(x)\n",
    "\n",
    "x = Dropout(0.3)(x)\n",
    "x = Dense(100, activation='tanh',W_regularizer=l2(reg))(x)\n",
    "x = BatchNormalization()(x)\n",
    "\n",
    "logits = Dense(1,activation='tanh',kernel_regularizer=l2(0.01),activity_regularizer=l1(0.01))(x)\n",
    "#variance_pre = Dense(1)(x)\n",
    "#variance = Activation('softplus', name='variance')(variance_pre)\n",
    "#logits_variance = concatenate([logits, variance], name='logits_variance')\n",
    "softmax_output = Activation('softmax', name='softmax_output')(logits)\n",
    "\n",
    "model = Model(inputs=input_tensor, outputs=softmax_output)"
   ]
  },
  {
   "cell_type": "code",
   "execution_count": 92,
   "metadata": {
    "collapsed": true
   },
   "outputs": [],
   "source": [
    "model.compile(optimizer='adam', \\\n",
    "              loss='binary_crossentropy',\\\n",
    "              metrics=['binary_accuracy'] )"
   ]
  },
  {
   "cell_type": "code",
   "execution_count": 93,
   "metadata": {},
   "outputs": [
    {
     "name": "stdout",
     "output_type": "stream",
     "text": [
      "Epoch 1/2\n",
      "800814/800814 [==============================] - 51s 64us/step - loss: 5.0444 - binary_accuracy: 0.7249\n",
      "Epoch 2/2\n",
      "800814/800814 [==============================] - 50s 62us/step - loss: 4.5270 - binary_accuracy: 0.7249\n"
     ]
    },
    {
     "data": {
      "text/plain": [
       "<keras.callbacks.History at 0x1a3e1a3da0>"
      ]
     },
     "execution_count": 93,
     "metadata": {},
     "output_type": "execute_result"
    }
   ],
   "source": [
    "model.fit(X_train,y_train, batch_size = 100, epochs = 2)"
   ]
  },
  {
   "cell_type": "code",
   "execution_count": 94,
   "metadata": {},
   "outputs": [
    {
     "name": "stdout",
     "output_type": "stream",
     "text": [
      "200204/200204 [==============================] - 8s 38us/step\n",
      "Test accuracy: 0.7249205810061816\n"
     ]
    }
   ],
   "source": [
    "score = model.evaluate(X_remain, y_remain, verbose=1)\n",
    "print('Test accuracy:', score[1])"
   ]
  },
  {
   "cell_type": "code",
   "execution_count": 45,
   "metadata": {
    "collapsed": true
   },
   "outputs": [],
   "source": [
    "T=100\n",
    "Yt_hat = []\n",
    "for _ in range(T):\n",
    "    Yt_hat += [model.predict(X_remain,verbose=0)]"
   ]
  },
  {
   "cell_type": "code",
   "execution_count": 62,
   "metadata": {
    "collapsed": true
   },
   "outputs": [],
   "source": [
    "# 100 arrays with one output of each observation for X_test\n",
    "probs = np.array(Yt_hat)"
   ]
  },
  {
   "cell_type": "code",
   "execution_count": 64,
   "metadata": {},
   "outputs": [
    {
     "data": {
      "text/plain": [
       "(100,)"
      ]
     },
     "execution_count": 64,
     "metadata": {},
     "output_type": "execute_result"
    }
   ],
   "source": [
    "np.shape(probs[:,1].reshape(-1))"
   ]
  },
  {
   "cell_type": "code",
   "execution_count": 47,
   "metadata": {
    "collapsed": true
   },
   "outputs": [],
   "source": [
    "predictive_mean = np.mean(Yt_hat, axis=0)"
   ]
  },
  {
   "cell_type": "code",
   "execution_count": 48,
   "metadata": {
    "collapsed": true
   },
   "outputs": [],
   "source": [
    "predictive_variance = np.var(Yt_hat, axis = 0)"
   ]
  },
  {
   "cell_type": "code",
   "execution_count": 74,
   "metadata": {},
   "outputs": [
    {
     "data": {
      "image/png": "[encoded data removed]",
      "text/plain": [
       "<matplotlib.figure.Figure at 0x1a2e035860>"
      ]
     },
     "metadata": {},
     "output_type": "display_data"
    }
   ],
   "source": [
    "#Stacked bar histogram of output probabilities\n",
    "plt.figure()\n",
    "x1=probs[:,1].reshape(-1)\n",
    "x2 = probs[:,20].reshape(-1)\n",
    "x3 = probs[:,10].reshape(-1)\n",
    "plt.hist(x1,normed=True)\n",
    "plt.show()"
   ]
  },
  {
   "cell_type": "code",
   "execution_count": 55,
   "metadata": {},
   "outputs": [
    {
     "data": {
      "text/plain": [
       "array([0.50011355, 0.50011355, 0.5001136 , ..., 0.50011355, 0.50011355,\n",
       "       0.50011355], dtype=float32)"
      ]
     },
     "execution_count": 55,
     "metadata": {},
     "output_type": "execute_result"
    }
   ],
   "source": [
    "Yt_hat[1].reshape(-1)"
   ]
  },
  {
   "cell_type": "code",
   "execution_count": null,
   "metadata": {
    "collapsed": true
   },
   "outputs": [],
   "source": []
  }
 ],
 "metadata": {
  "kernelspec": {
   "display_name": "Python 3",
   "language": "python",
   "name": "python3"
  },
  "language_info": {
   "codemirror_mode": {
    "name": "ipython",
    "version": 3
   },
   "file_extension": ".py",
   "mimetype": "text/x-python",
   "name": "python",
   "nbconvert_exporter": "python",
   "pygments_lexer": "ipython3",
   "version": "3.6.3"
  }
 },
 "nbformat": 4,
 "nbformat_minor": 2
}
