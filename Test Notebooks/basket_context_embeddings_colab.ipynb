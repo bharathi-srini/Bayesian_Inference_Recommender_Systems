{
  "nbformat": 4,
  "nbformat_minor": 0,
  "metadata": {
    "colab": {
      "name": "basket_context_embeddings.ipynb",
      "version": "0.3.2",
      "provenance": [],
      "include_colab_link": true
    },
    "kernelspec": {
      "name": "python3",
      "display_name": "Python 3"
    },
    "accelerator": "GPU"
  },
  "cells": [
    {
      "cell_type": "markdown",
      "metadata": {
        "id": "view-in-github",
        "colab_type": "text"
      },
      "source": [
        "<a href=\"https://colab.research.google.com/github/bharathi-srini/Bayesian_Inference_Recommender_Systems/blob/master/basket_context_embeddings_colab.ipynb\" target=\"_parent\"><img src=\"https://colab.research.google.com/assets/colab-badge.svg\" alt=\"Open In Colab\"/></a>"
      ]
    },
    {
      "metadata": {
        "id": "pNvKN12tt_2-",
        "colab_type": "code",
        "colab": {}
      },
      "cell_type": "code",
      "source": [
        "!pip install -q talos"
      ],
      "execution_count": 0,
      "outputs": []
    },
    {
      "metadata": {
        "id": "POu0Lq5ztypS",
        "colab_type": "code",
        "outputId": "6f41bf90-6c80-47fc-ab32-f21f1a6bf5ac",
        "colab": {
          "base_uri": "https://localhost:8080/",
          "height": 88
        }
      },
      "cell_type": "code",
      "source": [
        "from keras.models import Model\n",
        "from keras.layers.core import Dense, Reshape, Lambda\n",
        "from keras.layers import Input, Embedding, concatenate, Multiply\n",
        "from keras import backend as K\n",
        "from keras import optimizers\n",
        "import pandas as pd\n",
        "import numpy as np\n",
        "from sklearn.model_selection import train_test_split\n",
        "from keras import preprocessing\n",
        "from keras.regularizers import l2\n",
        "import random\n",
        "from keras.layers.advanced_activations import LeakyReLU\n",
        "import keras\n",
        "import time\n",
        "import talos"
      ],
      "execution_count": 2,
      "outputs": [
        {
          "output_type": "stream",
          "text": [
            "Using TensorFlow backend.\n",
            "/usr/local/lib/python3.6/dist-packages/statsmodels/compat/pandas.py:56: FutureWarning: The pandas.core.datetools module is deprecated and will be removed in a future version. Please use the pandas.tseries module instead.\n",
            "  from pandas.core import datetools\n"
          ],
          "name": "stderr"
        }
      ]
    },
    {
      "metadata": {
        "id": "sxVWHRIXtypY",
        "colab_type": "code",
        "outputId": "d56f5d2f-05e7-4742-a36b-a28f4873fec8",
        "colab": {
          "base_uri": "https://localhost:8080/",
          "height": 544
        }
      },
      "cell_type": "code",
      "source": [
        "from tensorflow.python.client import device_lib\n",
        "print(device_lib.list_local_devices())"
      ],
      "execution_count": 3,
      "outputs": [
        {
          "output_type": "stream",
          "text": [
            "[name: \"/device:CPU:0\"\n",
            "device_type: \"CPU\"\n",
            "memory_limit: 268435456\n",
            "locality {\n",
            "}\n",
            "incarnation: 8032693382003372332\n",
            ", name: \"/device:XLA_GPU:0\"\n",
            "device_type: \"XLA_GPU\"\n",
            "memory_limit: 17179869184\n",
            "locality {\n",
            "}\n",
            "incarnation: 10542756990309162850\n",
            "physical_device_desc: \"device: XLA_GPU device\"\n",
            ", name: \"/device:XLA_CPU:0\"\n",
            "device_type: \"XLA_CPU\"\n",
            "memory_limit: 17179869184\n",
            "locality {\n",
            "}\n",
            "incarnation: 11606741484732254143\n",
            "physical_device_desc: \"device: XLA_CPU device\"\n",
            ", name: \"/device:GPU:0\"\n",
            "device_type: \"GPU\"\n",
            "memory_limit: 11326753997\n",
            "locality {\n",
            "  bus_id: 1\n",
            "  links {\n",
            "  }\n",
            "}\n",
            "incarnation: 8280643457038445211\n",
            "physical_device_desc: \"device: 0, name: Tesla K80, pci bus id: 0000:00:04.0, compute capability: 3.7\"\n",
            "]\n"
          ],
          "name": "stdout"
        }
      ]
    },
    {
      "metadata": {
        "id": "zn4Mhfpvtypd",
        "colab_type": "code",
        "outputId": "d004fd96-f45e-4759-c941-a6d7768f50b4",
        "colab": {
          "base_uri": "https://localhost:8080/",
          "height": 34
        }
      },
      "cell_type": "code",
      "source": [
        "from google.colab import drive\n",
        "drive.mount('/content/gdrive')"
      ],
      "execution_count": 4,
      "outputs": [
        {
          "output_type": "stream",
          "text": [
            "Drive already mounted at /content/gdrive; to attempt to forcibly remount, call drive.mount(\"/content/gdrive\", force_remount=True).\n"
          ],
          "name": "stdout"
        }
      ]
    },
    {
      "metadata": {
        "id": "0pkJaybU5umt",
        "colab_type": "code",
        "colab": {}
      },
      "cell_type": "code",
      "source": [
        "root_path = 'gdrive/My Drive/BNN_RecSys/'"
      ],
      "execution_count": 0,
      "outputs": []
    },
    {
      "metadata": {
        "id": "9nus2gl-51YC",
        "colab_type": "code",
        "colab": {}
      },
      "cell_type": "code",
      "source": [
        "df_use = pd.read_csv(root_path+\"data_100.csv\")"
      ],
      "execution_count": 0,
      "outputs": []
    },
    {
      "metadata": {
        "id": "_AiI0glctypg",
        "colab_type": "code",
        "outputId": "099bac36-d99b-4695-8b99-02b211c4a824",
        "colab": {
          "base_uri": "https://localhost:8080/",
          "height": 34
        }
      },
      "cell_type": "code",
      "source": [
        "# Number of product IDs available\n",
        "N_products = df_use['product_id'].nunique()\n",
        "N_shoppers = df_use['user_id'].nunique()\n",
        "\n",
        "print(N_products,N_shoppers )"
      ],
      "execution_count": 7,
      "outputs": [
        {
          "output_type": "stream",
          "text": [
            "6018 100\n"
          ],
          "name": "stdout"
        }
      ]
    },
    {
      "metadata": {
        "id": "WjBSFjgztypk",
        "colab_type": "code",
        "colab": {}
      },
      "cell_type": "code",
      "source": [
        "EMBEDDING_COLUMNS = [\"user_id\", \"product_id\"]"
      ],
      "execution_count": 0,
      "outputs": []
    },
    {
      "metadata": {
        "id": "lLQZzWpKtypn",
        "colab_type": "code",
        "colab": {}
      },
      "cell_type": "code",
      "source": [
        "#Helper to index columns before embeddings\n",
        "def val2idx(df, cols):\n",
        "    val_types = dict()\n",
        "    for c in cols:\n",
        "        val_types[c] = df[c].unique()\n",
        "\n",
        "    val_to_idx = dict()\n",
        "    for k, v in val_types.items():\n",
        "        val_to_idx[k] = {o: i for i, o in enumerate(val_types[k])}\n",
        "\n",
        "    for k, v in val_to_idx.items():\n",
        "        df[k] = df[k].apply(lambda x: v[x]+1)\n",
        "\n",
        "    unique_vals = dict()\n",
        "    for c in cols:\n",
        "        unique_vals[c] = df[c].nunique()\n",
        "\n",
        "    return df, unique_vals"
      ],
      "execution_count": 0,
      "outputs": []
    },
    {
      "metadata": {
        "id": "dLJJr51ltypp",
        "colab_type": "code",
        "colab": {}
      },
      "cell_type": "code",
      "source": [
        "df_deep, unique_vals = val2idx(df_use, EMBEDDING_COLUMNS)"
      ],
      "execution_count": 0,
      "outputs": []
    },
    {
      "metadata": {
        "id": "ffpxQKAKtypr",
        "colab_type": "code",
        "outputId": "f1c6bc51-af8a-4d26-cb95-2497ab8451ee",
        "colab": {
          "base_uri": "https://localhost:8080/",
          "height": 34
        }
      },
      "cell_type": "code",
      "source": [
        "df_deep.shape"
      ],
      "execution_count": 11,
      "outputs": [
        {
          "output_type": "execute_result",
          "data": {
            "text/plain": [
              "(39973, 14)"
            ]
          },
          "metadata": {
            "tags": []
          },
          "execution_count": 11
        }
      ]
    },
    {
      "metadata": {
        "id": "H2wyWuHttypv",
        "colab_type": "code",
        "colab": {}
      },
      "cell_type": "code",
      "source": [
        "def first_prod(order):\n",
        "    for _,row in order.iterrows():\n",
        "        if row['add_to_cart_order']==1:\n",
        "            return row['product_id']"
      ],
      "execution_count": 0,
      "outputs": []
    },
    {
      "metadata": {
        "id": "2HB0i5MAtypz",
        "colab_type": "code",
        "colab": {}
      },
      "cell_type": "code",
      "source": [
        "def next_prod(order):\n",
        "    for _,row in order.iterrows():\n",
        "        if row['add_to_cart_order']==2:\n",
        "            return row['product_id']"
      ],
      "execution_count": 0,
      "outputs": []
    },
    {
      "metadata": {
        "id": "FtuIfaBbtyp9",
        "colab_type": "code",
        "colab": {}
      },
      "cell_type": "code",
      "source": [
        "def transform_data_for_embedding(df):\n",
        "    first = df.groupby(['order_id']).apply(first_prod)\n",
        "    next_product = df.groupby(['order_id']).apply(lambda x:next_prod(x))\n",
        "    basket =df.groupby(['order_id', 'product_id']).size().unstack(fill_value=0)\n",
        "    transform_df = pd.DataFrame(first, columns = ['first_prod'])\n",
        "    transform_df['next_product']= next_product.values\n",
        "    transform_df.reset_index(inplace=True)\n",
        "\n",
        "    # Number of product IDs available\n",
        "    N_products = df['product_id'].nunique()\n",
        "    N_shoppers = df['user_id'].nunique()\n",
        "\n",
        "    return transform_df, basket, N_products, N_shoppers"
      ],
      "execution_count": 0,
      "outputs": []
    },
    {
      "metadata": {
        "id": "Wm6TNj0ltyqA",
        "colab_type": "code",
        "outputId": "2fce14ec-774d-4740-a282-cc754b8c57e1",
        "colab": {
          "base_uri": "https://localhost:8080/",
          "height": 51
        }
      },
      "cell_type": "code",
      "source": [
        "%time\n",
        "df1, basket, N_products, N_shoppers = transform_data_for_embedding(df_deep)"
      ],
      "execution_count": 15,
      "outputs": [
        {
          "output_type": "stream",
          "text": [
            "CPU times: user 4 µs, sys: 1e+03 ns, total: 5 µs\n",
            "Wall time: 9.3 µs\n"
          ],
          "name": "stdout"
        }
      ]
    },
    {
      "metadata": {
        "id": "ptWS-iyLtyqE",
        "colab_type": "code",
        "colab": {}
      },
      "cell_type": "code",
      "source": [
        "def create_input_for_embed_network(df, transform_df, basket, N_products):\n",
        "\n",
        "    # Creating df with order_id, user_id, first prod, next prod, basket \n",
        "    x = df.drop_duplicates(subset=['order_id','user_id'])\n",
        "    train_df = pd.merge(transform_df, x[['order_id','user_id']], how='left', on='order_id' )\n",
        "    train_df.dropna(inplace=True)\n",
        "    \n",
        "    basket.reset_index(inplace=True)\n",
        "    basket_df = pd.merge(train_df[['order_id']], basket, how='left', on ='order_id')\n",
        "    basket_df.drop(['order_id'], axis=1, inplace=True)\n",
        "\n",
        "    train_df['next_product'] = train_df['next_product'].astype('category', categories = df.product_id.unique())\n",
        "    y_df = pd.get_dummies(train_df, columns = ['next_product'])\n",
        "    y_df.drop(['user_id','order_id','first_prod'], axis=1, inplace=True)\n",
        "\n",
        "    return train_df['first_prod'], train_df['user_id'], basket_df, y_df"
      ],
      "execution_count": 0,
      "outputs": []
    },
    {
      "metadata": {
        "id": "lR3J8MF6tyqH",
        "colab_type": "code",
        "colab": {
          "base_uri": "https://localhost:8080/",
          "height": 34
        },
        "outputId": "79a6a90b-2eb4-4828-acec-1af71c1f0ecb"
      },
      "cell_type": "code",
      "source": [
        "time_start = time.clock()\n",
        "product_in , user_in, basket_in, predicted_product = create_input_for_embed_network(df_deep, df1, basket, N_products)\n",
        "print(time.clock() - time_start)"
      ],
      "execution_count": 17,
      "outputs": [
        {
          "output_type": "stream",
          "text": [
            "1.3297930000000004\n"
          ],
          "name": "stdout"
        }
      ]
    },
    {
      "metadata": {
        "id": "iMvqOvYQtyqL",
        "colab_type": "code",
        "colab": {
          "base_uri": "https://localhost:8080/",
          "height": 34
        },
        "outputId": "31755d4f-6c95-463c-c07f-5c30d196e503"
      },
      "cell_type": "code",
      "source": [
        "print(user_in.shape, product_in.shape, basket_in.shape, predicted_product.shape)\n",
        "\n",
        "product_tr, product_te, predicted_tr, predicted_te, index_train, index_test = train_test_split(product_in, predicted_product,product_in.index, test_size=0.20,\\\n",
        "                                                                    random_state=42)"
      ],
      "execution_count": 18,
      "outputs": [
        {
          "output_type": "stream",
          "text": [
            "(3329,) (3329,) (3329, 6018) (3329, 6018)\n"
          ],
          "name": "stdout"
        }
      ]
    },
    {
      "metadata": {
        "id": "bWiEu-EmtyqP",
        "colab_type": "code",
        "colab": {}
      },
      "cell_type": "code",
      "source": [
        "user_tr = user_in[index_train]\n",
        "user_te = user_in[index_test]\n",
        "\n",
        "basket_tr = basket_in.loc[index_train]\n",
        "basket_te = basket_in.loc[index_test]"
      ],
      "execution_count": 0,
      "outputs": []
    },
    {
      "metadata": {
        "id": "Qw8DeOK3tyqS",
        "colab_type": "code",
        "colab": {
          "base_uri": "https://localhost:8080/",
          "height": 88
        },
        "outputId": "7489d199-f942-4540-a6aa-1875a093ad2f"
      },
      "cell_type": "code",
      "source": [
        "# Integer IDs representing 1-hot encodings\n",
        "prior_in = Input(shape=(1,))\n",
        "shopper_in = Input(shape=(1,))\n",
        "\n",
        "# Dense N-hot encoding for candidate products\n",
        "candidates_in = Input(shape=(N_products,))\n",
        "\n",
        "# Embeddings\n",
        "prior = Embedding(N_products+1, 10)(prior_in)\n",
        "shopper = Embedding(N_shoppers+1, 10)(shopper_in)\n",
        "\n",
        "# Reshape and merge all embeddings together\n",
        "reshape = Reshape(target_shape=(10,))\n",
        "combined = keras.layers.concatenate([reshape(prior), reshape(shopper)])\n",
        "\n",
        "# Hidden layers\n",
        "#hidden_1 = Dense(1024, activation='relu',W_regularizer=l2(0.02))(combined)\n",
        "#hidden_2 = Dense(512, activation='relu',W_regularizer=l2(0.02))(hidden_1)\n",
        "hidden_3 = Dense(256, activation='relu')(combined)\n",
        "hidden_4 = Dense(128, activation='relu')(hidden_3)\n",
        "\n",
        "# Final 'fan-out' into the space of future products\n",
        "final = Dense(N_products, activation='relu')(hidden_4)\n",
        "#LR_final = LeakyReLU(alpha=0.1)(final)\n",
        "\n",
        "# Ensure we do not overflow when we exponentiate\n",
        "final = Lambda(lambda x: x - K.max(x))(final)\n",
        "\n",
        "# Masked soft-max using Lambda and merge-multiplication\n",
        "exponentiate = Lambda(lambda x: K.exp(x))(final)\n",
        "masked = keras.layers.multiply([exponentiate, candidates_in])\n",
        "predicted = Lambda(lambda x: x / K.sum(x))(masked)\n",
        "\n",
        "# Compile with categorical crossentropy and adam\n",
        "mdl = Model(input=[prior_in , shopper_in, candidates_in],\n",
        "            output=predicted)\n",
        "mdl.compile(loss='categorical_crossentropy', \n",
        "            optimizer=optimizers.Adam(lr=0.00001, clipnorm = 1.0, amsgrad=False),\n",
        "            metrics=['accuracy'])"
      ],
      "execution_count": 20,
      "outputs": [
        {
          "output_type": "stream",
          "text": [
            "WARNING:tensorflow:From /usr/local/lib/python3.6/dist-packages/tensorflow/python/framework/op_def_library.py:263: colocate_with (from tensorflow.python.framework.ops) is deprecated and will be removed in a future version.\n",
            "Instructions for updating:\n",
            "Colocations handled automatically by placer.\n"
          ],
          "name": "stdout"
        }
      ]
    },
    {
      "metadata": {
        "id": "G04st4BJtyqU",
        "colab_type": "code",
        "colab": {
          "base_uri": "https://localhost:8080/",
          "height": 156
        },
        "outputId": "242beb68-8e1c-4ae0-9c72-448d4b6526c7"
      },
      "cell_type": "code",
      "source": [
        "start = time.clock()\n",
        "out = mdl.fit([product_tr , user_tr, basket_tr], predicted_tr ,batch_size=512,\n",
        "                    epochs=100,\n",
        "                    verbose=0,\n",
        "                    validation_data=[[product_te , user_te, basket_te], predicted_te])\n",
        "print(time.clock() - start)"
      ],
      "execution_count": 21,
      "outputs": [
        {
          "output_type": "stream",
          "text": [
            "WARNING:tensorflow:From /usr/local/lib/python3.6/dist-packages/tensorflow/python/ops/math_ops.py:3066: to_int32 (from tensorflow.python.ops.math_ops) is deprecated and will be removed in a future version.\n",
            "Instructions for updating:\n",
            "Use tf.cast instead.\n",
            "WARNING:tensorflow:From /usr/local/lib/python3.6/dist-packages/tensorflow/python/ops/math_grad.py:102: div (from tensorflow.python.ops.math_ops) is deprecated and will be removed in a future version.\n",
            "Instructions for updating:\n",
            "Deprecated in favor of operator or tf.math.divide.\n",
            "92.030412\n"
          ],
          "name": "stdout"
        }
      ]
    },
    {
      "metadata": {
        "id": "hviWgwYstyqX",
        "colab_type": "code",
        "colab": {
          "base_uri": "https://localhost:8080/",
          "height": 150
        },
        "outputId": "22b22ebc-ea95-4f94-b692-c9bfdbabc1d0"
      },
      "cell_type": "code",
      "source": [
        "def embeddings_model(prior_val=product_te , shopper_val=user_te, candidates_val=basket_te,\\\n",
        "                     predicted_val=predicted_te,prior_in , shopper_in, candidates_in, predicted, params):\n",
        "    # Integer IDs representing 1-hot encodings\n",
        "    prior_in = Input(shape=(1,))\n",
        "    shopper_in = Input(shape=(1,))\n",
        "\n",
        "    # Dense N-hot encoding for candidate products\n",
        "    candidates_in = Input(shape=(N_products,))\n",
        "\n",
        "    # Embeddings\n",
        "    prior = Embedding(N_products+1, 10)(prior_in)\n",
        "    shopper = Embedding(N_shoppers+1, 10)(shopper_in)\n",
        "\n",
        "    # Reshape and merge all embeddings together\n",
        "    reshape = Reshape(target_shape=(10,))\n",
        "    combined = keras.layers.concatenate([reshape(prior), reshape(shopper)])\n",
        "\n",
        "    # Hidden layers\n",
        "    hidden_1 = Dense(params['first_neuron'], activation=params['activation'])(combined)\n",
        "    hidden_2 = Dense(params['second_neuron'], activation=params['activation'])(hidden_1)\n",
        "\n",
        "    # Final 'fan-out' into the space of future products\n",
        "    final = Dense(N_products, activation='relu')(hidden_4)\n",
        "\n",
        "    # Ensure we do not overflow when we exponentiate\n",
        "    final = Lambda(lambda x: x - K.max(x))(final)\n",
        "\n",
        "    # Masked soft-max using Lambda and merge-multiplication\n",
        "    exponentiate = Lambda(lambda x: K.exp(x))(final)\n",
        "    masked = keras.layers.multiply([exponentiate, candidates_in])\n",
        "    predicted = Lambda(lambda x: x / K.sum(x))(masked)\n",
        "\n",
        "    # Compile with categorical crossentropy and adam\n",
        "    mdl = Model(input=[prior_in , shopper_in, candidates_in],\n",
        "            output=predicted)\n",
        "    mdl.compile(loss='categorical_crossentropy',\\\n",
        "            optimizer=params['optimizer'](lr=lr_normalizer(params['lr'], params['optimizer'])),\n",
        "            metrics=['accuracy'])\n",
        "    \n",
        "    out = model.fit([prior_in , shopper_in, candidates_in], predicted,batch_size=params['batch_size'],\n",
        "                    epochs=params['epochs'],\n",
        "                    verbose=0,\n",
        "                    validation_data=[[product_val , user_val, basket_val], predicted_val])\n",
        "    \n",
        "    return out, mdl"
      ],
      "execution_count": 22,
      "outputs": [
        {
          "output_type": "error",
          "ename": "SyntaxError",
          "evalue": "ignored",
          "traceback": [
            "\u001b[0;36m  File \u001b[0;32m\"<ipython-input-22-5a67d41953c9>\"\u001b[0;36m, line \u001b[0;32m1\u001b[0m\n\u001b[0;31m    def embeddings_model(prior_val=product_te , shopper_val=user_te, candidates_val=basket_te,                     predicted_val=predicted_te,prior_in , shopper_in, candidates_in, predicted, params):\u001b[0m\n\u001b[0m                        ^\u001b[0m\n\u001b[0;31mSyntaxError\u001b[0m\u001b[0;31m:\u001b[0m non-default argument follows default argument\n"
          ]
        }
      ]
    },
    {
      "metadata": {
        "id": "9MW4EYq8tyqa",
        "colab_type": "code",
        "colab": {}
      },
      "cell_type": "code",
      "source": [
        "p = {'lr': (0.1, 1, 10),\n",
        "     'first_neuron':[512, 256, 128],\n",
        "     'second_neuron':[256, 128, 64],\n",
        "     'batch_size': [100, 1000, 10000],\n",
        "     'epochs': [25, 50, 100],\n",
        "     'dropout': (0, 0.10, 0.2),\n",
        "     'optimizer': [Adam, Nadam],\n",
        "     'loss': ['categorical_crossentropy'],\n",
        "     'activation': ['relu', 'softplus','tanh']}"
      ],
      "execution_count": 0,
      "outputs": []
    },
    {
      "metadata": {
        "id": "23y8p2vKtyqc",
        "colab_type": "code",
        "colab": {}
      },
      "cell_type": "code",
      "source": [
        "h = ta.Scan([product_tr , user_tr, basket_tr], predicted_tr, params=p,\n",
        "            model=embeddings_model,\n",
        "            dataset_name='instacrt',\n",
        "            experiment_no='1',\n",
        "            grid_downsample=.01)"
      ],
      "execution_count": 0,
      "outputs": []
    },
    {
      "metadata": {
        "id": "M9EkCXMY2p3O",
        "colab_type": "code",
        "colab": {}
      },
      "cell_type": "code",
      "source": [
        "!apt-get install -y -qq software-properties-common python-software-properties module-init-tools\n",
        "!add-apt-repository -y ppa:alessandro-strada/ppa 2>&1 > /dev/null\n",
        "!apt-get update -qq 2>&1 > /dev/null\n",
        "!apt-get -y install -qq google-drive-ocamlfuse fuse\n",
        "from google.colab import auth\n",
        "auth.authenticate_user()\n",
        "from oauth2client.client import GoogleCredentials\n",
        "creds = GoogleCredentials.get_application_default()\n",
        "import getpass\n",
        "!google-drive-ocamlfuse -headless -id={creds.client_id} -secret={creds.client_secret} < /dev/null 2>&1 | grep URL\n",
        "vcode = getpass.getpass()\n",
        "!echo {vcode} | google-drive-ocamlfuse -headless -id={creds.client_id} -secret={creds.client_secret}"
      ],
      "execution_count": 0,
      "outputs": []
    },
    {
      "metadata": {
        "id": "D097BBtb228i",
        "colab_type": "code",
        "colab": {}
      },
      "cell_type": "code",
      "source": [
        "!mkdir -p drive\n",
        "!google-drive-ocamlfuse drive"
      ],
      "execution_count": 0,
      "outputs": []
    },
    {
      "metadata": {
        "id": "AonKZcOz26i4",
        "colab_type": "code",
        "colab": {
          "base_uri": "https://localhost:8080/",
          "height": 34
        },
        "outputId": "86838b88-c39e-4c47-94f6-6dd7d9fd23c9"
      },
      "cell_type": "code",
      "source": [
        "model_json = mdl.to_json()\n",
        "with open(\"drive/BNN_RecSys/NN_embed_model.json\", \"w\") as json_file:\n",
        "    json_file.write(model_json)\n",
        "# serialize weights to HDF5\n",
        "mdl.save_weights(\"drive/BNN_RecSys/NN_embed_model_weights.h5\")\n",
        "print(\"Saved model to drive\")"
      ],
      "execution_count": 24,
      "outputs": [
        {
          "output_type": "stream",
          "text": [
            "Saved model to drive\n"
          ],
          "name": "stdout"
        }
      ]
    },
    {
      "metadata": {
        "id": "x0Z3f6Kctyqh",
        "colab_type": "code",
        "colab": {
          "base_uri": "https://localhost:8080/",
          "height": 347
        },
        "outputId": "ea0239ac-fb0e-4238-be7a-d9cc7e523dac"
      },
      "cell_type": "code",
      "source": [
        "import matplotlib.pyplot as plt\n",
        "plt.figure()\n",
        "plt.plot(out.history['acc'])\n",
        "plt.show()"
      ],
      "execution_count": 25,
      "outputs": [
        {
          "output_type": "display_data",
          "data": {
            "image/png": "[encoded data removed]",
            "text/plain": [
              "<Figure size 576x396 with 1 Axes>"
            ]
          },
          "metadata": {
            "tags": []
          }
        }
      ]
    }
  ]
}